{
 "cells": [
  {
   "cell_type": "markdown",
   "metadata": {
    "id": "RkQzXPCXUxme"
   },
   "source": [
    "# **Setup**"
   ]
  },
  {
   "cell_type": "code",
   "execution_count": 66,
   "metadata": {},
   "outputs": [],
   "source": [
    "from sklearn.ensemble import RandomForestClassifier\n",
    "from sklearn.svm import SVC\n",
    "from sklearn.naive_bayes import GaussianNB\n",
    "from sklearn.naive_bayes import MultinomialNB\n",
    "from sklearn.naive_bayes import BernoulliNB\n",
    "from sklearn.ensemble import AdaBoostClassifier\n",
    "from sklearn.ensemble import StackingClassifier\n",
    "from sklearn.neighbors import KNeighborsClassifier\n",
    "from sklearn.tree import DecisionTreeClassifier\n",
    "from sklearn.linear_model import LogisticRegression\n",
    "from sklearn.neural_network import MLPClassifier\n",
    "from sklearn.naive_bayes import MultinomialNB\n",
    "from sklearn.linear_model import LogisticRegression\n",
    "from sklearn.ensemble import GradientBoostingClassifier\n",
    "from matplotlib import pyplot as plt\n",
    "from sklearn.svm import OneClassSVM\n",
    "\n",
    "from sklearn.metrics import accuracy_score\n",
    "from sklearn.metrics import roc_auc_score\n",
    "from sklearn.metrics import f1_score\n",
    "from sklearn.metrics import recall_score\n",
    "from sklearn.metrics import precision_score\n",
    "from sklearn.metrics import confusion_matrix\n",
    "from sklearn.model_selection import cross_val_score\n",
    "from sklearn import metrics\n",
    "from sklearn.inspection import permutation_importance\n",
    "from matplotlib import pyplot as plt\n",
    "\n",
    "from sklearn.metrics import plot_roc_curve\n",
    "from sklearn.decomposition import PCA\n",
    "from matplotlib.pyplot import figure\n",
    "from sklearn.model_selection import GridSearchCV\n",
    "from sklearn.pipeline import Pipeline\n",
    "from sklearn.model_selection import StratifiedShuffleSplit\n",
    "\n",
    "import pandas as pd\n",
    "import numpy as np"
   ]
  },
  {
   "cell_type": "code",
   "execution_count": 67,
   "metadata": {},
   "outputs": [],
   "source": [
    "df = pd.read_csv('preprocessed_spam_ham_phishing.csv')"
   ]
  },
  {
   "cell_type": "markdown",
   "metadata": {},
   "source": [
    "**Remove phishing emails, only consider ham and spam:**"
   ]
  },
  {
   "cell_type": "code",
   "execution_count": 68,
   "metadata": {},
   "outputs": [
    {
     "name": "stdout",
     "output_type": "stream",
     "text": [
      "(75419, 95)\n"
     ]
    }
   ],
   "source": [
    "df = df[df['label'] != 2]\n",
    "print(df.shape)"
   ]
  },
  {
   "cell_type": "code",
   "execution_count": 69,
   "metadata": {},
   "outputs": [
    {
     "data": {
      "text/plain": [
       "1    50199\n",
       "0    25220\n",
       "Name: label, dtype: int64"
      ]
     },
     "execution_count": 69,
     "metadata": {},
     "output_type": "execute_result"
    }
   ],
   "source": [
    "df['label'].value_counts()"
   ]
  },
  {
   "cell_type": "code",
   "execution_count": 70,
   "metadata": {},
   "outputs": [
    {
     "name": "stdout",
     "output_type": "stream",
     "text": [
      "(25220, 95)\n",
      "(50199, 95)\n"
     ]
    }
   ],
   "source": [
    "df_ham = df[df['label'] == 0]\n",
    "df_spam = df[df['label'] == 1]\n",
    "print(df_ham.shape)\n",
    "print(df_spam.shape)"
   ]
  },
  {
   "cell_type": "code",
   "execution_count": 71,
   "metadata": {},
   "outputs": [],
   "source": [
    "df_ham_Y = df_ham['label']\n",
    "df_ham_X = df_ham.drop('label', axis=1)"
   ]
  },
  {
   "cell_type": "markdown",
   "metadata": {},
   "source": [
    "**Take 50% of the ham emails to be used for training:**"
   ]
  },
  {
   "cell_type": "code",
   "execution_count": 72,
   "metadata": {},
   "outputs": [],
   "source": [
    "from sklearn.model_selection import train_test_split\n",
    "\n",
    "X_train, X_test_ham, y_train, y_test_ham = train_test_split(df_ham_X, df_ham_Y, test_size=0.50, random_state=42)"
   ]
  },
  {
   "cell_type": "code",
   "execution_count": 73,
   "metadata": {},
   "outputs": [
    {
     "name": "stdout",
     "output_type": "stream",
     "text": [
      "(12610, 94)\n",
      "(12610, 94)\n",
      "(12610,)\n"
     ]
    }
   ],
   "source": [
    "print(X_train.shape)\n",
    "print(X_test_ham.shape)\n",
    "print(y_test_ham.shape)"
   ]
  },
  {
   "cell_type": "markdown",
   "metadata": {},
   "source": [
    "**Get the test set of spam emails, which contains the same number of emails as ham test (12,610):**"
   ]
  },
  {
   "cell_type": "code",
   "execution_count": 74,
   "metadata": {},
   "outputs": [],
   "source": [
    "df_spam_Y = df_spam['label']\n",
    "df_spam_X = df_spam.drop('label', axis=1)"
   ]
  },
  {
   "cell_type": "code",
   "execution_count": 75,
   "metadata": {},
   "outputs": [
    {
     "name": "stdout",
     "output_type": "stream",
     "text": [
      "(50199,)\n",
      "(50199, 94)\n"
     ]
    }
   ],
   "source": [
    "print(df_spam_Y.shape)\n",
    "print(df_spam_X.shape)"
   ]
  },
  {
   "cell_type": "code",
   "execution_count": 76,
   "metadata": {},
   "outputs": [],
   "source": [
    "_, X_test_spam, _, y_test_spam = train_test_split(df_spam_X, df_spam_Y, test_size=12610, random_state=42)"
   ]
  },
  {
   "cell_type": "code",
   "execution_count": 77,
   "metadata": {},
   "outputs": [
    {
     "name": "stdout",
     "output_type": "stream",
     "text": [
      "(12610, 94)\n",
      "(12610,)\n"
     ]
    }
   ],
   "source": [
    "print(X_test_spam.shape)\n",
    "print(y_test_spam.shape)"
   ]
  },
  {
   "cell_type": "markdown",
   "metadata": {},
   "source": [
    "**Combine the test set of spam and ham emails into one:**"
   ]
  },
  {
   "cell_type": "code",
   "execution_count": 78,
   "metadata": {},
   "outputs": [],
   "source": [
    "test_X = X_test_ham.append(X_test_spam, ignore_index=True)\n",
    "test_Y = y_test_ham.append(y_test_spam, ignore_index=True)"
   ]
  },
  {
   "cell_type": "code",
   "execution_count": 79,
   "metadata": {},
   "outputs": [
    {
     "name": "stdout",
     "output_type": "stream",
     "text": [
      "(25220, 94)\n",
      "(25220,)\n"
     ]
    }
   ],
   "source": [
    "print(test_X.shape)\n",
    "print(test_Y.shape)"
   ]
  },
  {
   "cell_type": "code",
   "execution_count": 80,
   "metadata": {},
   "outputs": [],
   "source": [
    "features_list = test_X.columns"
   ]
  },
  {
   "cell_type": "markdown",
   "metadata": {},
   "source": [
    "**OC-SVM predicts either 1 or -1, so need to adjust labels:**"
   ]
  },
  {
   "cell_type": "code",
   "execution_count": 81,
   "metadata": {},
   "outputs": [],
   "source": [
    "test_Y = pd.DataFrame(test_Y, columns=['label'])\n",
    "test_Y.loc[test_Y['label'] == 1, 'label'] = -1\n",
    "test_Y.loc[test_Y['label'] == 0, 'label'] = 1"
   ]
  },
  {
   "cell_type": "code",
   "execution_count": 82,
   "metadata": {},
   "outputs": [
    {
     "data": {
      "text/plain": [
       "label\n",
       " 1       12610\n",
       "-1       12610\n",
       "dtype: int64"
      ]
     },
     "execution_count": 82,
     "metadata": {},
     "output_type": "execute_result"
    }
   ],
   "source": [
    "test_Y.value_counts()"
   ]
  },
  {
   "cell_type": "markdown",
   "metadata": {
    "id": "ZfqcyuLalhxp"
   },
   "source": [
    "**Apply a standard scaler to the full data set:**"
   ]
  },
  {
   "cell_type": "code",
   "execution_count": 83,
   "metadata": {
    "id": "j6TAQHBjlhJ6"
   },
   "outputs": [],
   "source": [
    "from sklearn.preprocessing import StandardScaler\n",
    "\n",
    "scaler = StandardScaler()\n",
    "\n",
    "scaler.fit(test_X)\n",
    "test_X = scaler.transform(test_X)\n",
    "test_X = pd.DataFrame(test_X, columns=features_list)\n",
    "\n",
    "scaler.fit(X_train)\n",
    "X_train = scaler.transform(X_train)\n",
    "X_train = pd.DataFrame(X_train, columns=features_list)"
   ]
  },
  {
   "cell_type": "markdown",
   "metadata": {},
   "source": [
    "# **Feature Selection:**"
   ]
  },
  {
   "cell_type": "code",
   "execution_count": 84,
   "metadata": {},
   "outputs": [],
   "source": [
    "feature_list = test_X.columns"
   ]
  },
  {
   "cell_type": "code",
   "execution_count": 18,
   "metadata": {},
   "outputs": [
    {
     "name": "stdout",
     "output_type": "stream",
     "text": [
      "Top features sorted:\n",
      "Feature: lines, Score: 0.012728\n",
      "Feature: content-length, Score: 0.012490\n",
      "Feature: domain_match_errors-to_sender, Score: 0.006305\n",
      "Feature: str_precedence_list, Score: 0.005948\n",
      "Feature: span_time, Score: 0.005829\n",
      "Feature: str_return-path_bounce, Score: 0.005630\n",
      "Feature: hops, Score: 0.005234\n",
      "Feature: missing_list-subscribe, Score: 0.005075\n",
      "Feature: missing_list-post, Score: 0.005075\n",
      "Feature: missing_list-id, Score: 0.005075\n",
      "Feature: missing_list-help, Score: 0.005075\n",
      "Feature: domain_match_to_received, Score: 0.004798\n",
      "Feature: missing_precedence, Score: 0.004718\n",
      "Feature: missing_list-unsubscribe, Score: 0.004718\n",
      "Feature: missing_received-spf, Score: 0.003767\n",
      "Feature: missing_x-spam-check-by, Score: 0.003688\n",
      "Feature: missing_mailing-list, Score: 0.003688\n",
      "Feature: domain_match_from_return-path, Score: 0.003172\n",
      "Feature: number_replies, Score: 0.002538\n",
      "Feature: missing_x-mailing-list, Score: 0.002339\n",
      "Feature: missing_references, Score: 0.002300\n",
      "Feature: day_of_week, Score: 0.002141\n",
      "Feature: missing_status, Score: 0.002022\n",
      "Feature: missing_content-length, Score: 0.002022\n",
      "Feature: missing_content-disposition, Score: 0.001626\n",
      "Feature: missing_x-mailer, Score: 0.001546\n",
      "Feature: missing_lines, Score: 0.001546\n",
      "Feature: missing_x-mimeole, Score: 0.001507\n",
      "Feature: missing_cc, Score: 0.001427\n",
      "Feature: domain_match_to_message-id, Score: 0.001427\n",
      "Feature: missing_in-reply-to, Score: 0.001348\n",
      "Feature: domain_match_errors-to_from, Score: 0.001269\n",
      "Feature: missing_user-agent, Score: 0.001229\n",
      "Feature: domain_match_to_from, Score: 0.001229\n",
      "Feature: missing_x-spam-status, Score: 0.001190\n",
      "Feature: domain_match_errors-to_message-id, Score: 0.001110\n",
      "Feature: num_recipients_cc, Score: 0.001031\n",
      "Feature: domain_match_message-id_sender, Score: 0.001031\n",
      "Feature: domain_match_errors-to_reply-to, Score: 0.000991\n",
      "Feature: conseq_received_bad, Score: 0.000952\n",
      "Feature: domain_match_sender_from, Score: 0.000912\n",
      "Feature: time_zone, Score: 0.000872\n",
      "Feature: missing_thread-index, Score: 0.000833\n",
      "Feature: missing_mime-version, Score: 0.000833\n",
      "Feature: domain_match_from_reply-to, Score: 0.000833\n",
      "Feature: conseq_received_good, Score: 0.000634\n",
      "Feature: missing_x-msmail-priority, Score: 0.000515\n",
      "Feature: domain_match_message-id_reply-to, Score: 0.000476\n",
      "Feature: domain_match_return-path_reply-to, Score: 0.000436\n",
      "Feature: str_content-encoding_empty, Score: 0.000397\n",
      "Feature: missing_content-transfer-encoding, Score: 0.000397\n",
      "Feature: domain_match_reply-to_to, Score: 0.000397\n",
      "Feature: domain_val_message-id, Score: 0.000357\n",
      "Feature: str_message-ID_dollar, Score: 0.000317\n",
      "Feature: missing_x-priority, Score: 0.000159\n",
      "Feature: missing_domainkey-signature, Score: 0.000119\n",
      "Feature: missing_content-type, Score: 0.000119\n",
      "Feature: email_match_from_reply-to, Score: 0.000079\n",
      "Feature: str_content-type_texthtml, Score: 0.000040\n",
      "Feature: missing_x-miltered, Score: 0.000040\n",
      "Feature: content-encoding-val, Score: 0.000040\n",
      "Feature: str_to_empty, Score: 0.000000\n",
      "Feature: str_from_question, Score: 0.000000\n",
      "Feature: received_str_forged, Score: 0.000000\n",
      "Feature: missing_x-uuid, Score: 0.000000\n",
      "Feature: missing_to, Score: 0.000000\n",
      "Feature: missing_subject, Score: 0.000000\n",
      "Feature: domain_match_references_reply-to, Score: -0.000040\n",
      "Feature: domain_match_message-id_return-path, Score: -0.000079\n",
      "Feature: x-priority, Score: -0.000119\n",
      "Feature: missing_x-virus-status, Score: -0.000159\n",
      "Feature: domain_match_references_in-reply-to, Score: -0.000357\n",
      "Feature: num_recipients_to, Score: -0.000555\n",
      "Feature: domain_match_references_to, Score: -0.000555\n",
      "Feature: missing_x-virus-scanned, Score: -0.000674\n",
      "Feature: domain_match_to_in-reply-to, Score: -0.000714\n",
      "Feature: missing_sender, Score: -0.000793\n",
      "Feature: date_comp_date_received, Score: -0.000793\n",
      "Feature: missing_list-archive, Score: -0.000991\n",
      "Feature: missing_errors-to, Score: -0.000991\n",
      "Feature: length_from, Score: -0.000991\n",
      "Feature: missing_x-beenthere, Score: -0.001110\n",
      "Feature: conseq_received_date, Score: -0.001110\n",
      "Feature: domain_match_message-id_from, Score: -0.001269\n",
      "Feature: conseq_num_received_is_one, Score: -0.001308\n",
      "Feature: missing_x-spam-level, Score: -0.001546\n",
      "Feature: missing_x-mailman-version, Score: -0.001705\n",
      "Feature: missing_reply-to, Score: -0.001943\n",
      "Feature: missing_delivered-to, Score: -0.002260\n",
      "Feature: missing_importance, Score: -0.003172\n",
      "Feature: missing_x-spam-checker-version, Score: -0.003251\n",
      "Feature: str_to_chevron, Score: -0.003331\n",
      "Feature: missing_x-original-to, Score: -0.004282\n",
      "Feature: str_from_chevron, Score: -0.005472\n",
      "'lines',\n",
      "'content-length',\n",
      "'domain_match_errors-to_sender',\n",
      "'str_precedence_list',\n",
      "'span_time',\n",
      "'str_return-path_bounce',\n",
      "'hops',\n",
      "'missing_list-subscribe',\n",
      "'missing_list-post',\n",
      "'missing_list-id',\n",
      "'missing_list-help',\n",
      "'domain_match_to_received',\n",
      "'missing_precedence',\n",
      "'missing_list-unsubscribe',\n",
      "'missing_received-spf',\n",
      "'missing_x-spam-check-by',\n",
      "'missing_mailing-list',\n",
      "'domain_match_from_return-path',\n",
      "'number_replies',\n",
      "'missing_x-mailing-list',\n",
      "'missing_references',\n",
      "'day_of_week',\n",
      "'missing_status',\n",
      "'missing_content-length',\n",
      "'missing_content-disposition',\n",
      "'missing_x-mailer',\n",
      "'missing_lines',\n",
      "'missing_x-mimeole',\n",
      "'missing_cc',\n",
      "'domain_match_to_message-id',\n",
      "'missing_in-reply-to',\n",
      "'domain_match_errors-to_from',\n",
      "'missing_user-agent',\n",
      "'domain_match_to_from',\n",
      "'missing_x-spam-status',\n",
      "'domain_match_errors-to_message-id',\n",
      "'num_recipients_cc',\n",
      "'domain_match_message-id_sender',\n",
      "'domain_match_errors-to_reply-to',\n",
      "'conseq_received_bad',\n",
      "'domain_match_sender_from',\n",
      "'time_zone',\n",
      "'missing_thread-index',\n",
      "'missing_mime-version',\n",
      "'domain_match_from_reply-to',\n",
      "'conseq_received_good',\n",
      "'missing_x-msmail-priority',\n",
      "'domain_match_message-id_reply-to',\n",
      "'domain_match_return-path_reply-to',\n",
      "'str_content-encoding_empty',\n",
      "'missing_content-transfer-encoding',\n",
      "'domain_match_reply-to_to',\n",
      "'domain_val_message-id',\n",
      "'str_message-ID_dollar',\n",
      "'missing_x-priority',\n",
      "'missing_domainkey-signature',\n",
      "'missing_content-type',\n",
      "'email_match_from_reply-to',\n",
      "'str_content-type_texthtml',\n",
      "'missing_x-miltered',\n",
      "'content-encoding-val',\n",
      "'str_to_empty',\n",
      "'str_from_question',\n",
      "'received_str_forged',\n",
      "'missing_x-uuid',\n",
      "'missing_to',\n",
      "'missing_subject',\n",
      "'domain_match_references_reply-to',\n",
      "'domain_match_message-id_return-path',\n",
      "'x-priority',\n",
      "'missing_x-virus-status',\n",
      "'domain_match_references_in-reply-to',\n",
      "'num_recipients_to',\n",
      "'domain_match_references_to',\n",
      "'missing_x-virus-scanned',\n",
      "'domain_match_to_in-reply-to',\n",
      "'missing_sender',\n",
      "'date_comp_date_received',\n",
      "'missing_list-archive',\n",
      "'missing_errors-to',\n",
      "'length_from',\n",
      "'missing_x-beenthere',\n",
      "'conseq_received_date',\n",
      "'domain_match_message-id_from',\n",
      "'conseq_num_received_is_one',\n",
      "'missing_x-spam-level',\n",
      "'missing_x-mailman-version',\n",
      "'missing_reply-to',\n",
      "'missing_delivered-to',\n",
      "'missing_importance',\n",
      "'missing_x-spam-checker-version',\n",
      "'str_to_chevron',\n",
      "'missing_x-original-to',\n",
      "'str_from_chevron',\n"
     ]
    },
    {
     "data": {
      "image/png": "[encoded data removed]",
      "text/plain": [
       "<Figure size 1800x504 with 1 Axes>"
      ]
     },
     "metadata": {
      "needs_background": "light"
     },
     "output_type": "display_data"
    }
   ],
   "source": [
    "model = OneClassSVM(kernel='poly', degree=6)\n",
    "model.fit(X_train)\n",
    "\n",
    "results = permutation_importance(model, X_train, y_train, \n",
    "                                 scoring='accuracy', n_repeats=2, n_jobs=-1)\n",
    "importance = results.importances_mean\n",
    "\n",
    "fig = plt.figure(figsize =(25, 7))\n",
    "\n",
    "importances_sorted = sorted(zip(importance, feature_list), reverse=True)\n",
    "feature_sorted, importance_sorted = zip(*importances_sorted)\n",
    "\n",
    "perm_svm_feature_importances = importance_sorted\n",
    "\n",
    "print(\"Top features sorted:\")\n",
    "for x, imp in zip(feature_sorted, importance_sorted):\n",
    "  print('Feature: %s, Score: %f' % (imp, x))\n",
    "\n",
    "for x, imp in zip(feature_sorted, importance_sorted):\n",
    "  print('\\'' + imp + '\\',')\n",
    "\n",
    "plt.xticks(rotation='vertical')\n",
    "plt.bar([x for x in importance_sorted], feature_sorted, width=0.3)\n",
    "plt.show()"
   ]
  },
  {
   "cell_type": "markdown",
   "metadata": {},
   "source": [
    "**Reduce the features:**"
   ]
  },
  {
   "cell_type": "code",
   "execution_count": 85,
   "metadata": {},
   "outputs": [],
   "source": [
    "new_feature_list = [\n",
    "'lines',\n",
    "'content-length',\n",
    "'domain_match_errors-to_sender',\n",
    "'missing_list-subscribe',\n",
    "'str_precedence_list',\n",
    "'missing_list-post',\n",
    "'missing_list-id',\n",
    "'missing_list-help',\n",
    "'missing_received-spf',\n",
    "'domain_match_to_received',\n",
    "'missing_x-spam-check-by',\n",
    "'missing_precedence',\n",
    "'missing_mailing-list',\n",
    "'str_return-path_bounce',\n",
    "'missing_list-unsubscribe',\n",
    "'day_of_week',\n",
    "'missing_x-mailing-list',\n",
    "'hops',\n",
    "'missing_status',\n",
    "'missing_content-length',\n",
    "'domain_match_from_return-path',\n",
    "'missing_references',\n",
    "'missing_lines',\n",
    "'number_replies',\n",
    "'missing_cc',\n",
    "'missing_in-reply-to',\n",
    "'time_zone',\n",
    "'span_time',\n",
    "'missing_x-spam-status',\n",
    "'missing_content-disposition',\n",
    "'missing_x-mimeole',\n",
    "'missing_thread-index',\n",
    "'missing_x-mailer',\n",
    "'domain_match_to_message-id',\n",
    "'conseq_received_bad',\n",
    "'missing_user-agent',\n",
    "'domain_match_from_reply-to',\n",
    "'domain_match_errors-to_from',\n",
    "'domain_match_return-path_reply-to',\n",
    "'domain_match_message-id_reply-to',\n",
    "'missing_errors-to',\n",
    "'missing_sender',\n",
    "'domain_match_errors-to_message-id',\n",
    "'domain_match_to_from',\n",
    "'domain_match_errors-to_reply-to',\n",
    "'domain_match_message-id_sender',\n",
    "'missing_mime-version',\n",
    "'missing_list-archive',\n",
    "'conseq_received_good',\n",
    "'str_message-ID_dollar',\n",
    "'domain_val_message-id',\n",
    "'num_recipients_to',\n",
    "'missing_x-beenthere',\n",
    "'num_recipients_cc',\n",
    "'domain_match_sender_from',\n",
    "'missing_x-msmail-priority',\n",
    "'str_content-type_texthtml',\n",
    "'str_content-encoding_empty',\n",
    "'missing_content-transfer-encoding',\n",
    "'missing_content-type',\n",
    "'email_match_from_reply-to'\n",
    "]\n",
    "\n",
    "test_X = test_X[new_feature_list]\n",
    "X_train = X_train[new_feature_list]"
   ]
  },
  {
   "cell_type": "code",
   "execution_count": 86,
   "metadata": {},
   "outputs": [
    {
     "name": "stdout",
     "output_type": "stream",
     "text": [
      "(25220, 61)\n",
      "(12610, 61)\n"
     ]
    }
   ],
   "source": [
    "print(test_X.shape)\n",
    "print(X_train.shape)"
   ]
  },
  {
   "cell_type": "markdown",
   "metadata": {
    "id": "iGZ561te2ONO"
   },
   "source": [
    "# **Testing:**"
   ]
  },
  {
   "cell_type": "markdown",
   "metadata": {
    "id": "6XR4Wc3Fqh_W"
   },
   "source": [
    "**OC-SVM:**"
   ]
  },
  {
   "cell_type": "code",
   "execution_count": 93,
   "metadata": {
    "id": "oZ239URUq-tx"
   },
   "outputs": [
    {
     "name": "stdout",
     "output_type": "stream",
     "text": [
      "Accuracy: 89.33386201427439\n",
      "F1 Score: 88.24300699300699\n",
      "Recall: 80.05551149881047\n",
      "Precision: 98.29600778967867\n",
      "ROC AUC: 89.33386201427439\n",
      "Confusion Matrix: [[12435   175]\n",
      " [ 2515 10095]]\n",
      "Wall time: 9.93 s\n"
     ]
    }
   ],
   "source": [
    "%%time\n",
    "\n",
    "ocsvm = OneClassSVM(kernel='poly', degree=6, nu=0.2)\n",
    "ocsvm.fit(X_train)\n",
    "\n",
    "# Test the model on the test set\n",
    "predictions = ocsvm.predict(test_X)\n",
    "\n",
    "# Get the evaluation metrics\n",
    "print('Accuracy:', accuracy_score(test_Y, predictions)*100)\n",
    "print('F1 Score:', f1_score(test_Y, predictions)*100)\n",
    "print('Recall:', recall_score(test_Y, predictions)*100)\n",
    "print('Precision:', precision_score(test_Y, predictions)*100)\n",
    "print('ROC AUC:', roc_auc_score(test_Y, predictions)*100)\n",
    "print('Confusion Matrix:', confusion_matrix(test_Y, predictions))"
   ]
  }
 ],
 "metadata": {
  "colab": {
   "collapsed_sections": [
    "sCMEqns8jY-1",
    "F5A997Ekjh0E",
    "KvWjb8GwOM-y",
    "rJJ4WHSBFTWc",
    "nqHSyA4SyJ7K",
    "xhkNe2ql-cFP",
    "fMwsPWxpi2cG",
    "-_nEjwFOjUDI",
    "MyekmTK3q5TC",
    "RkQzXPCXUxme",
    "P1zXPP6trxSN",
    "iGZ561te2ONO",
    "rffvHbuzGO8c"
   ],
   "name": "Capstone Project - Email Headers.ipynb",
   "provenance": []
  },
  "kernelspec": {
   "display_name": "Python 3",
   "language": "python",
   "name": "python3"
  },
  "language_info": {
   "codemirror_mode": {
    "name": "ipython",
    "version": 3
   },
   "file_extension": ".py",
   "mimetype": "text/x-python",
   "name": "python",
   "nbconvert_exporter": "python",
   "pygments_lexer": "ipython3",
   "version": "3.8.5"
  }
 },
 "nbformat": 4,
 "nbformat_minor": 1
}
