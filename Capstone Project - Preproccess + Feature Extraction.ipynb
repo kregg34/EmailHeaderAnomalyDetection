{
 "cells": [
  {
   "cell_type": "markdown",
   "metadata": {
    "id": "sCMEqns8jY-1"
   },
   "source": [
    "# **Importing the Data**"
   ]
  },
  {
   "cell_type": "code",
   "execution_count": 38,
   "metadata": {
    "colab": {
     "base_uri": "https://localhost:8080/",
     "height": 0
    },
    "id": "b6HipOhgjHWT",
    "outputId": "b351bbf5-2c6f-45de-f8db-089b43e5fc84"
   },
   "outputs": [
    {
     "name": "stderr",
     "output_type": "stream",
     "text": [
      "C:\\Users\\15066\\anaconda3\\lib\\site-packages\\IPython\\core\\interactiveshell.py:3146: DtypeWarning: Columns (12,13,14,15) have mixed types.Specify dtype option on import or set low_memory=False.\n",
      "  has_raised = await self.run_ast_nodes(code_ast.body, cell_name,\n"
     ]
    },
    {
     "data": {
      "text/html": [
       "<div>\n",
       "<style scoped>\n",
       "    .dataframe tbody tr th:only-of-type {\n",
       "        vertical-align: middle;\n",
       "    }\n",
       "\n",
       "    .dataframe tbody tr th {\n",
       "        vertical-align: top;\n",
       "    }\n",
       "\n",
       "    .dataframe thead th {\n",
       "        text-align: right;\n",
       "    }\n",
       "</style>\n",
       "<table border=\"1\" class=\"dataframe\">\n",
       "  <thead>\n",
       "    <tr style=\"text-align: right;\">\n",
       "      <th></th>\n",
       "      <th>received1</th>\n",
       "      <th>received2</th>\n",
       "      <th>received3</th>\n",
       "      <th>received4</th>\n",
       "      <th>received5</th>\n",
       "      <th>received6</th>\n",
       "      <th>received7</th>\n",
       "      <th>received8</th>\n",
       "      <th>received9</th>\n",
       "      <th>received10</th>\n",
       "      <th>...</th>\n",
       "      <th>cc</th>\n",
       "      <th>received-spf</th>\n",
       "      <th>x-original-to</th>\n",
       "      <th>content-disposition</th>\n",
       "      <th>mailing-list</th>\n",
       "      <th>x-spam-check-by</th>\n",
       "      <th>domainkey-signature</th>\n",
       "      <th>importance</th>\n",
       "      <th>x-mailing-list</th>\n",
       "      <th>label</th>\n",
       "    </tr>\n",
       "  </thead>\n",
       "  <tbody>\n",
       "    <tr>\n",
       "      <th>0</th>\n",
       "      <td>from 129.97.78.23 ([211.202.101.74])\\n\\tby speedy.uwaterloo.ca (8.12.8/8.12.5) with SMTP id l38H7G0I003017;\\n\\tSun, 8 Apr 2007 13:07:21 -0400</td>\n",
       "      <td>from 0.144.152.6 by 211.202.101.74; Sun, 08 Apr 2007 19:04:48 +0100</td>\n",
       "      <td>NaN</td>\n",
       "      <td>NaN</td>\n",
       "      <td>NaN</td>\n",
       "      <td>NaN</td>\n",
       "      <td>NaN</td>\n",
       "      <td>NaN</td>\n",
       "      <td>NaN</td>\n",
       "      <td>NaN</td>\n",
       "      <td>...</td>\n",
       "      <td>NaN</td>\n",
       "      <td>NaN</td>\n",
       "      <td>NaN</td>\n",
       "      <td>NaN</td>\n",
       "      <td>NaN</td>\n",
       "      <td>NaN</td>\n",
       "      <td>NaN</td>\n",
       "      <td>NaN</td>\n",
       "      <td>NaN</td>\n",
       "      <td>1</td>\n",
       "    </tr>\n",
       "    <tr>\n",
       "      <th>1</th>\n",
       "      <td>from hypatia.math.ethz.ch (hypatia.math.ethz.ch [129.132.145.15])\\n\\tby speedy.uwaterloo.ca (8.12.8/8.12.5) with ESMTP id l38HLT0I003198\\n\\tfor &lt;ktwarwic@speedy.uwaterloo.ca&gt;; Sun, 8 Apr 2007 13:21:30 -0400</td>\n",
       "      <td>from hypatia.math.ethz.ch (hypatia [129.132.145.15])\\n\\tby hypatia.math.ethz.ch (8.13.6/8.13.6) with ESMTP id l38HJlI9027046;\\n\\tSun, 8 Apr 2007 19:20:13 +0200</td>\n",
       "      <td>from talk.nabble.com (www.nabble.com [72.21.53.35])\\n\\tby hypatia.math.ethz.ch (8.13.6/8.13.6) with ESMTP id l38HJeqo027003\\n\\t(version=TLSv1/SSLv3 cipher=AES256-SHA bits=256 verify=NO)\\n\\tfor &lt;r-help@stat.math.ethz.ch&gt;; Sun, 8 Apr 2007 19:19:42 +0200</td>\n",
       "      <td>from [72.21.53.38] (helo=jubjub.nabble.com)\\n\\tby talk.nabble.com with esmtp (Exim 4.50) id 1Hab3D-00049b-NM\\n\\tfor r-help@stat.math.ethz.ch; Sun, 08 Apr 2007 10:19:39 -0700</td>\n",
       "      <td>NaN</td>\n",
       "      <td>NaN</td>\n",
       "      <td>NaN</td>\n",
       "      <td>NaN</td>\n",
       "      <td>NaN</td>\n",
       "      <td>NaN</td>\n",
       "      <td>...</td>\n",
       "      <td>NaN</td>\n",
       "      <td>NaN</td>\n",
       "      <td>NaN</td>\n",
       "      <td>NaN</td>\n",
       "      <td>NaN</td>\n",
       "      <td>NaN</td>\n",
       "      <td>NaN</td>\n",
       "      <td>NaN</td>\n",
       "      <td>NaN</td>\n",
       "      <td>0</td>\n",
       "    </tr>\n",
       "    <tr>\n",
       "      <th>2</th>\n",
       "      <td>from friend (82-44-240-212.cable.ubr01.haye.blueyonder.co.uk [82.44.240.212])\\n\\tby speedy.uwaterloo.ca (8.12.8/8.12.5) with ESMTP id l38KAj0I004816\\n\\tfor &lt;manager@speedy.uwaterloo.ca&gt;; Sun, 8 Apr 2007 16:10:49 -0400</td>\n",
       "      <td>NaN</td>\n",
       "      <td>NaN</td>\n",
       "      <td>NaN</td>\n",
       "      <td>NaN</td>\n",
       "      <td>NaN</td>\n",
       "      <td>NaN</td>\n",
       "      <td>NaN</td>\n",
       "      <td>NaN</td>\n",
       "      <td>NaN</td>\n",
       "      <td>...</td>\n",
       "      <td>NaN</td>\n",
       "      <td>NaN</td>\n",
       "      <td>NaN</td>\n",
       "      <td>NaN</td>\n",
       "      <td>NaN</td>\n",
       "      <td>NaN</td>\n",
       "      <td>NaN</td>\n",
       "      <td>NaN</td>\n",
       "      <td>NaN</td>\n",
       "      <td>1</td>\n",
       "    </tr>\n",
       "    <tr>\n",
       "      <th>3</th>\n",
       "      <td>from cnnimail22.cnn.com (cnnimail22.cnn.com [64.236.25.79])\\n\\tby speedy.uwaterloo.ca (8.12.8/8.12.5) with ESMTP id l39IYQ0I018124\\n\\tfor &lt;ktwarwic@SPEEDY.UWATERLOO.CA&gt;; Mon, 9 Apr 2007 14:34:26 -0400</td>\n",
       "      <td>from cnnimail23 (cnnimail23.turner.com) by cnnimail22.cnn.com (LSMTP for Windows NT v1.1b) with SMTP id &lt;12.00054F1D@cnnimail22.cnn.com&gt;; Mon, 9 Apr 2007 14:26:36 -0400</td>\n",
       "      <td>NaN</td>\n",
       "      <td>NaN</td>\n",
       "      <td>NaN</td>\n",
       "      <td>NaN</td>\n",
       "      <td>NaN</td>\n",
       "      <td>NaN</td>\n",
       "      <td>NaN</td>\n",
       "      <td>NaN</td>\n",
       "      <td>...</td>\n",
       "      <td>NaN</td>\n",
       "      <td>NaN</td>\n",
       "      <td>NaN</td>\n",
       "      <td>NaN</td>\n",
       "      <td>NaN</td>\n",
       "      <td>NaN</td>\n",
       "      <td>NaN</td>\n",
       "      <td>NaN</td>\n",
       "      <td>NaN</td>\n",
       "      <td>0</td>\n",
       "    </tr>\n",
       "    <tr>\n",
       "      <th>4</th>\n",
       "      <td>from localhost ([220.234.26.96])\\n\\tby speedy.uwaterloo.ca (8.12.8/8.12.5) with SMTP id l3G7vQ0I002949\\n\\tfor &lt;gnitpick@speedy.uwaterloo.ca&gt;; Mon, 16 Apr 2007 03:57:28 -0400</td>\n",
       "      <td>NaN</td>\n",
       "      <td>NaN</td>\n",
       "      <td>NaN</td>\n",
       "      <td>NaN</td>\n",
       "      <td>NaN</td>\n",
       "      <td>NaN</td>\n",
       "      <td>NaN</td>\n",
       "      <td>NaN</td>\n",
       "      <td>NaN</td>\n",
       "      <td>...</td>\n",
       "      <td>NaN</td>\n",
       "      <td>NaN</td>\n",
       "      <td>NaN</td>\n",
       "      <td>NaN</td>\n",
       "      <td>NaN</td>\n",
       "      <td>NaN</td>\n",
       "      <td>NaN</td>\n",
       "      <td>Normal</td>\n",
       "      <td>NaN</td>\n",
       "      <td>1</td>\n",
       "    </tr>\n",
       "    <tr>\n",
       "      <th>5</th>\n",
       "      <td>from mail.cipryk.com ([222.254.223.226])\\n\\tby speedy.uwaterloo.ca (8.12.8/8.12.5) with ESMTP id l3G7vv0I002955;\\n\\tMon, 16 Apr 2007 03:57:59 -0400</td>\n",
       "      <td>from 213.98.153.32 (HELO webmail.cipsabilbao.net)\\n     by speedy.uwaterloo.ca with esmtp (.&gt;0A'XK@*U9 .4I63T)\\n     id ?2,5))-J8Q38&gt;-QU\\n     for gnitpick@speedy.uwaterloo.ca; Mon, 16 Apr 2007 07:57:33 -0700</td>\n",
       "      <td>NaN</td>\n",
       "      <td>NaN</td>\n",
       "      <td>NaN</td>\n",
       "      <td>NaN</td>\n",
       "      <td>NaN</td>\n",
       "      <td>NaN</td>\n",
       "      <td>NaN</td>\n",
       "      <td>NaN</td>\n",
       "      <td>...</td>\n",
       "      <td>NaN</td>\n",
       "      <td>NaN</td>\n",
       "      <td>NaN</td>\n",
       "      <td>NaN</td>\n",
       "      <td>NaN</td>\n",
       "      <td>NaN</td>\n",
       "      <td>NaN</td>\n",
       "      <td>NaN</td>\n",
       "      <td>NaN</td>\n",
       "      <td>1</td>\n",
       "    </tr>\n",
       "    <tr>\n",
       "      <th>6</th>\n",
       "      <td>from murphy.debian.org (murphy.debian.org [70.103.162.31])\\n\\tby speedy.uwaterloo.ca (8.12.8/8.12.5) with ESMTP id l3G7wc0I002964\\n\\tfor &lt;ktwarwic@speedy.uwaterloo.ca&gt;; Mon, 16 Apr 2007 03:58:38 -0400</td>\n",
       "      <td>from localhost (localhost [127.0.0.1])\\n\\tby murphy.debian.org (Postfix) with QMQP\\n\\tid EAB972EC6D; Mon, 16 Apr 2007 02:57:59 -0500 (CDT)</td>\n",
       "      <td>from mx1.stack.nl (meestal.stack.nl [131.155.140.141])\\n\\tby murphy.debian.org (Postfix) with ESMTP id 687682E385\\n\\tfor &lt;debian-legal@lists.debian.org&gt;; Mon, 16 Apr 2007 02:57:40 -0500 (CDT)</td>\n",
       "      <td>from toad.stack.nl (toad.stack.nl [IPv6:2001:610:1108:5010::135])\\n\\tby mx1.stack.nl (Postfix) with ESMTP id CB74A4AFCF\\n\\tfor &lt;debian-legal@lists.debian.org&gt;; Mon, 16 Apr 2007 09:57:40 +0200 (CEST)</td>\n",
       "      <td>by toad.stack.nl (Postfix, from userid 488)\\n\\tid A77944118; Mon, 16 Apr 2007 09:57:33 +0200 (CEST)</td>\n",
       "      <td>NaN</td>\n",
       "      <td>NaN</td>\n",
       "      <td>NaN</td>\n",
       "      <td>NaN</td>\n",
       "      <td>NaN</td>\n",
       "      <td>...</td>\n",
       "      <td>NaN</td>\n",
       "      <td>NaN</td>\n",
       "      <td>debian-legal@lists.debian.org</td>\n",
       "      <td>inline</td>\n",
       "      <td>NaN</td>\n",
       "      <td>NaN</td>\n",
       "      <td>NaN</td>\n",
       "      <td>NaN</td>\n",
       "      <td>&lt;debian-legal@lists.debian.org&gt; archive/latest/36152</td>\n",
       "      <td>0</td>\n",
       "    </tr>\n",
       "    <tr>\n",
       "      <th>7</th>\n",
       "      <td>from plg2.math.uwaterloo.ca (plg2.math.uwaterloo.ca [129.97.186.80])\\n\\tby speedy.uwaterloo.ca (8.12.8/8.12.5) with ESMTP id l3G7wt0I002970\\n\\tfor &lt;theplg@speedy.uwaterloo.ca&gt;; Mon, 16 Apr 2007 03:58:55 -0400</td>\n",
       "      <td>from dexmedia.com ([218.95.95.33])\\n\\tby plg2.math.uwaterloo.ca (8.13.8/8.13.8) with SMTP id l3G7wB3a019394;\\n\\tMon, 16 Apr 2007 03:58:15 -0400 (EDT)</td>\n",
       "      <td>NaN</td>\n",
       "      <td>NaN</td>\n",
       "      <td>NaN</td>\n",
       "      <td>NaN</td>\n",
       "      <td>NaN</td>\n",
       "      <td>NaN</td>\n",
       "      <td>NaN</td>\n",
       "      <td>NaN</td>\n",
       "      <td>...</td>\n",
       "      <td>\"lea\" &lt;migod@plg2.math.uwaterloo.ca&gt;,\\n   \"santa fuller\" &lt;holt@plg2.math.uwaterloo.ca&gt;,\\n   \"nickolas\" &lt;dsvetinovic@plg2.math.uwaterloo.ca&gt;,\\n   \"hang mcdonald\" &lt;y5guo@plg2.math.uwaterloo.ca&gt;,\\n   \"tawnya price\" &lt;the00@plg2.math.uwaterloo.ca&gt;,\\n   \"ardelle morrison\" &lt;adtrevors@plg2.math.uwaterloo.ca&gt;</td>\n",
       "      <td>NaN</td>\n",
       "      <td>NaN</td>\n",
       "      <td>NaN</td>\n",
       "      <td>NaN</td>\n",
       "      <td>NaN</td>\n",
       "      <td>NaN</td>\n",
       "      <td>NaN</td>\n",
       "      <td>NaN</td>\n",
       "      <td>1</td>\n",
       "    </tr>\n",
       "    <tr>\n",
       "      <th>8</th>\n",
       "      <td>from chello089078077243.chello.pl (chello089078077243.chello.pl [89.78.77.243])\\n\\tby speedy.uwaterloo.ca (8.12.8/8.12.5) with SMTP id l3G83C0I003343\\n\\tfor &lt;tabvrttypmcbgnitpick@speedy.uwaterloo.ca&gt;; Mon, 16 Apr 2007 04:03:13 -0400</td>\n",
       "      <td>(qmail 6719 by uid 496); Tue, 17 Apr 2007 10:03:08 +0100</td>\n",
       "      <td>NaN</td>\n",
       "      <td>NaN</td>\n",
       "      <td>NaN</td>\n",
       "      <td>NaN</td>\n",
       "      <td>NaN</td>\n",
       "      <td>NaN</td>\n",
       "      <td>NaN</td>\n",
       "      <td>NaN</td>\n",
       "      <td>...</td>\n",
       "      <td>NaN</td>\n",
       "      <td>NaN</td>\n",
       "      <td>NaN</td>\n",
       "      <td>NaN</td>\n",
       "      <td>NaN</td>\n",
       "      <td>NaN</td>\n",
       "      <td>NaN</td>\n",
       "      <td>High</td>\n",
       "      <td>NaN</td>\n",
       "      <td>1</td>\n",
       "    </tr>\n",
       "    <tr>\n",
       "      <th>9</th>\n",
       "      <td>from sn00b00b ([89.25.119.123])\\n\\tby speedy.uwaterloo.ca (8.12.8/8.12.5) with ESMTP id l3G8430I003356\\n\\tfor &lt;ktwarwic@speedy.uwaterloo.ca&gt;; Mon, 16 Apr 2007 04:04:05 -0400</td>\n",
       "      <td>from 206.127.230.25 (HELO mail.computant.com)\\n     by speedy.uwaterloo.ca with esmtp (1AN@//S-3 76IZB)\\n     id +0,VUD-Z9U)&lt;9-V9\\n     for ktwarwic@speedy.uwaterloo.ca; Mon, 16 Apr 2007 08:03:19 -0120</td>\n",
       "      <td>NaN</td>\n",
       "      <td>NaN</td>\n",
       "      <td>NaN</td>\n",
       "      <td>NaN</td>\n",
       "      <td>NaN</td>\n",
       "      <td>NaN</td>\n",
       "      <td>NaN</td>\n",
       "      <td>NaN</td>\n",
       "      <td>...</td>\n",
       "      <td>NaN</td>\n",
       "      <td>NaN</td>\n",
       "      <td>NaN</td>\n",
       "      <td>NaN</td>\n",
       "      <td>NaN</td>\n",
       "      <td>NaN</td>\n",
       "      <td>NaN</td>\n",
       "      <td>NaN</td>\n",
       "      <td>NaN</td>\n",
       "      <td>1</td>\n",
       "    </tr>\n",
       "    <tr>\n",
       "      <th>10</th>\n",
       "      <td>from nicktalktime.com (nicktalktime.com [216.22.49.121])\\n\\tby speedy.uwaterloo.ca (8.12.8/8.12.5) with SMTP id l3G8690I003373\\n\\tfor &lt;cruiseca@speedy.uwaterloo.ca&gt;; Mon, 16 Apr 2007 04:06:10 -0400</td>\n",
       "      <td>NaN</td>\n",
       "      <td>NaN</td>\n",
       "      <td>NaN</td>\n",
       "      <td>NaN</td>\n",
       "      <td>NaN</td>\n",
       "      <td>NaN</td>\n",
       "      <td>NaN</td>\n",
       "      <td>NaN</td>\n",
       "      <td>NaN</td>\n",
       "      <td>...</td>\n",
       "      <td>NaN</td>\n",
       "      <td>NaN</td>\n",
       "      <td>NaN</td>\n",
       "      <td>NaN</td>\n",
       "      <td>NaN</td>\n",
       "      <td>NaN</td>\n",
       "      <td>NaN</td>\n",
       "      <td>NaN</td>\n",
       "      <td>NaN</td>\n",
       "      <td>1</td>\n",
       "    </tr>\n",
       "    <tr>\n",
       "      <th>11</th>\n",
       "      <td>from plg2.math.uwaterloo.ca (plg2.math.uwaterloo.ca [129.97.186.80])\\n\\tby speedy.uwaterloo.ca (8.12.8/8.12.5) with ESMTP id l3G8AT0I003449\\n\\tfor &lt;theorize@speedy.uwaterloo.ca&gt;; Mon, 16 Apr 2007 04:10:30 -0400</td>\n",
       "      <td>from your-55e5f9e3d2.cfl.rr.com (183.242.8.67.cfl.res.rr.com [67.8.242.183])\\n\\tby plg2.math.uwaterloo.ca (8.13.8/8.13.8) with ESMTP id l3G874gH012141\\n\\tfor &lt;theorize@plg.uwaterloo.ca&gt;; Mon, 16 Apr 2007 04:07:07 -0400 (EDT)</td>\n",
       "      <td>from 212.233.6.38 (HELO pop.sopura.com)\\n     by plg.uwaterloo.ca with (8.19.5/8.77.8) ESMTP id ow4v4kx206zqdw\\n     for theorize@plg.uwaterloo.ca; Mon, 16 Apr 2007 09:05:42 +0300</td>\n",
       "      <td>from gh.dmpop.echomail.com ([107.65.157.195])\\n    by rbhr.dmpop.echomail.com (9.31.1.20002106/7.05.2)  with ESMTP id x86P244w993247\\n    for theorize@plg.uwaterloo.ca; Mon, 16 Apr 2007 09:05:42 +0300</td>\n",
       "      <td>NaN</td>\n",
       "      <td>NaN</td>\n",
       "      <td>NaN</td>\n",
       "      <td>NaN</td>\n",
       "      <td>NaN</td>\n",
       "      <td>NaN</td>\n",
       "      <td>...</td>\n",
       "      <td>NaN</td>\n",
       "      <td>NaN</td>\n",
       "      <td>NaN</td>\n",
       "      <td>NaN</td>\n",
       "      <td>NaN</td>\n",
       "      <td>NaN</td>\n",
       "      <td>NaN</td>\n",
       "      <td>NaN</td>\n",
       "      <td>NaN</td>\n",
       "      <td>1</td>\n",
       "    </tr>\n",
       "    <tr>\n",
       "      <th>12</th>\n",
       "      <td>from plg2.math.uwaterloo.ca (plg2.math.uwaterloo.ca [129.97.186.80])\\n\\tby speedy.uwaterloo.ca (8.12.8/8.12.5) with ESMTP id l3G8Ch0I003467\\n\\tfor &lt;theplg@speedy.uwaterloo.ca&gt;; Mon, 16 Apr 2007 04:12:43 -0400</td>\n",
       "      <td>from 84.241.23.79.rasana.net (84.241.23.79.rasana.net [84.241.23.79] (may be forged))\\n\\tby plg2.math.uwaterloo.ca (8.13.8/8.13.8) with ESMTP id l3G8CDuw028395\\n\\tfor &lt;the00@plg.uwaterloo.ca&gt;; Mon, 16 Apr 2007 04:12:17 -0400 (EDT)</td>\n",
       "      <td>NaN</td>\n",
       "      <td>NaN</td>\n",
       "      <td>NaN</td>\n",
       "      <td>NaN</td>\n",
       "      <td>NaN</td>\n",
       "      <td>NaN</td>\n",
       "      <td>NaN</td>\n",
       "      <td>NaN</td>\n",
       "      <td>...</td>\n",
       "      <td>NaN</td>\n",
       "      <td>NaN</td>\n",
       "      <td>NaN</td>\n",
       "      <td>NaN</td>\n",
       "      <td>NaN</td>\n",
       "      <td>NaN</td>\n",
       "      <td>NaN</td>\n",
       "      <td>NaN</td>\n",
       "      <td>NaN</td>\n",
       "      <td>1</td>\n",
       "    </tr>\n",
       "    <tr>\n",
       "      <th>13</th>\n",
       "      <td>from plg2.math.uwaterloo.ca (plg2.math.uwaterloo.ca [129.97.186.80])\\n\\tby speedy.uwaterloo.ca (8.12.8/8.12.5) with ESMTP id l3G8Cj0I003472\\n\\tfor &lt;theplg@speedy.uwaterloo.ca&gt;; Mon, 16 Apr 2007 04:12:45 -0400</td>\n",
       "      <td>from 84.241.23.79.rasana.net (84.241.23.79.rasana.net [84.241.23.79] (may be forged))\\n\\tby plg2.math.uwaterloo.ca (8.13.8/8.13.8) with ESMTP id l3G8CG2k028850\\n\\tfor &lt;the00@plg2.math.uwaterloo.ca&gt;; Mon, 16 Apr 2007 04:12:19 -0400 (EDT)</td>\n",
       "      <td>NaN</td>\n",
       "      <td>NaN</td>\n",
       "      <td>NaN</td>\n",
       "      <td>NaN</td>\n",
       "      <td>NaN</td>\n",
       "      <td>NaN</td>\n",
       "      <td>NaN</td>\n",
       "      <td>NaN</td>\n",
       "      <td>...</td>\n",
       "      <td>NaN</td>\n",
       "      <td>NaN</td>\n",
       "      <td>NaN</td>\n",
       "      <td>NaN</td>\n",
       "      <td>NaN</td>\n",
       "      <td>NaN</td>\n",
       "      <td>NaN</td>\n",
       "      <td>NaN</td>\n",
       "      <td>NaN</td>\n",
       "      <td>1</td>\n",
       "    </tr>\n",
       "    <tr>\n",
       "      <th>14</th>\n",
       "      <td>from localhost.localdomain (APlessis-Bouchard-151-1-75-111.w86-203.abo.wanadoo.fr [86.203.181.111])\\n\\tby speedy.uwaterloo.ca (8.12.8/8.12.5) with SMTP id l39IZX0I018139\\n\\tfor &lt;gnitpick@speedy.uwaterloo.ca&gt;; Mon, 9 Apr 2007 14:35:35 -0400</td>\n",
       "      <td>NaN</td>\n",
       "      <td>NaN</td>\n",
       "      <td>NaN</td>\n",
       "      <td>NaN</td>\n",
       "      <td>NaN</td>\n",
       "      <td>NaN</td>\n",
       "      <td>NaN</td>\n",
       "      <td>NaN</td>\n",
       "      <td>NaN</td>\n",
       "      <td>...</td>\n",
       "      <td>NaN</td>\n",
       "      <td>NaN</td>\n",
       "      <td>NaN</td>\n",
       "      <td>NaN</td>\n",
       "      <td>NaN</td>\n",
       "      <td>NaN</td>\n",
       "      <td>NaN</td>\n",
       "      <td>NaN</td>\n",
       "      <td>NaN</td>\n",
       "      <td>1</td>\n",
       "    </tr>\n",
       "    <tr>\n",
       "      <th>15</th>\n",
       "      <td>from CAVin02.kuleuven.be ([82.114.81.149])\\n\\tby speedy.uwaterloo.ca (8.12.8/8.12.5) with ESMTP id l3G8DE0I003479\\n\\tfor &lt;gnitpick@speedy.uwaterloo.ca&gt;; Mon, 16 Apr 2007 04:13:15 -0400</td>\n",
       "      <td>NaN</td>\n",
       "      <td>NaN</td>\n",
       "      <td>NaN</td>\n",
       "      <td>NaN</td>\n",
       "      <td>NaN</td>\n",
       "      <td>NaN</td>\n",
       "      <td>NaN</td>\n",
       "      <td>NaN</td>\n",
       "      <td>NaN</td>\n",
       "      <td>...</td>\n",
       "      <td>NaN</td>\n",
       "      <td>NaN</td>\n",
       "      <td>NaN</td>\n",
       "      <td>NaN</td>\n",
       "      <td>NaN</td>\n",
       "      <td>NaN</td>\n",
       "      <td>NaN</td>\n",
       "      <td>NaN</td>\n",
       "      <td>NaN</td>\n",
       "      <td>1</td>\n",
       "    </tr>\n",
       "    <tr>\n",
       "      <th>16</th>\n",
       "      <td>from pedal.laptop.org (pedal.laptop.org [18.85.2.148])\\n\\tby speedy.uwaterloo.ca (8.12.8/8.12.5) with ESMTP id l3G8E40I003488\\n\\tfor &lt;ktwarwic@speedy.uwaterloo.ca&gt;; Mon, 16 Apr 2007 04:14:04 -0400</td>\n",
       "      <td>from pedal.laptop.org (localhost [127.0.0.1])\\n\\tby pedal.laptop.org (Postfix) with ESMTP id 1580A4F7CF;\\n\\tMon, 16 Apr 2007 04:13:16 -0400 (EDT)</td>\n",
       "      <td>from spam.laptop.org (spam.laptop.org [18.85.46.23])\\n\\tby pedal.laptop.org (Postfix) with ESMTP id 56E4A4F7CF\\n\\tfor &lt;sugar@laptop.org&gt;; Mon, 16 Apr 2007 04:13:15 -0400 (EDT)</td>\n",
       "      <td>from solarsail.hcs.harvard.edu (solarsail.hcs.harvard.edu\\n\\t[140.247.73.241])\\n\\t(using TLSv1 with cipher DHE-RSA-AES256-SHA (256/256 bits))\\n\\t(No client certificate requested)\\n\\tby spam.laptop.org (Spam Firewall) with ESMTP id 7EF9423063\\n\\tfor &lt;sugar@laptop.org&gt;; Mon, 16 Apr 2007 04:13:39 -0400 (EDT)</td>\n",
       "      <td>from solarsail.hcs.harvard.edu\\n\\t(TLSv1-likely-authenticated-DHE-RSA-AES256-SHA [140.247.73.241])</td>\n",
       "      <td>NaN</td>\n",
       "      <td>NaN</td>\n",
       "      <td>NaN</td>\n",
       "      <td>NaN</td>\n",
       "      <td>NaN</td>\n",
       "      <td>...</td>\n",
       "      <td>sugar@laptop.org</td>\n",
       "      <td>NaN</td>\n",
       "      <td>sugar@laptop.org</td>\n",
       "      <td>NaN</td>\n",
       "      <td>NaN</td>\n",
       "      <td>NaN</td>\n",
       "      <td>NaN</td>\n",
       "      <td>NaN</td>\n",
       "      <td>NaN</td>\n",
       "      <td>0</td>\n",
       "    </tr>\n",
       "    <tr>\n",
       "      <th>17</th>\n",
       "      <td>from host-216-119-183-219.vista-express.com (host-216-119-183-219.vista-express.com [216.119.183.219])\\n\\tby speedy.uwaterloo.ca (8.12.8/8.12.5) with SMTP id l3G8Eg0I003495\\n\\tfor &lt;ktwarwic@speedy.uwaterloo.ca&gt;; Mon, 16 Apr 2007 04:14:42 -0400</td>\n",
       "      <td>NaN</td>\n",
       "      <td>NaN</td>\n",
       "      <td>NaN</td>\n",
       "      <td>NaN</td>\n",
       "      <td>NaN</td>\n",
       "      <td>NaN</td>\n",
       "      <td>NaN</td>\n",
       "      <td>NaN</td>\n",
       "      <td>NaN</td>\n",
       "      <td>...</td>\n",
       "      <td>NaN</td>\n",
       "      <td>NaN</td>\n",
       "      <td>NaN</td>\n",
       "      <td>NaN</td>\n",
       "      <td>NaN</td>\n",
       "      <td>NaN</td>\n",
       "      <td>NaN</td>\n",
       "      <td>NaN</td>\n",
       "      <td>NaN</td>\n",
       "      <td>1</td>\n",
       "    </tr>\n",
       "    <tr>\n",
       "      <th>18</th>\n",
       "      <td>from plg2.math.uwaterloo.ca (plg2.math.uwaterloo.ca [129.97.186.80])\\n\\tby speedy.uwaterloo.ca (8.12.8/8.12.5) with ESMTP id l3G8F50I003507\\n\\tfor &lt;theplg@speedy.uwaterloo.ca&gt;; Mon, 16 Apr 2007 04:15:05 -0400</td>\n",
       "      <td>from sify.net (221-134-254-13.sify.net [221.134.254.13] (may be forged))\\n\\tby plg2.math.uwaterloo.ca (8.13.8/8.13.8) with SMTP id l3G8ETuL020343\\n\\tfor &lt;the00@plg2.math.uwaterloo.ca&gt;; Mon, 16 Apr 2007 04:14:36 -0400 (EDT)</td>\n",
       "      <td>NaN</td>\n",
       "      <td>NaN</td>\n",
       "      <td>NaN</td>\n",
       "      <td>NaN</td>\n",
       "      <td>NaN</td>\n",
       "      <td>NaN</td>\n",
       "      <td>NaN</td>\n",
       "      <td>NaN</td>\n",
       "      <td>...</td>\n",
       "      <td>NaN</td>\n",
       "      <td>NaN</td>\n",
       "      <td>NaN</td>\n",
       "      <td>NaN</td>\n",
       "      <td>NaN</td>\n",
       "      <td>NaN</td>\n",
       "      <td>a=rsa-sha1; q=dns; c=nofws; s=opened.ten; d=chello.com;\\n\\tb=UJDjPVcpSGoaZXQXPLjqkSSxpDkgaIWWUDyPSMssdKpSPaULEBJmeKDGbMhqUhVoNLxXmayNUOpMLaPf;</td>\n",
       "      <td>NaN</td>\n",
       "      <td>NaN</td>\n",
       "      <td>1</td>\n",
       "    </tr>\n",
       "    <tr>\n",
       "      <th>19</th>\n",
       "      <td>from hypatia.math.ethz.ch (hypatia.math.ethz.ch [129.132.145.15])\\n\\tby speedy.uwaterloo.ca (8.12.8/8.12.5) with ESMTP id l3G8Hm0I003520\\n\\tfor &lt;ktwarwic@speedy.uwaterloo.ca&gt;; Mon, 16 Apr 2007 04:17:49 -0400</td>\n",
       "      <td>from hypatia.math.ethz.ch (hypatia [129.132.145.15])\\n\\tby hypatia.math.ethz.ch (8.13.6/8.13.6) with ESMTP id l3G8GFKj019678;\\n\\tMon, 16 Apr 2007 10:16:35 +0200</td>\n",
       "      <td>from web27508.mail.ukl.yahoo.com (web27508.mail.ukl.yahoo.com\\n\\t[217.146.177.212])\\n\\tby hypatia.math.ethz.ch (8.13.6/8.13.6) with SMTP id l3G8G4uf019639\\n\\tfor &lt;r-help@stat.math.ethz.ch&gt;; Mon, 16 Apr 2007 10:16:04 +0200</td>\n",
       "      <td>(qmail 66885 invoked by uid 60001); 16 Apr 2007 08:16:04 -0000</td>\n",
       "      <td>from [217.19.195.242] by web27508.mail.ukl.yahoo.com via HTTP;\\n\\tMon, 16 Apr 2007 10:16:03 CEST</td>\n",
       "      <td>NaN</td>\n",
       "      <td>NaN</td>\n",
       "      <td>NaN</td>\n",
       "      <td>NaN</td>\n",
       "      <td>NaN</td>\n",
       "      <td>...</td>\n",
       "      <td>NaN</td>\n",
       "      <td>NaN</td>\n",
       "      <td>NaN</td>\n",
       "      <td>NaN</td>\n",
       "      <td>NaN</td>\n",
       "      <td>NaN</td>\n",
       "      <td>NaN</td>\n",
       "      <td>NaN</td>\n",
       "      <td>NaN</td>\n",
       "      <td>0</td>\n",
       "    </tr>\n",
       "    <tr>\n",
       "      <th>20</th>\n",
       "      <td>from lists.develooper.com (x6.develooper.com [63.251.223.186])\\n\\tby speedy.uwaterloo.ca (8.12.8/8.12.5) with SMTP id l3G8J00I003530\\n\\tfor &lt;ktwarwic@speedy.uwaterloo.ca&gt;; Mon, 16 Apr 2007 04:19:01 -0400</td>\n",
       "      <td>(qmail 2133 invoked by uid 514); 16 Apr 2007 08:18:31 -0000</td>\n",
       "      <td>(qmail 8076 invoked from network); 15 Apr 2007 16:38:32 -0000</td>\n",
       "      <td>NaN</td>\n",
       "      <td>NaN</td>\n",
       "      <td>NaN</td>\n",
       "      <td>NaN</td>\n",
       "      <td>NaN</td>\n",
       "      <td>NaN</td>\n",
       "      <td>NaN</td>\n",
       "      <td>...</td>\n",
       "      <td>NaN</td>\n",
       "      <td>neutral\\n receiver=frontend1.cgpmail.ua.pt; client-ip=85.243.18.32; envelope-from=gamito@gmail.com</td>\n",
       "      <td>NaN</td>\n",
       "      <td>NaN</td>\n",
       "      <td>contact beginners-help@perl.org; run by ezmlm</td>\n",
       "      <td>la.mx.develooper.com</td>\n",
       "      <td>NaN</td>\n",
       "      <td>NaN</td>\n",
       "      <td>NaN</td>\n",
       "      <td>0</td>\n",
       "    </tr>\n",
       "    <tr>\n",
       "      <th>21</th>\n",
       "      <td>from lists.develooper.com (x6.develooper.com [63.251.223.186])\\n\\tby speedy.uwaterloo.ca (8.12.8/8.12.5) with SMTP id l3G8Jc0I003539\\n\\tfor &lt;ktwarwic@speedy.uwaterloo.ca&gt;; Mon, 16 Apr 2007 04:19:39 -0400</td>\n",
       "      <td>(qmail 5931 invoked by uid 514); 16 Apr 2007 08:19:14 -0000</td>\n",
       "      <td>(qmail 5890 invoked from network); 16 Apr 2007 08:19:13 -0000</td>\n",
       "      <td>NaN</td>\n",
       "      <td>NaN</td>\n",
       "      <td>NaN</td>\n",
       "      <td>NaN</td>\n",
       "      <td>NaN</td>\n",
       "      <td>NaN</td>\n",
       "      <td>NaN</td>\n",
       "      <td>...</td>\n",
       "      <td>NaN</td>\n",
       "      <td>pass (x1.develooper.com: local policy)</td>\n",
       "      <td>NaN</td>\n",
       "      <td>NaN</td>\n",
       "      <td>contact perl6-all-help@perl.org; run by ezmlm</td>\n",
       "      <td>la.mx.develooper.com</td>\n",
       "      <td>NaN</td>\n",
       "      <td>NaN</td>\n",
       "      <td>contact perl6-internals-help@perl.org; run by ezmlm</td>\n",
       "      <td>0</td>\n",
       "    </tr>\n",
       "    <tr>\n",
       "      <th>22</th>\n",
       "      <td>from outbound3.groundspring.org (outbound3.groundspring.org [64.147.173.68])\\n\\tby speedy.uwaterloo.ca (8.12.8/8.12.5) with ESMTP id l3G8Kn0I003558\\n\\tfor &lt;ktwarwic@speedy.uwaterloo.ca&gt;; Mon, 16 Apr 2007 04:20:49 -0400</td>\n",
       "      <td>from yangtze.groundspring.org (yangtze [192.168.0.12])\\n\\tby outbound3.groundspring.org (Postfix) with SMTP id ABE124EEC5\\n\\tfor &lt;ktwarwic@speedy.uwaterloo.ca&gt;; Mon, 16 Apr 2007 01:18:55 -0700 (PDT)</td>\n",
       "      <td>NaN</td>\n",
       "      <td>NaN</td>\n",
       "      <td>NaN</td>\n",
       "      <td>NaN</td>\n",
       "      <td>NaN</td>\n",
       "      <td>NaN</td>\n",
       "      <td>NaN</td>\n",
       "      <td>NaN</td>\n",
       "      <td>...</td>\n",
       "      <td>NaN</td>\n",
       "      <td>NaN</td>\n",
       "      <td>NaN</td>\n",
       "      <td>NaN</td>\n",
       "      <td>NaN</td>\n",
       "      <td>NaN</td>\n",
       "      <td>NaN</td>\n",
       "      <td>NaN</td>\n",
       "      <td>NaN</td>\n",
       "      <td>0</td>\n",
       "    </tr>\n",
       "    <tr>\n",
       "      <th>23</th>\n",
       "      <td>from j23spq9bij.adsl.datanet.hu (j23spq9bij.adsl.datanet.hu [91.120.106.20])\\n\\tby speedy.uwaterloo.ca (8.12.8/8.12.5) with SMTP id l3G8Kx0I003564\\n\\tfor &lt;vcoopers@speedy.uwaterloo.ca&gt;; Mon, 16 Apr 2007 04:21:00 -0400</td>\n",
       "      <td>(qmail 12594 by uid 375); Mon, 16 Apr 2007 10:22:45 +0100</td>\n",
       "      <td>NaN</td>\n",
       "      <td>NaN</td>\n",
       "      <td>NaN</td>\n",
       "      <td>NaN</td>\n",
       "      <td>NaN</td>\n",
       "      <td>NaN</td>\n",
       "      <td>NaN</td>\n",
       "      <td>NaN</td>\n",
       "      <td>...</td>\n",
       "      <td>NaN</td>\n",
       "      <td>NaN</td>\n",
       "      <td>NaN</td>\n",
       "      <td>NaN</td>\n",
       "      <td>NaN</td>\n",
       "      <td>NaN</td>\n",
       "      <td>NaN</td>\n",
       "      <td>High</td>\n",
       "      <td>NaN</td>\n",
       "      <td>1</td>\n",
       "    </tr>\n",
       "    <tr>\n",
       "      <th>24</th>\n",
       "      <td>from lists.samba.org (mail.samba.org [66.70.73.150])\\n\\tby speedy.uwaterloo.ca (8.12.8/8.12.5) with ESMTP id l3G8Le0I003572\\n\\tfor &lt;ktwarwic@speedy.uwaterloo.ca&gt;; Mon, 16 Apr 2007 04:21:40 -0400</td>\n",
       "      <td>from dp.samba.org (localhost [127.0.0.1])\\n\\tby lists.samba.org (Postfix) with ESMTP id 0389C1638E8\\n\\tfor &lt;ktwarwic@speedy.uwaterloo.ca&gt;; Mon, 16 Apr 2007 08:21:15 +0000 (GMT)</td>\n",
       "      <td>by lists.samba.org (Postfix, from userid 620)\\n\\tid 6A99416383E; Mon, 16 Apr 2007 08:20:16 +0000 (GMT)</td>\n",
       "      <td>NaN</td>\n",
       "      <td>NaN</td>\n",
       "      <td>NaN</td>\n",
       "      <td>NaN</td>\n",
       "      <td>NaN</td>\n",
       "      <td>NaN</td>\n",
       "      <td>NaN</td>\n",
       "      <td>...</td>\n",
       "      <td>NaN</td>\n",
       "      <td>NaN</td>\n",
       "      <td>samba-cvs@samba.org</td>\n",
       "      <td>NaN</td>\n",
       "      <td>NaN</td>\n",
       "      <td>NaN</td>\n",
       "      <td>NaN</td>\n",
       "      <td>NaN</td>\n",
       "      <td>NaN</td>\n",
       "      <td>0</td>\n",
       "    </tr>\n",
       "    <tr>\n",
       "      <th>25</th>\n",
       "      <td>from cnnimail33.turner.com (cnnimail33.turner.com [64.236.25.90])\\n\\tby speedy.uwaterloo.ca (8.12.8/8.12.5) with ESMTP id l39IaC0I018147\\n\\tfor &lt;ktwarwic@speedy.uwaterloo.ca&gt;; Mon, 9 Apr 2007 14:36:12 -0400</td>\n",
       "      <td>from mail.cnn.com (10.165.130.87)\\n  by cnnimail33.turner.com with ESMTP; 09 Apr 2007 14:35:52 -0400</td>\n",
       "      <td>NaN</td>\n",
       "      <td>NaN</td>\n",
       "      <td>NaN</td>\n",
       "      <td>NaN</td>\n",
       "      <td>NaN</td>\n",
       "      <td>NaN</td>\n",
       "      <td>NaN</td>\n",
       "      <td>NaN</td>\n",
       "      <td>...</td>\n",
       "      <td>NaN</td>\n",
       "      <td>NaN</td>\n",
       "      <td>NaN</td>\n",
       "      <td>NaN</td>\n",
       "      <td>NaN</td>\n",
       "      <td>NaN</td>\n",
       "      <td>NaN</td>\n",
       "      <td>NaN</td>\n",
       "      <td>NaN</td>\n",
       "      <td>0</td>\n",
       "    </tr>\n",
       "    <tr>\n",
       "      <th>26</th>\n",
       "      <td>from hypatia.math.ethz.ch (hypatia.math.ethz.ch [129.132.145.15])\\n\\tby speedy.uwaterloo.ca (8.12.8/8.12.5) with ESMTP id l3G8N70I003584\\n\\tfor &lt;ktwarwic@speedy.uwaterloo.ca&gt;; Mon, 16 Apr 2007 04:23:07 -0400</td>\n",
       "      <td>from hypatia.math.ethz.ch (hypatia [129.132.145.15])\\n\\tby hypatia.math.ethz.ch (8.13.6/8.13.6) with ESMTP id l3G8LiPp021988;\\n\\tMon, 16 Apr 2007 10:21:55 +0200</td>\n",
       "      <td>from mta1.srv.hcvlny.cv.net (mta1.srv.hcvlny.cv.net [167.206.4.196])\\n\\tby hypatia.math.ethz.ch (8.13.6/8.13.6) with ESMTP id l3G8LPU9021814\\n\\tfor &lt;r-help@stat.math.ethz.ch&gt;; Mon, 16 Apr 2007 10:21:25 +0200</td>\n",
       "      <td>from [192.168.1.103] (ool-4355370e.dyn.optonline.net [67.85.55.14])\\n\\tby mta1.srv.hcvlny.cv.net\\n\\t(Sun Java System Messaging Server 6.2-6.01 (built Apr  3 2006))\\n\\twith ESMTP id &lt;0JGL0059F0JOBPK0@mta1.srv.hcvlny.cv.net&gt; for\\n\\tr-help@stat.math.ethz.ch; Mon, 16 Apr 2007 04:21:24 -0400 (EDT)</td>\n",
       "      <td>NaN</td>\n",
       "      <td>NaN</td>\n",
       "      <td>NaN</td>\n",
       "      <td>NaN</td>\n",
       "      <td>NaN</td>\n",
       "      <td>NaN</td>\n",
       "      <td>...</td>\n",
       "      <td>r-help@stat.math.ethz.ch</td>\n",
       "      <td>NaN</td>\n",
       "      <td>NaN</td>\n",
       "      <td>NaN</td>\n",
       "      <td>NaN</td>\n",
       "      <td>NaN</td>\n",
       "      <td>NaN</td>\n",
       "      <td>NaN</td>\n",
       "      <td>NaN</td>\n",
       "      <td>0</td>\n",
       "    </tr>\n",
       "    <tr>\n",
       "      <th>27</th>\n",
       "      <td>from plg2.math.uwaterloo.ca (plg2.math.uwaterloo.ca [129.97.186.80])\\n\\tby speedy.uwaterloo.ca (8.12.8/8.12.5) with ESMTP id l3G8Nu0I003592\\n\\tfor &lt;theplg@speedy.uwaterloo.ca&gt;; Mon, 16 Apr 2007 04:23:56 -0400</td>\n",
       "      <td>from localhost ([88.229.71.97])\\n\\tby plg2.math.uwaterloo.ca (8.13.8/8.13.8) with SMTP id l3G8NQJi027261\\n\\tfor &lt;the00@plg.uwaterloo.ca&gt;; Mon, 16 Apr 2007 04:23:29 -0400 (EDT)</td>\n",
       "      <td>NaN</td>\n",
       "      <td>NaN</td>\n",
       "      <td>NaN</td>\n",
       "      <td>NaN</td>\n",
       "      <td>NaN</td>\n",
       "      <td>NaN</td>\n",
       "      <td>NaN</td>\n",
       "      <td>NaN</td>\n",
       "      <td>...</td>\n",
       "      <td>NaN</td>\n",
       "      <td>NaN</td>\n",
       "      <td>NaN</td>\n",
       "      <td>NaN</td>\n",
       "      <td>NaN</td>\n",
       "      <td>NaN</td>\n",
       "      <td>NaN</td>\n",
       "      <td>NaN</td>\n",
       "      <td>NaN</td>\n",
       "      <td>1</td>\n",
       "    </tr>\n",
       "    <tr>\n",
       "      <th>28</th>\n",
       "      <td>from plg2.math.uwaterloo.ca (plg2.math.uwaterloo.ca [129.97.186.80])\\n\\tby speedy.uwaterloo.ca (8.12.8/8.12.5) with ESMTP id l3G8PJ0I003607\\n\\tfor &lt;theplg@speedy.uwaterloo.ca&gt;; Mon, 16 Apr 2007 04:25:19 -0400</td>\n",
       "      <td>from qsjwoy (pool-68-239-27-118.bos.east.verizon.net [68.239.27.118])\\n\\tby plg2.math.uwaterloo.ca (8.13.8/8.13.8) with SMTP id l3G8OmY4027696\\n\\tfor &lt;the00@plg.uwaterloo.ca&gt;; Mon, 16 Apr 2007 04:24:51 -0400 (EDT)</td>\n",
       "      <td>NaN</td>\n",
       "      <td>NaN</td>\n",
       "      <td>NaN</td>\n",
       "      <td>NaN</td>\n",
       "      <td>NaN</td>\n",
       "      <td>NaN</td>\n",
       "      <td>NaN</td>\n",
       "      <td>NaN</td>\n",
       "      <td>...</td>\n",
       "      <td>NaN</td>\n",
       "      <td>NaN</td>\n",
       "      <td>NaN</td>\n",
       "      <td>NaN</td>\n",
       "      <td>NaN</td>\n",
       "      <td>NaN</td>\n",
       "      <td>NaN</td>\n",
       "      <td>NaN</td>\n",
       "      <td>NaN</td>\n",
       "      <td>1</td>\n",
       "    </tr>\n",
       "    <tr>\n",
       "      <th>29</th>\n",
       "      <td>from plg2.math.uwaterloo.ca (plg2.math.uwaterloo.ca [129.97.186.80])\\n\\tby speedy.uwaterloo.ca (8.12.8/8.12.5) with ESMTP id l3G8PT0I003612\\n\\tfor &lt;theplg@speedy.uwaterloo.ca&gt;; Mon, 16 Apr 2007 04:25:29 -0400</td>\n",
       "      <td>from xwhmx (pool-68-239-27-118.bos.east.verizon.net [68.239.27.118])\\n\\tby plg2.math.uwaterloo.ca (8.13.8/8.13.8) with SMTP id l3G8P1d2027771\\n\\tfor &lt;the00@plg2.math.uwaterloo.ca&gt;; Mon, 16 Apr 2007 04:25:04 -0400 (EDT)</td>\n",
       "      <td>NaN</td>\n",
       "      <td>NaN</td>\n",
       "      <td>NaN</td>\n",
       "      <td>NaN</td>\n",
       "      <td>NaN</td>\n",
       "      <td>NaN</td>\n",
       "      <td>NaN</td>\n",
       "      <td>NaN</td>\n",
       "      <td>...</td>\n",
       "      <td>NaN</td>\n",
       "      <td>NaN</td>\n",
       "      <td>NaN</td>\n",
       "      <td>NaN</td>\n",
       "      <td>NaN</td>\n",
       "      <td>NaN</td>\n",
       "      <td>NaN</td>\n",
       "      <td>NaN</td>\n",
       "      <td>NaN</td>\n",
       "      <td>1</td>\n",
       "    </tr>\n",
       "    <tr>\n",
       "      <th>30</th>\n",
       "      <td>from plg2.math.uwaterloo.ca (plg2.math.uwaterloo.ca [129.97.186.80])\\n\\tby speedy.uwaterloo.ca (8.12.8/8.12.5) with ESMTP id l3G8T90I003630\\n\\tfor &lt;theplg@speedy.uwaterloo.ca&gt;; Mon, 16 Apr 2007 04:29:09 -0400</td>\n",
       "      <td>from [151.56.236.82] ([151.56.236.82])\\n\\tby plg2.math.uwaterloo.ca (8.13.8/8.13.8) with ESMTP id l3G8SdI6028995\\n\\tfor &lt;the00@plg.uwaterloo.ca&gt;; Mon, 16 Apr 2007 04:28:43 -0400 (EDT)</td>\n",
       "      <td>from spin\\n\\tby palpaperchem.com with ASMTP id 1F52CBEB\\n\\tfor &lt;the00@plg.uwaterloo.ca&gt;; Sat, 14 Apr 2007 13:09:18 +0200</td>\n",
       "      <td>from spin ([137.196.135.11])\\n\\tby palpaperchem.com with ESMTP id FECCC11536E5\\n\\tfor &lt;the00@plg.uwaterloo.ca&gt;; Sat, 14 Apr 2007 13:09:17 +0200</td>\n",
       "      <td>NaN</td>\n",
       "      <td>NaN</td>\n",
       "      <td>NaN</td>\n",
       "      <td>NaN</td>\n",
       "      <td>NaN</td>\n",
       "      <td>NaN</td>\n",
       "      <td>...</td>\n",
       "      <td>NaN</td>\n",
       "      <td>NaN</td>\n",
       "      <td>NaN</td>\n",
       "      <td>NaN</td>\n",
       "      <td>NaN</td>\n",
       "      <td>NaN</td>\n",
       "      <td>NaN</td>\n",
       "      <td>NaN</td>\n",
       "      <td>NaN</td>\n",
       "      <td>1</td>\n",
       "    </tr>\n",
       "    <tr>\n",
       "      <th>31</th>\n",
       "      <td>from friend (12-218-218-80.client.mchsi.com [12.218.218.80])\\n\\tby speedy.uwaterloo.ca (8.12.8/8.12.5) with ESMTP id l3G8VI0I003652\\n\\tfor &lt;gnitpick@speedy.uwaterloo.ca&gt;; Mon, 16 Apr 2007 04:31:18 -0400</td>\n",
       "      <td>NaN</td>\n",
       "      <td>NaN</td>\n",
       "      <td>NaN</td>\n",
       "      <td>NaN</td>\n",
       "      <td>NaN</td>\n",
       "      <td>NaN</td>\n",
       "      <td>NaN</td>\n",
       "      <td>NaN</td>\n",
       "      <td>NaN</td>\n",
       "      <td>...</td>\n",
       "      <td>NaN</td>\n",
       "      <td>NaN</td>\n",
       "      <td>NaN</td>\n",
       "      <td>NaN</td>\n",
       "      <td>NaN</td>\n",
       "      <td>NaN</td>\n",
       "      <td>NaN</td>\n",
       "      <td>NaN</td>\n",
       "      <td>NaN</td>\n",
       "      <td>1</td>\n",
       "    </tr>\n",
       "    <tr>\n",
       "      <th>32</th>\n",
       "      <td>from globalnetco.com ([60.1.229.65])\\n\\tby speedy.uwaterloo.ca (8.12.8/8.12.5) with SMTP id l3G8Xd0I003665\\n\\tfor &lt;ktwarwic@speedy.uwaterloo.ca&gt;; Mon, 16 Apr 2007 04:33:42 -0400</td>\n",
       "      <td>from MICROSOF297F64 ([76.232.172.151])\\n        by 60.1.229.65 (2.15.9/2.15.9) with SMTP id koZuaTene3JzFS;\\n        Mon, 16 Apr 2007 16:33:15 +0800</td>\n",
       "      <td>NaN</td>\n",
       "      <td>NaN</td>\n",
       "      <td>NaN</td>\n",
       "      <td>NaN</td>\n",
       "      <td>NaN</td>\n",
       "      <td>NaN</td>\n",
       "      <td>NaN</td>\n",
       "      <td>NaN</td>\n",
       "      <td>...</td>\n",
       "      <td>NaN</td>\n",
       "      <td>NaN</td>\n",
       "      <td>NaN</td>\n",
       "      <td>NaN</td>\n",
       "      <td>NaN</td>\n",
       "      <td>NaN</td>\n",
       "      <td>NaN</td>\n",
       "      <td>NaN</td>\n",
       "      <td>NaN</td>\n",
       "      <td>1</td>\n",
       "    </tr>\n",
       "    <tr>\n",
       "      <th>33</th>\n",
       "      <td>from ALagny-109-1-2-201.w80-11.abo.wanadoo.fr (ALagny-109-1-2-201.w80-11.abo.wanadoo.fr [80.11.69.201])\\n\\tby speedy.uwaterloo.ca (8.12.8/8.12.5) with SMTP id l3G8ZX0I003682\\n\\tfor &lt;wheat@speedy.uwaterloo.ca&gt;; Mon, 16 Apr 2007 04:35:34 -0400</td>\n",
       "      <td>(qmail 7917 by uid 530); Mon, 16 Apr 2007 10:37:17 +0100</td>\n",
       "      <td>NaN</td>\n",
       "      <td>NaN</td>\n",
       "      <td>NaN</td>\n",
       "      <td>NaN</td>\n",
       "      <td>NaN</td>\n",
       "      <td>NaN</td>\n",
       "      <td>NaN</td>\n",
       "      <td>NaN</td>\n",
       "      <td>...</td>\n",
       "      <td>NaN</td>\n",
       "      <td>NaN</td>\n",
       "      <td>NaN</td>\n",
       "      <td>NaN</td>\n",
       "      <td>NaN</td>\n",
       "      <td>NaN</td>\n",
       "      <td>NaN</td>\n",
       "      <td>High</td>\n",
       "      <td>NaN</td>\n",
       "      <td>1</td>\n",
       "    </tr>\n",
       "    <tr>\n",
       "      <th>34</th>\n",
       "      <td>from spb-213-33-250-250.sovintel.ru (spb-213-33-250-250.sovintel.ru [213.33.250.250] (may be forged))\\n\\tby speedy.uwaterloo.ca (8.12.8/8.12.5) with SMTP id l3G8eC0I003713\\n\\tfor &lt;wpcylfbnyvfgnitpick@speedy.uwaterloo.ca&gt;; Mon, 16 Apr 2007 04:40:17 -0400</td>\n",
       "      <td>(qmail 8323 by uid 578); Mon, 16 Apr 2007 12:40:57 +0300</td>\n",
       "      <td>NaN</td>\n",
       "      <td>NaN</td>\n",
       "      <td>NaN</td>\n",
       "      <td>NaN</td>\n",
       "      <td>NaN</td>\n",
       "      <td>NaN</td>\n",
       "      <td>NaN</td>\n",
       "      <td>NaN</td>\n",
       "      <td>...</td>\n",
       "      <td>NaN</td>\n",
       "      <td>NaN</td>\n",
       "      <td>NaN</td>\n",
       "      <td>NaN</td>\n",
       "      <td>NaN</td>\n",
       "      <td>NaN</td>\n",
       "      <td>NaN</td>\n",
       "      <td>High</td>\n",
       "      <td>NaN</td>\n",
       "      <td>1</td>\n",
       "    </tr>\n",
       "    <tr>\n",
       "      <th>35</th>\n",
       "      <td>from localhost.localdomain ([222.127.93.11])\\n\\tby speedy.uwaterloo.ca (8.12.8/8.12.5) with SMTP id l3G8im0I003735\\n\\tfor &lt;manager@speedy.uwaterloo.ca&gt;; Mon, 16 Apr 2007 04:44:49 -0400</td>\n",
       "      <td>NaN</td>\n",
       "      <td>NaN</td>\n",
       "      <td>NaN</td>\n",
       "      <td>NaN</td>\n",
       "      <td>NaN</td>\n",
       "      <td>NaN</td>\n",
       "      <td>NaN</td>\n",
       "      <td>NaN</td>\n",
       "      <td>NaN</td>\n",
       "      <td>...</td>\n",
       "      <td>NaN</td>\n",
       "      <td>NaN</td>\n",
       "      <td>NaN</td>\n",
       "      <td>NaN</td>\n",
       "      <td>NaN</td>\n",
       "      <td>NaN</td>\n",
       "      <td>NaN</td>\n",
       "      <td>NaN</td>\n",
       "      <td>NaN</td>\n",
       "      <td>1</td>\n",
       "    </tr>\n",
       "    <tr>\n",
       "      <th>36</th>\n",
       "      <td>from cnnimail21.cnn.com (cnnimail21.cnn.com [64.236.25.78])\\n\\tby speedy.uwaterloo.ca (8.12.8/8.12.5) with ESMTP id l39Ian0I018155\\n\\tfor &lt;ktwarwic@SPEEDY.UWATERLOO.CA&gt;; Mon, 9 Apr 2007 14:36:49 -0400</td>\n",
       "      <td>from cnnimail17 (cnnimail17.turner.com) by cnnimail21.cnn.com (LSMTP for Windows NT v1.1b) with SMTP id &lt;28.00060F50@cnnimail21.cnn.com&gt;; Mon, 9 Apr 2007 14:32:26 -0400</td>\n",
       "      <td>NaN</td>\n",
       "      <td>NaN</td>\n",
       "      <td>NaN</td>\n",
       "      <td>NaN</td>\n",
       "      <td>NaN</td>\n",
       "      <td>NaN</td>\n",
       "      <td>NaN</td>\n",
       "      <td>NaN</td>\n",
       "      <td>...</td>\n",
       "      <td>NaN</td>\n",
       "      <td>NaN</td>\n",
       "      <td>NaN</td>\n",
       "      <td>NaN</td>\n",
       "      <td>NaN</td>\n",
       "      <td>NaN</td>\n",
       "      <td>NaN</td>\n",
       "      <td>NaN</td>\n",
       "      <td>NaN</td>\n",
       "      <td>0</td>\n",
       "    </tr>\n",
       "    <tr>\n",
       "      <th>37</th>\n",
       "      <td>from lists.develooper.com (x6.develooper.com [63.251.223.186])\\n\\tby speedy.uwaterloo.ca (8.12.8/8.12.5) with SMTP id l3G8j60I003746\\n\\tfor &lt;ktwarwic@speedy.uwaterloo.ca&gt;; Mon, 16 Apr 2007 04:45:07 -0400</td>\n",
       "      <td>(qmail 9904 invoked by uid 514); 16 Apr 2007 08:44:39 -0000</td>\n",
       "      <td>(qmail 9895 invoked from network); 16 Apr 2007 08:44:38 -0000</td>\n",
       "      <td>from x1a.develooper.com (HELO x1.develooper.com) (216.52.237.111)\\n  by lists.develooper.com with SMTP; 16 Apr 2007 08:44:38 -0000</td>\n",
       "      <td>(qmail 22936 invoked by uid 225); 16 Apr 2007 08:44:38 -0000</td>\n",
       "      <td>(qmail 22924 invoked by alias); 16 Apr 2007 08:44:37 -0000</td>\n",
       "      <td>from sd-green-bigip-177.dreamhost.com (HELO spaceymail-a1.g.dreamhost.com) (208.97.132.177)\\n    by la.mx.develooper.com (qpsmtpd/0.28) with ESMTP; Mon, 16 Apr 2007 01:44:35 -0700</td>\n",
       "      <td>from [192.168.1.64] (unknown [89.129.60.168])\\n\\tby spaceymail-a1.g.dreamhost.com (Postfix) with ESMTP id 5FE8A81692\\n\\tfor &lt;beginners@perl.org&gt;; Mon, 16 Apr 2007 01:36:46 -0700 (PDT)</td>\n",
       "      <td>NaN</td>\n",
       "      <td>NaN</td>\n",
       "      <td>...</td>\n",
       "      <td>NaN</td>\n",
       "      <td>pass (x1.develooper.com: local policy)</td>\n",
       "      <td>NaN</td>\n",
       "      <td>NaN</td>\n",
       "      <td>contact beginners-help@perl.org; run by ezmlm</td>\n",
       "      <td>la.mx.develooper.com</td>\n",
       "      <td>NaN</td>\n",
       "      <td>NaN</td>\n",
       "      <td>NaN</td>\n",
       "      <td>0</td>\n",
       "    </tr>\n",
       "    <tr>\n",
       "      <th>38</th>\n",
       "      <td>from plg2.math.uwaterloo.ca (plg2.math.uwaterloo.ca [129.97.186.80])\\n\\tby speedy.uwaterloo.ca (8.12.8/8.12.5) with ESMTP id l3G8le0I003760;\\n\\tMon, 16 Apr 2007 04:47:40 -0400</td>\n",
       "      <td>from S010600402b67810c.vc.shawcable.net (S010600402b67810c.vc.shawcable.net [24.87.44.164])\\n\\tby plg2.math.uwaterloo.ca (8.13.8/8.13.8) with SMTP id l3G8ksI5005179;\\n\\tMon, 16 Apr 2007 04:46:58 -0400 (EDT)</td>\n",
       "      <td>NaN</td>\n",
       "      <td>NaN</td>\n",
       "      <td>NaN</td>\n",
       "      <td>NaN</td>\n",
       "      <td>NaN</td>\n",
       "      <td>NaN</td>\n",
       "      <td>NaN</td>\n",
       "      <td>NaN</td>\n",
       "      <td>...</td>\n",
       "      <td>NaN</td>\n",
       "      <td>NaN</td>\n",
       "      <td>NaN</td>\n",
       "      <td>NaN</td>\n",
       "      <td>NaN</td>\n",
       "      <td>NaN</td>\n",
       "      <td>NaN</td>\n",
       "      <td>NaN</td>\n",
       "      <td>NaN</td>\n",
       "      <td>1</td>\n",
       "    </tr>\n",
       "    <tr>\n",
       "      <th>39</th>\n",
       "      <td>from ppp-183-175.20-151.libero.it (ppp-183-175.20-151.libero.it [151.20.175.183])\\n\\tby speedy.uwaterloo.ca (8.12.8/8.12.5) with ESMTP id l3G8tn0I003806\\n\\tfor &lt;manager@speedy.uwaterloo.ca&gt;; Mon, 16 Apr 2007 04:55:50 -0400</td>\n",
       "      <td>from win2kelena\\n\\tby orca.com with ASMTP id 1A58A525\\n\\tfor &lt;manager@speedy.uwaterloo.ca&gt;; Mon, 16 Apr 2007 10:59:26 +0200</td>\n",
       "      <td>from win2kelena ([129.155.199.37])\\n\\tby orca.com with ESMTP id 6F58FCF5465B\\n\\tfor &lt;manager@speedy.uwaterloo.ca&gt;; Mon, 16 Apr 2007 10:59:25 +0200</td>\n",
       "      <td>NaN</td>\n",
       "      <td>NaN</td>\n",
       "      <td>NaN</td>\n",
       "      <td>NaN</td>\n",
       "      <td>NaN</td>\n",
       "      <td>NaN</td>\n",
       "      <td>NaN</td>\n",
       "      <td>...</td>\n",
       "      <td>NaN</td>\n",
       "      <td>NaN</td>\n",
       "      <td>NaN</td>\n",
       "      <td>NaN</td>\n",
       "      <td>NaN</td>\n",
       "      <td>NaN</td>\n",
       "      <td>NaN</td>\n",
       "      <td>NaN</td>\n",
       "      <td>NaN</td>\n",
       "      <td>1</td>\n",
       "    </tr>\n",
       "  </tbody>\n",
       "</table>\n",
       "<p>40 rows × 69 columns</p>\n",
       "</div>"
      ],
      "text/plain": [
       "                                                                                                                                                                                                                                                        received1  \\\n",
       "0                                                                                                                   from 129.97.78.23 ([211.202.101.74])\\n\\tby speedy.uwaterloo.ca (8.12.8/8.12.5) with SMTP id l38H7G0I003017;\\n\\tSun, 8 Apr 2007 13:07:21 -0400   \n",
       "1                                                  from hypatia.math.ethz.ch (hypatia.math.ethz.ch [129.132.145.15])\\n\\tby speedy.uwaterloo.ca (8.12.8/8.12.5) with ESMTP id l38HLT0I003198\\n\\tfor <ktwarwic@speedy.uwaterloo.ca>; Sun, 8 Apr 2007 13:21:30 -0400   \n",
       "2                                       from friend (82-44-240-212.cable.ubr01.haye.blueyonder.co.uk [82.44.240.212])\\n\\tby speedy.uwaterloo.ca (8.12.8/8.12.5) with ESMTP id l38KAj0I004816\\n\\tfor <manager@speedy.uwaterloo.ca>; Sun, 8 Apr 2007 16:10:49 -0400   \n",
       "3                                                        from cnnimail22.cnn.com (cnnimail22.cnn.com [64.236.25.79])\\n\\tby speedy.uwaterloo.ca (8.12.8/8.12.5) with ESMTP id l39IYQ0I018124\\n\\tfor <ktwarwic@SPEEDY.UWATERLOO.CA>; Mon, 9 Apr 2007 14:34:26 -0400   \n",
       "4                                                                                   from localhost ([220.234.26.96])\\n\\tby speedy.uwaterloo.ca (8.12.8/8.12.5) with SMTP id l3G7vQ0I002949\\n\\tfor <gnitpick@speedy.uwaterloo.ca>; Mon, 16 Apr 2007 03:57:28 -0400   \n",
       "5                                                                                                             from mail.cipryk.com ([222.254.223.226])\\n\\tby speedy.uwaterloo.ca (8.12.8/8.12.5) with ESMTP id l3G7vv0I002955;\\n\\tMon, 16 Apr 2007 03:57:59 -0400   \n",
       "6                                                        from murphy.debian.org (murphy.debian.org [70.103.162.31])\\n\\tby speedy.uwaterloo.ca (8.12.8/8.12.5) with ESMTP id l3G7wc0I002964\\n\\tfor <ktwarwic@speedy.uwaterloo.ca>; Mon, 16 Apr 2007 03:58:38 -0400   \n",
       "7                                                from plg2.math.uwaterloo.ca (plg2.math.uwaterloo.ca [129.97.186.80])\\n\\tby speedy.uwaterloo.ca (8.12.8/8.12.5) with ESMTP id l3G7wt0I002970\\n\\tfor <theplg@speedy.uwaterloo.ca>; Mon, 16 Apr 2007 03:58:55 -0400   \n",
       "8                        from chello089078077243.chello.pl (chello089078077243.chello.pl [89.78.77.243])\\n\\tby speedy.uwaterloo.ca (8.12.8/8.12.5) with SMTP id l3G83C0I003343\\n\\tfor <tabvrttypmcbgnitpick@speedy.uwaterloo.ca>; Mon, 16 Apr 2007 04:03:13 -0400   \n",
       "9                                                                                   from sn00b00b ([89.25.119.123])\\n\\tby speedy.uwaterloo.ca (8.12.8/8.12.5) with ESMTP id l3G8430I003356\\n\\tfor <ktwarwic@speedy.uwaterloo.ca>; Mon, 16 Apr 2007 04:04:05 -0400   \n",
       "10                                                          from nicktalktime.com (nicktalktime.com [216.22.49.121])\\n\\tby speedy.uwaterloo.ca (8.12.8/8.12.5) with SMTP id l3G8690I003373\\n\\tfor <cruiseca@speedy.uwaterloo.ca>; Mon, 16 Apr 2007 04:06:10 -0400   \n",
       "11                                             from plg2.math.uwaterloo.ca (plg2.math.uwaterloo.ca [129.97.186.80])\\n\\tby speedy.uwaterloo.ca (8.12.8/8.12.5) with ESMTP id l3G8AT0I003449\\n\\tfor <theorize@speedy.uwaterloo.ca>; Mon, 16 Apr 2007 04:10:30 -0400   \n",
       "12                                               from plg2.math.uwaterloo.ca (plg2.math.uwaterloo.ca [129.97.186.80])\\n\\tby speedy.uwaterloo.ca (8.12.8/8.12.5) with ESMTP id l3G8Ch0I003467\\n\\tfor <theplg@speedy.uwaterloo.ca>; Mon, 16 Apr 2007 04:12:43 -0400   \n",
       "13                                               from plg2.math.uwaterloo.ca (plg2.math.uwaterloo.ca [129.97.186.80])\\n\\tby speedy.uwaterloo.ca (8.12.8/8.12.5) with ESMTP id l3G8Cj0I003472\\n\\tfor <theplg@speedy.uwaterloo.ca>; Mon, 16 Apr 2007 04:12:45 -0400   \n",
       "14                from localhost.localdomain (APlessis-Bouchard-151-1-75-111.w86-203.abo.wanadoo.fr [86.203.181.111])\\n\\tby speedy.uwaterloo.ca (8.12.8/8.12.5) with SMTP id l39IZX0I018139\\n\\tfor <gnitpick@speedy.uwaterloo.ca>; Mon, 9 Apr 2007 14:35:35 -0400   \n",
       "15                                                                       from CAVin02.kuleuven.be ([82.114.81.149])\\n\\tby speedy.uwaterloo.ca (8.12.8/8.12.5) with ESMTP id l3G8DE0I003479\\n\\tfor <gnitpick@speedy.uwaterloo.ca>; Mon, 16 Apr 2007 04:13:15 -0400   \n",
       "16                                                           from pedal.laptop.org (pedal.laptop.org [18.85.2.148])\\n\\tby speedy.uwaterloo.ca (8.12.8/8.12.5) with ESMTP id l3G8E40I003488\\n\\tfor <ktwarwic@speedy.uwaterloo.ca>; Mon, 16 Apr 2007 04:14:04 -0400   \n",
       "17            from host-216-119-183-219.vista-express.com (host-216-119-183-219.vista-express.com [216.119.183.219])\\n\\tby speedy.uwaterloo.ca (8.12.8/8.12.5) with SMTP id l3G8Eg0I003495\\n\\tfor <ktwarwic@speedy.uwaterloo.ca>; Mon, 16 Apr 2007 04:14:42 -0400   \n",
       "18                                               from plg2.math.uwaterloo.ca (plg2.math.uwaterloo.ca [129.97.186.80])\\n\\tby speedy.uwaterloo.ca (8.12.8/8.12.5) with ESMTP id l3G8F50I003507\\n\\tfor <theplg@speedy.uwaterloo.ca>; Mon, 16 Apr 2007 04:15:05 -0400   \n",
       "19                                                from hypatia.math.ethz.ch (hypatia.math.ethz.ch [129.132.145.15])\\n\\tby speedy.uwaterloo.ca (8.12.8/8.12.5) with ESMTP id l3G8Hm0I003520\\n\\tfor <ktwarwic@speedy.uwaterloo.ca>; Mon, 16 Apr 2007 04:17:49 -0400   \n",
       "20                                                    from lists.develooper.com (x6.develooper.com [63.251.223.186])\\n\\tby speedy.uwaterloo.ca (8.12.8/8.12.5) with SMTP id l3G8J00I003530\\n\\tfor <ktwarwic@speedy.uwaterloo.ca>; Mon, 16 Apr 2007 04:19:01 -0400   \n",
       "21                                                    from lists.develooper.com (x6.develooper.com [63.251.223.186])\\n\\tby speedy.uwaterloo.ca (8.12.8/8.12.5) with SMTP id l3G8Jc0I003539\\n\\tfor <ktwarwic@speedy.uwaterloo.ca>; Mon, 16 Apr 2007 04:19:39 -0400   \n",
       "22                                     from outbound3.groundspring.org (outbound3.groundspring.org [64.147.173.68])\\n\\tby speedy.uwaterloo.ca (8.12.8/8.12.5) with ESMTP id l3G8Kn0I003558\\n\\tfor <ktwarwic@speedy.uwaterloo.ca>; Mon, 16 Apr 2007 04:20:49 -0400   \n",
       "23                                      from j23spq9bij.adsl.datanet.hu (j23spq9bij.adsl.datanet.hu [91.120.106.20])\\n\\tby speedy.uwaterloo.ca (8.12.8/8.12.5) with SMTP id l3G8Kx0I003564\\n\\tfor <vcoopers@speedy.uwaterloo.ca>; Mon, 16 Apr 2007 04:21:00 -0400   \n",
       "24                                                             from lists.samba.org (mail.samba.org [66.70.73.150])\\n\\tby speedy.uwaterloo.ca (8.12.8/8.12.5) with ESMTP id l3G8Le0I003572\\n\\tfor <ktwarwic@speedy.uwaterloo.ca>; Mon, 16 Apr 2007 04:21:40 -0400   \n",
       "25                                                 from cnnimail33.turner.com (cnnimail33.turner.com [64.236.25.90])\\n\\tby speedy.uwaterloo.ca (8.12.8/8.12.5) with ESMTP id l39IaC0I018147\\n\\tfor <ktwarwic@speedy.uwaterloo.ca>; Mon, 9 Apr 2007 14:36:12 -0400   \n",
       "26                                                from hypatia.math.ethz.ch (hypatia.math.ethz.ch [129.132.145.15])\\n\\tby speedy.uwaterloo.ca (8.12.8/8.12.5) with ESMTP id l3G8N70I003584\\n\\tfor <ktwarwic@speedy.uwaterloo.ca>; Mon, 16 Apr 2007 04:23:07 -0400   \n",
       "27                                               from plg2.math.uwaterloo.ca (plg2.math.uwaterloo.ca [129.97.186.80])\\n\\tby speedy.uwaterloo.ca (8.12.8/8.12.5) with ESMTP id l3G8Nu0I003592\\n\\tfor <theplg@speedy.uwaterloo.ca>; Mon, 16 Apr 2007 04:23:56 -0400   \n",
       "28                                               from plg2.math.uwaterloo.ca (plg2.math.uwaterloo.ca [129.97.186.80])\\n\\tby speedy.uwaterloo.ca (8.12.8/8.12.5) with ESMTP id l3G8PJ0I003607\\n\\tfor <theplg@speedy.uwaterloo.ca>; Mon, 16 Apr 2007 04:25:19 -0400   \n",
       "29                                               from plg2.math.uwaterloo.ca (plg2.math.uwaterloo.ca [129.97.186.80])\\n\\tby speedy.uwaterloo.ca (8.12.8/8.12.5) with ESMTP id l3G8PT0I003612\\n\\tfor <theplg@speedy.uwaterloo.ca>; Mon, 16 Apr 2007 04:25:29 -0400   \n",
       "30                                               from plg2.math.uwaterloo.ca (plg2.math.uwaterloo.ca [129.97.186.80])\\n\\tby speedy.uwaterloo.ca (8.12.8/8.12.5) with ESMTP id l3G8T90I003630\\n\\tfor <theplg@speedy.uwaterloo.ca>; Mon, 16 Apr 2007 04:29:09 -0400   \n",
       "31                                                     from friend (12-218-218-80.client.mchsi.com [12.218.218.80])\\n\\tby speedy.uwaterloo.ca (8.12.8/8.12.5) with ESMTP id l3G8VI0I003652\\n\\tfor <gnitpick@speedy.uwaterloo.ca>; Mon, 16 Apr 2007 04:31:18 -0400   \n",
       "32                                                                              from globalnetco.com ([60.1.229.65])\\n\\tby speedy.uwaterloo.ca (8.12.8/8.12.5) with SMTP id l3G8Xd0I003665\\n\\tfor <ktwarwic@speedy.uwaterloo.ca>; Mon, 16 Apr 2007 04:33:42 -0400   \n",
       "33              from ALagny-109-1-2-201.w80-11.abo.wanadoo.fr (ALagny-109-1-2-201.w80-11.abo.wanadoo.fr [80.11.69.201])\\n\\tby speedy.uwaterloo.ca (8.12.8/8.12.5) with SMTP id l3G8ZX0I003682\\n\\tfor <wheat@speedy.uwaterloo.ca>; Mon, 16 Apr 2007 04:35:34 -0400   \n",
       "34  from spb-213-33-250-250.sovintel.ru (spb-213-33-250-250.sovintel.ru [213.33.250.250] (may be forged))\\n\\tby speedy.uwaterloo.ca (8.12.8/8.12.5) with SMTP id l3G8eC0I003713\\n\\tfor <wpcylfbnyvfgnitpick@speedy.uwaterloo.ca>; Mon, 16 Apr 2007 04:40:17 -0400   \n",
       "35                                                                       from localhost.localdomain ([222.127.93.11])\\n\\tby speedy.uwaterloo.ca (8.12.8/8.12.5) with SMTP id l3G8im0I003735\\n\\tfor <manager@speedy.uwaterloo.ca>; Mon, 16 Apr 2007 04:44:49 -0400   \n",
       "36                                                       from cnnimail21.cnn.com (cnnimail21.cnn.com [64.236.25.78])\\n\\tby speedy.uwaterloo.ca (8.12.8/8.12.5) with ESMTP id l39Ian0I018155\\n\\tfor <ktwarwic@SPEEDY.UWATERLOO.CA>; Mon, 9 Apr 2007 14:36:49 -0400   \n",
       "37                                                    from lists.develooper.com (x6.develooper.com [63.251.223.186])\\n\\tby speedy.uwaterloo.ca (8.12.8/8.12.5) with SMTP id l3G8j60I003746\\n\\tfor <ktwarwic@speedy.uwaterloo.ca>; Mon, 16 Apr 2007 04:45:07 -0400   \n",
       "38                                                                                from plg2.math.uwaterloo.ca (plg2.math.uwaterloo.ca [129.97.186.80])\\n\\tby speedy.uwaterloo.ca (8.12.8/8.12.5) with ESMTP id l3G8le0I003760;\\n\\tMon, 16 Apr 2007 04:47:40 -0400   \n",
       "39                                 from ppp-183-175.20-151.libero.it (ppp-183-175.20-151.libero.it [151.20.175.183])\\n\\tby speedy.uwaterloo.ca (8.12.8/8.12.5) with ESMTP id l3G8tn0I003806\\n\\tfor <manager@speedy.uwaterloo.ca>; Mon, 16 Apr 2007 04:55:50 -0400   \n",
       "\n",
       "                                                                                                                                                                                                                                       received2  \\\n",
       "0                                                                                                                                                                            from 0.144.152.6 by 211.202.101.74; Sun, 08 Apr 2007 19:04:48 +0100   \n",
       "1                                                                                from hypatia.math.ethz.ch (hypatia [129.132.145.15])\\n\\tby hypatia.math.ethz.ch (8.13.6/8.13.6) with ESMTP id l38HJlI9027046;\\n\\tSun, 8 Apr 2007 19:20:13 +0200   \n",
       "2                                                                                                                                                                                                                                            NaN   \n",
       "3                                                                       from cnnimail23 (cnnimail23.turner.com) by cnnimail22.cnn.com (LSMTP for Windows NT v1.1b) with SMTP id <12.00054F1D@cnnimail22.cnn.com>; Mon, 9 Apr 2007 14:26:36 -0400   \n",
       "4                                                                                                                                                                                                                                            NaN   \n",
       "5                               from 213.98.153.32 (HELO webmail.cipsabilbao.net)\\n     by speedy.uwaterloo.ca with esmtp (.>0A'XK@*U9 .4I63T)\\n     id ?2,5))-J8Q38>-QU\\n     for gnitpick@speedy.uwaterloo.ca; Mon, 16 Apr 2007 07:57:33 -0700   \n",
       "6                                                                                                     from localhost (localhost [127.0.0.1])\\n\\tby murphy.debian.org (Postfix) with QMQP\\n\\tid EAB972EC6D; Mon, 16 Apr 2007 02:57:59 -0500 (CDT)   \n",
       "7                                                                                          from dexmedia.com ([218.95.95.33])\\n\\tby plg2.math.uwaterloo.ca (8.13.8/8.13.8) with SMTP id l3G7wB3a019394;\\n\\tMon, 16 Apr 2007 03:58:15 -0400 (EDT)   \n",
       "8                                                                                                                                                                                       (qmail 6719 by uid 496); Tue, 17 Apr 2007 10:03:08 +0100   \n",
       "9                                      from 206.127.230.25 (HELO mail.computant.com)\\n     by speedy.uwaterloo.ca with esmtp (1AN@//S-3 76IZB)\\n     id +0,VUD-Z9U)<9-V9\\n     for ktwarwic@speedy.uwaterloo.ca; Mon, 16 Apr 2007 08:03:19 -0120   \n",
       "10                                                                                                                                                                                                                                           NaN   \n",
       "11              from your-55e5f9e3d2.cfl.rr.com (183.242.8.67.cfl.res.rr.com [67.8.242.183])\\n\\tby plg2.math.uwaterloo.ca (8.13.8/8.13.8) with ESMTP id l3G874gH012141\\n\\tfor <theorize@plg.uwaterloo.ca>; Mon, 16 Apr 2007 04:07:07 -0400 (EDT)   \n",
       "12        from 84.241.23.79.rasana.net (84.241.23.79.rasana.net [84.241.23.79] (may be forged))\\n\\tby plg2.math.uwaterloo.ca (8.13.8/8.13.8) with ESMTP id l3G8CDuw028395\\n\\tfor <the00@plg.uwaterloo.ca>; Mon, 16 Apr 2007 04:12:17 -0400 (EDT)   \n",
       "13  from 84.241.23.79.rasana.net (84.241.23.79.rasana.net [84.241.23.79] (may be forged))\\n\\tby plg2.math.uwaterloo.ca (8.13.8/8.13.8) with ESMTP id l3G8CG2k028850\\n\\tfor <the00@plg2.math.uwaterloo.ca>; Mon, 16 Apr 2007 04:12:19 -0400 (EDT)   \n",
       "14                                                                                                                                                                                                                                           NaN   \n",
       "15                                                                                                                                                                                                                                           NaN   \n",
       "16                                                                                             from pedal.laptop.org (localhost [127.0.0.1])\\n\\tby pedal.laptop.org (Postfix) with ESMTP id 1580A4F7CF;\\n\\tMon, 16 Apr 2007 04:13:16 -0400 (EDT)   \n",
       "17                                                                                                                                                                                                                                           NaN   \n",
       "18                from sify.net (221-134-254-13.sify.net [221.134.254.13] (may be forged))\\n\\tby plg2.math.uwaterloo.ca (8.13.8/8.13.8) with SMTP id l3G8ETuL020343\\n\\tfor <the00@plg2.math.uwaterloo.ca>; Mon, 16 Apr 2007 04:14:36 -0400 (EDT)   \n",
       "19                                                                              from hypatia.math.ethz.ch (hypatia [129.132.145.15])\\n\\tby hypatia.math.ethz.ch (8.13.6/8.13.6) with ESMTP id l3G8GFKj019678;\\n\\tMon, 16 Apr 2007 10:16:35 +0200   \n",
       "20                                                                                                                                                                                   (qmail 2133 invoked by uid 514); 16 Apr 2007 08:18:31 -0000   \n",
       "21                                                                                                                                                                                   (qmail 5931 invoked by uid 514); 16 Apr 2007 08:19:14 -0000   \n",
       "22                                        from yangtze.groundspring.org (yangtze [192.168.0.12])\\n\\tby outbound3.groundspring.org (Postfix) with SMTP id ABE124EEC5\\n\\tfor <ktwarwic@speedy.uwaterloo.ca>; Mon, 16 Apr 2007 01:18:55 -0700 (PDT)   \n",
       "23                                                                                                                                                                                     (qmail 12594 by uid 375); Mon, 16 Apr 2007 10:22:45 +0100   \n",
       "24                                                              from dp.samba.org (localhost [127.0.0.1])\\n\\tby lists.samba.org (Postfix) with ESMTP id 0389C1638E8\\n\\tfor <ktwarwic@speedy.uwaterloo.ca>; Mon, 16 Apr 2007 08:21:15 +0000 (GMT)   \n",
       "25                                                                                                                                          from mail.cnn.com (10.165.130.87)\\n  by cnnimail33.turner.com with ESMTP; 09 Apr 2007 14:35:52 -0400   \n",
       "26                                                                              from hypatia.math.ethz.ch (hypatia [129.132.145.15])\\n\\tby hypatia.math.ethz.ch (8.13.6/8.13.6) with ESMTP id l3G8LiPp021988;\\n\\tMon, 16 Apr 2007 10:21:55 +0200   \n",
       "27                                                               from localhost ([88.229.71.97])\\n\\tby plg2.math.uwaterloo.ca (8.13.8/8.13.8) with SMTP id l3G8NQJi027261\\n\\tfor <the00@plg.uwaterloo.ca>; Mon, 16 Apr 2007 04:23:29 -0400 (EDT)   \n",
       "28                         from qsjwoy (pool-68-239-27-118.bos.east.verizon.net [68.239.27.118])\\n\\tby plg2.math.uwaterloo.ca (8.13.8/8.13.8) with SMTP id l3G8OmY4027696\\n\\tfor <the00@plg.uwaterloo.ca>; Mon, 16 Apr 2007 04:24:51 -0400 (EDT)   \n",
       "29                    from xwhmx (pool-68-239-27-118.bos.east.verizon.net [68.239.27.118])\\n\\tby plg2.math.uwaterloo.ca (8.13.8/8.13.8) with SMTP id l3G8P1d2027771\\n\\tfor <the00@plg2.math.uwaterloo.ca>; Mon, 16 Apr 2007 04:25:04 -0400 (EDT)   \n",
       "30                                                       from [151.56.236.82] ([151.56.236.82])\\n\\tby plg2.math.uwaterloo.ca (8.13.8/8.13.8) with ESMTP id l3G8SdI6028995\\n\\tfor <the00@plg.uwaterloo.ca>; Mon, 16 Apr 2007 04:28:43 -0400 (EDT)   \n",
       "31                                                                                                                                                                                                                                           NaN   \n",
       "32                                                                                          from MICROSOF297F64 ([76.232.172.151])\\n        by 60.1.229.65 (2.15.9/2.15.9) with SMTP id koZuaTene3JzFS;\\n        Mon, 16 Apr 2007 16:33:15 +0800   \n",
       "33                                                                                                                                                                                      (qmail 7917 by uid 530); Mon, 16 Apr 2007 10:37:17 +0100   \n",
       "34                                                                                                                                                                                      (qmail 8323 by uid 578); Mon, 16 Apr 2007 12:40:57 +0300   \n",
       "35                                                                                                                                                                                                                                           NaN   \n",
       "36                                                                      from cnnimail17 (cnnimail17.turner.com) by cnnimail21.cnn.com (LSMTP for Windows NT v1.1b) with SMTP id <28.00060F50@cnnimail21.cnn.com>; Mon, 9 Apr 2007 14:32:26 -0400   \n",
       "37                                                                                                                                                                                   (qmail 9904 invoked by uid 514); 16 Apr 2007 08:44:39 -0000   \n",
       "38                                from S010600402b67810c.vc.shawcable.net (S010600402b67810c.vc.shawcable.net [24.87.44.164])\\n\\tby plg2.math.uwaterloo.ca (8.13.8/8.13.8) with SMTP id l3G8ksI5005179;\\n\\tMon, 16 Apr 2007 04:46:58 -0400 (EDT)   \n",
       "39                                                                                                                   from win2kelena\\n\\tby orca.com with ASMTP id 1A58A525\\n\\tfor <manager@speedy.uwaterloo.ca>; Mon, 16 Apr 2007 10:59:26 +0200   \n",
       "\n",
       "                                                                                                                                                                                                                                                      received3  \\\n",
       "0                                                                                                                                                                                                                                                           NaN   \n",
       "1   from talk.nabble.com (www.nabble.com [72.21.53.35])\\n\\tby hypatia.math.ethz.ch (8.13.6/8.13.6) with ESMTP id l38HJeqo027003\\n\\t(version=TLSv1/SSLv3 cipher=AES256-SHA bits=256 verify=NO)\\n\\tfor <r-help@stat.math.ethz.ch>; Sun, 8 Apr 2007 19:19:42 +0200   \n",
       "2                                                                                                                                                                                                                                                           NaN   \n",
       "3                                                                                                                                                                                                                                                           NaN   \n",
       "4                                                                                                                                                                                                                                                           NaN   \n",
       "5                                                                                                                                                                                                                                                           NaN   \n",
       "6                                                               from mx1.stack.nl (meestal.stack.nl [131.155.140.141])\\n\\tby murphy.debian.org (Postfix) with ESMTP id 687682E385\\n\\tfor <debian-legal@lists.debian.org>; Mon, 16 Apr 2007 02:57:40 -0500 (CDT)   \n",
       "7                                                                                                                                                                                                                                                           NaN   \n",
       "8                                                                                                                                                                                                                                                           NaN   \n",
       "9                                                                                                                                                                                                                                                           NaN   \n",
       "10                                                                                                                                                                                                                                                          NaN   \n",
       "11                                                                          from 212.233.6.38 (HELO pop.sopura.com)\\n     by plg.uwaterloo.ca with (8.19.5/8.77.8) ESMTP id ow4v4kx206zqdw\\n     for theorize@plg.uwaterloo.ca; Mon, 16 Apr 2007 09:05:42 +0300   \n",
       "12                                                                                                                                                                                                                                                          NaN   \n",
       "13                                                                                                                                                                                                                                                          NaN   \n",
       "14                                                                                                                                                                                                                                                          NaN   \n",
       "15                                                                                                                                                                                                                                                          NaN   \n",
       "16                                                                              from spam.laptop.org (spam.laptop.org [18.85.46.23])\\n\\tby pedal.laptop.org (Postfix) with ESMTP id 56E4A4F7CF\\n\\tfor <sugar@laptop.org>; Mon, 16 Apr 2007 04:13:15 -0400 (EDT)   \n",
       "17                                                                                                                                                                                                                                                          NaN   \n",
       "18                                                                                                                                                                                                                                                          NaN   \n",
       "19                                from web27508.mail.ukl.yahoo.com (web27508.mail.ukl.yahoo.com\\n\\t[217.146.177.212])\\n\\tby hypatia.math.ethz.ch (8.13.6/8.13.6) with SMTP id l3G8G4uf019639\\n\\tfor <r-help@stat.math.ethz.ch>; Mon, 16 Apr 2007 10:16:04 +0200   \n",
       "20                                                                                                                                                                                                (qmail 8076 invoked from network); 15 Apr 2007 16:38:32 -0000   \n",
       "21                                                                                                                                                                                                (qmail 5890 invoked from network); 16 Apr 2007 08:19:13 -0000   \n",
       "22                                                                                                                                                                                                                                                          NaN   \n",
       "23                                                                                                                                                                                                                                                          NaN   \n",
       "24                                                                                                                                                       by lists.samba.org (Postfix, from userid 620)\\n\\tid 6A99416383E; Mon, 16 Apr 2007 08:20:16 +0000 (GMT)   \n",
       "25                                                                                                                                                                                                                                                          NaN   \n",
       "26                                              from mta1.srv.hcvlny.cv.net (mta1.srv.hcvlny.cv.net [167.206.4.196])\\n\\tby hypatia.math.ethz.ch (8.13.6/8.13.6) with ESMTP id l3G8LPU9021814\\n\\tfor <r-help@stat.math.ethz.ch>; Mon, 16 Apr 2007 10:21:25 +0200   \n",
       "27                                                                                                                                                                                                                                                          NaN   \n",
       "28                                                                                                                                                                                                                                                          NaN   \n",
       "29                                                                                                                                                                                                                                                          NaN   \n",
       "30                                                                                                                                     from spin\\n\\tby palpaperchem.com with ASMTP id 1F52CBEB\\n\\tfor <the00@plg.uwaterloo.ca>; Sat, 14 Apr 2007 13:09:18 +0200   \n",
       "31                                                                                                                                                                                                                                                          NaN   \n",
       "32                                                                                                                                                                                                                                                          NaN   \n",
       "33                                                                                                                                                                                                                                                          NaN   \n",
       "34                                                                                                                                                                                                                                                          NaN   \n",
       "35                                                                                                                                                                                                                                                          NaN   \n",
       "36                                                                                                                                                                                                                                                          NaN   \n",
       "37                                                                                                                                                                                                (qmail 9895 invoked from network); 16 Apr 2007 08:44:38 -0000   \n",
       "38                                                                                                                                                                                                                                                          NaN   \n",
       "39                                                                                                           from win2kelena ([129.155.199.37])\\n\\tby orca.com with ESMTP id 6F58FCF5465B\\n\\tfor <manager@speedy.uwaterloo.ca>; Mon, 16 Apr 2007 10:59:25 +0200   \n",
       "\n",
       "                                                                                                                                                                                                                                                                                                             received4  \\\n",
       "0                                                                                                                                                                                                                                                                                                                  NaN   \n",
       "1                                                                                                                                        from [72.21.53.38] (helo=jubjub.nabble.com)\\n\\tby talk.nabble.com with esmtp (Exim 4.50) id 1Hab3D-00049b-NM\\n\\tfor r-help@stat.math.ethz.ch; Sun, 08 Apr 2007 10:19:39 -0700   \n",
       "2                                                                                                                                                                                                                                                                                                                  NaN   \n",
       "3                                                                                                                                                                                                                                                                                                                  NaN   \n",
       "4                                                                                                                                                                                                                                                                                                                  NaN   \n",
       "5                                                                                                                                                                                                                                                                                                                  NaN   \n",
       "6                                                                                                               from toad.stack.nl (toad.stack.nl [IPv6:2001:610:1108:5010::135])\\n\\tby mx1.stack.nl (Postfix) with ESMTP id CB74A4AFCF\\n\\tfor <debian-legal@lists.debian.org>; Mon, 16 Apr 2007 09:57:40 +0200 (CEST)   \n",
       "7                                                                                                                                                                                                                                                                                                                  NaN   \n",
       "8                                                                                                                                                                                                                                                                                                                  NaN   \n",
       "9                                                                                                                                                                                                                                                                                                                  NaN   \n",
       "10                                                                                                                                                                                                                                                                                                                 NaN   \n",
       "11                                                                                                            from gh.dmpop.echomail.com ([107.65.157.195])\\n    by rbhr.dmpop.echomail.com (9.31.1.20002106/7.05.2)  with ESMTP id x86P244w993247\\n    for theorize@plg.uwaterloo.ca; Mon, 16 Apr 2007 09:05:42 +0300   \n",
       "12                                                                                                                                                                                                                                                                                                                 NaN   \n",
       "13                                                                                                                                                                                                                                                                                                                 NaN   \n",
       "14                                                                                                                                                                                                                                                                                                                 NaN   \n",
       "15                                                                                                                                                                                                                                                                                                                 NaN   \n",
       "16  from solarsail.hcs.harvard.edu (solarsail.hcs.harvard.edu\\n\\t[140.247.73.241])\\n\\t(using TLSv1 with cipher DHE-RSA-AES256-SHA (256/256 bits))\\n\\t(No client certificate requested)\\n\\tby spam.laptop.org (Spam Firewall) with ESMTP id 7EF9423063\\n\\tfor <sugar@laptop.org>; Mon, 16 Apr 2007 04:13:39 -0400 (EDT)   \n",
       "17                                                                                                                                                                                                                                                                                                                 NaN   \n",
       "18                                                                                                                                                                                                                                                                                                                 NaN   \n",
       "19                                                                                                                                                                                                                                                      (qmail 66885 invoked by uid 60001); 16 Apr 2007 08:16:04 -0000   \n",
       "20                                                                                                                                                                                                                                                                                                                 NaN   \n",
       "21                                                                                                                                                                                                                                                                                                                 NaN   \n",
       "22                                                                                                                                                                                                                                                                                                                 NaN   \n",
       "23                                                                                                                                                                                                                                                                                                                 NaN   \n",
       "24                                                                                                                                                                                                                                                                                                                 NaN   \n",
       "25                                                                                                                                                                                                                                                                                                                 NaN   \n",
       "26               from [192.168.1.103] (ool-4355370e.dyn.optonline.net [67.85.55.14])\\n\\tby mta1.srv.hcvlny.cv.net\\n\\t(Sun Java System Messaging Server 6.2-6.01 (built Apr  3 2006))\\n\\twith ESMTP id <0JGL0059F0JOBPK0@mta1.srv.hcvlny.cv.net> for\\n\\tr-help@stat.math.ethz.ch; Mon, 16 Apr 2007 04:21:24 -0400 (EDT)   \n",
       "27                                                                                                                                                                                                                                                                                                                 NaN   \n",
       "28                                                                                                                                                                                                                                                                                                                 NaN   \n",
       "29                                                                                                                                                                                                                                                                                                                 NaN   \n",
       "30                                                                                                                                                                     from spin ([137.196.135.11])\\n\\tby palpaperchem.com with ESMTP id FECCC11536E5\\n\\tfor <the00@plg.uwaterloo.ca>; Sat, 14 Apr 2007 13:09:17 +0200   \n",
       "31                                                                                                                                                                                                                                                                                                                 NaN   \n",
       "32                                                                                                                                                                                                                                                                                                                 NaN   \n",
       "33                                                                                                                                                                                                                                                                                                                 NaN   \n",
       "34                                                                                                                                                                                                                                                                                                                 NaN   \n",
       "35                                                                                                                                                                                                                                                                                                                 NaN   \n",
       "36                                                                                                                                                                                                                                                                                                                 NaN   \n",
       "37                                                                                                                                                                                  from x1a.develooper.com (HELO x1.develooper.com) (216.52.237.111)\\n  by lists.develooper.com with SMTP; 16 Apr 2007 08:44:38 -0000   \n",
       "38                                                                                                                                                                                                                                                                                                                 NaN   \n",
       "39                                                                                                                                                                                                                                                                                                                 NaN   \n",
       "\n",
       "                                                                                              received5  \\\n",
       "0                                                                                                   NaN   \n",
       "1                                                                                                   NaN   \n",
       "2                                                                                                   NaN   \n",
       "3                                                                                                   NaN   \n",
       "4                                                                                                   NaN   \n",
       "5                                                                                                   NaN   \n",
       "6   by toad.stack.nl (Postfix, from userid 488)\\n\\tid A77944118; Mon, 16 Apr 2007 09:57:33 +0200 (CEST)   \n",
       "7                                                                                                   NaN   \n",
       "8                                                                                                   NaN   \n",
       "9                                                                                                   NaN   \n",
       "10                                                                                                  NaN   \n",
       "11                                                                                                  NaN   \n",
       "12                                                                                                  NaN   \n",
       "13                                                                                                  NaN   \n",
       "14                                                                                                  NaN   \n",
       "15                                                                                                  NaN   \n",
       "16   from solarsail.hcs.harvard.edu\\n\\t(TLSv1-likely-authenticated-DHE-RSA-AES256-SHA [140.247.73.241])   \n",
       "17                                                                                                  NaN   \n",
       "18                                                                                                  NaN   \n",
       "19     from [217.19.195.242] by web27508.mail.ukl.yahoo.com via HTTP;\\n\\tMon, 16 Apr 2007 10:16:03 CEST   \n",
       "20                                                                                                  NaN   \n",
       "21                                                                                                  NaN   \n",
       "22                                                                                                  NaN   \n",
       "23                                                                                                  NaN   \n",
       "24                                                                                                  NaN   \n",
       "25                                                                                                  NaN   \n",
       "26                                                                                                  NaN   \n",
       "27                                                                                                  NaN   \n",
       "28                                                                                                  NaN   \n",
       "29                                                                                                  NaN   \n",
       "30                                                                                                  NaN   \n",
       "31                                                                                                  NaN   \n",
       "32                                                                                                  NaN   \n",
       "33                                                                                                  NaN   \n",
       "34                                                                                                  NaN   \n",
       "35                                                                                                  NaN   \n",
       "36                                                                                                  NaN   \n",
       "37                                         (qmail 22936 invoked by uid 225); 16 Apr 2007 08:44:38 -0000   \n",
       "38                                                                                                  NaN   \n",
       "39                                                                                                  NaN   \n",
       "\n",
       "                                                     received6  \\\n",
       "0                                                          NaN   \n",
       "1                                                          NaN   \n",
       "2                                                          NaN   \n",
       "3                                                          NaN   \n",
       "4                                                          NaN   \n",
       "5                                                          NaN   \n",
       "6                                                          NaN   \n",
       "7                                                          NaN   \n",
       "8                                                          NaN   \n",
       "9                                                          NaN   \n",
       "10                                                         NaN   \n",
       "11                                                         NaN   \n",
       "12                                                         NaN   \n",
       "13                                                         NaN   \n",
       "14                                                         NaN   \n",
       "15                                                         NaN   \n",
       "16                                                         NaN   \n",
       "17                                                         NaN   \n",
       "18                                                         NaN   \n",
       "19                                                         NaN   \n",
       "20                                                         NaN   \n",
       "21                                                         NaN   \n",
       "22                                                         NaN   \n",
       "23                                                         NaN   \n",
       "24                                                         NaN   \n",
       "25                                                         NaN   \n",
       "26                                                         NaN   \n",
       "27                                                         NaN   \n",
       "28                                                         NaN   \n",
       "29                                                         NaN   \n",
       "30                                                         NaN   \n",
       "31                                                         NaN   \n",
       "32                                                         NaN   \n",
       "33                                                         NaN   \n",
       "34                                                         NaN   \n",
       "35                                                         NaN   \n",
       "36                                                         NaN   \n",
       "37  (qmail 22924 invoked by alias); 16 Apr 2007 08:44:37 -0000   \n",
       "38                                                         NaN   \n",
       "39                                                         NaN   \n",
       "\n",
       "                                                                                                                                                                              received7  \\\n",
       "0                                                                                                                                                                                   NaN   \n",
       "1                                                                                                                                                                                   NaN   \n",
       "2                                                                                                                                                                                   NaN   \n",
       "3                                                                                                                                                                                   NaN   \n",
       "4                                                                                                                                                                                   NaN   \n",
       "5                                                                                                                                                                                   NaN   \n",
       "6                                                                                                                                                                                   NaN   \n",
       "7                                                                                                                                                                                   NaN   \n",
       "8                                                                                                                                                                                   NaN   \n",
       "9                                                                                                                                                                                   NaN   \n",
       "10                                                                                                                                                                                  NaN   \n",
       "11                                                                                                                                                                                  NaN   \n",
       "12                                                                                                                                                                                  NaN   \n",
       "13                                                                                                                                                                                  NaN   \n",
       "14                                                                                                                                                                                  NaN   \n",
       "15                                                                                                                                                                                  NaN   \n",
       "16                                                                                                                                                                                  NaN   \n",
       "17                                                                                                                                                                                  NaN   \n",
       "18                                                                                                                                                                                  NaN   \n",
       "19                                                                                                                                                                                  NaN   \n",
       "20                                                                                                                                                                                  NaN   \n",
       "21                                                                                                                                                                                  NaN   \n",
       "22                                                                                                                                                                                  NaN   \n",
       "23                                                                                                                                                                                  NaN   \n",
       "24                                                                                                                                                                                  NaN   \n",
       "25                                                                                                                                                                                  NaN   \n",
       "26                                                                                                                                                                                  NaN   \n",
       "27                                                                                                                                                                                  NaN   \n",
       "28                                                                                                                                                                                  NaN   \n",
       "29                                                                                                                                                                                  NaN   \n",
       "30                                                                                                                                                                                  NaN   \n",
       "31                                                                                                                                                                                  NaN   \n",
       "32                                                                                                                                                                                  NaN   \n",
       "33                                                                                                                                                                                  NaN   \n",
       "34                                                                                                                                                                                  NaN   \n",
       "35                                                                                                                                                                                  NaN   \n",
       "36                                                                                                                                                                                  NaN   \n",
       "37  from sd-green-bigip-177.dreamhost.com (HELO spaceymail-a1.g.dreamhost.com) (208.97.132.177)\\n    by la.mx.develooper.com (qpsmtpd/0.28) with ESMTP; Mon, 16 Apr 2007 01:44:35 -0700   \n",
       "38                                                                                                                                                                                  NaN   \n",
       "39                                                                                                                                                                                  NaN   \n",
       "\n",
       "                                                                                                                                                                                  received8  \\\n",
       "0                                                                                                                                                                                       NaN   \n",
       "1                                                                                                                                                                                       NaN   \n",
       "2                                                                                                                                                                                       NaN   \n",
       "3                                                                                                                                                                                       NaN   \n",
       "4                                                                                                                                                                                       NaN   \n",
       "5                                                                                                                                                                                       NaN   \n",
       "6                                                                                                                                                                                       NaN   \n",
       "7                                                                                                                                                                                       NaN   \n",
       "8                                                                                                                                                                                       NaN   \n",
       "9                                                                                                                                                                                       NaN   \n",
       "10                                                                                                                                                                                      NaN   \n",
       "11                                                                                                                                                                                      NaN   \n",
       "12                                                                                                                                                                                      NaN   \n",
       "13                                                                                                                                                                                      NaN   \n",
       "14                                                                                                                                                                                      NaN   \n",
       "15                                                                                                                                                                                      NaN   \n",
       "16                                                                                                                                                                                      NaN   \n",
       "17                                                                                                                                                                                      NaN   \n",
       "18                                                                                                                                                                                      NaN   \n",
       "19                                                                                                                                                                                      NaN   \n",
       "20                                                                                                                                                                                      NaN   \n",
       "21                                                                                                                                                                                      NaN   \n",
       "22                                                                                                                                                                                      NaN   \n",
       "23                                                                                                                                                                                      NaN   \n",
       "24                                                                                                                                                                                      NaN   \n",
       "25                                                                                                                                                                                      NaN   \n",
       "26                                                                                                                                                                                      NaN   \n",
       "27                                                                                                                                                                                      NaN   \n",
       "28                                                                                                                                                                                      NaN   \n",
       "29                                                                                                                                                                                      NaN   \n",
       "30                                                                                                                                                                                      NaN   \n",
       "31                                                                                                                                                                                      NaN   \n",
       "32                                                                                                                                                                                      NaN   \n",
       "33                                                                                                                                                                                      NaN   \n",
       "34                                                                                                                                                                                      NaN   \n",
       "35                                                                                                                                                                                      NaN   \n",
       "36                                                                                                                                                                                      NaN   \n",
       "37  from [192.168.1.64] (unknown [89.129.60.168])\\n\\tby spaceymail-a1.g.dreamhost.com (Postfix) with ESMTP id 5FE8A81692\\n\\tfor <beginners@perl.org>; Mon, 16 Apr 2007 01:36:46 -0700 (PDT)   \n",
       "38                                                                                                                                                                                      NaN   \n",
       "39                                                                                                                                                                                      NaN   \n",
       "\n",
       "   received9 received10  ...  \\\n",
       "0        NaN        NaN  ...   \n",
       "1        NaN        NaN  ...   \n",
       "2        NaN        NaN  ...   \n",
       "3        NaN        NaN  ...   \n",
       "4        NaN        NaN  ...   \n",
       "5        NaN        NaN  ...   \n",
       "6        NaN        NaN  ...   \n",
       "7        NaN        NaN  ...   \n",
       "8        NaN        NaN  ...   \n",
       "9        NaN        NaN  ...   \n",
       "10       NaN        NaN  ...   \n",
       "11       NaN        NaN  ...   \n",
       "12       NaN        NaN  ...   \n",
       "13       NaN        NaN  ...   \n",
       "14       NaN        NaN  ...   \n",
       "15       NaN        NaN  ...   \n",
       "16       NaN        NaN  ...   \n",
       "17       NaN        NaN  ...   \n",
       "18       NaN        NaN  ...   \n",
       "19       NaN        NaN  ...   \n",
       "20       NaN        NaN  ...   \n",
       "21       NaN        NaN  ...   \n",
       "22       NaN        NaN  ...   \n",
       "23       NaN        NaN  ...   \n",
       "24       NaN        NaN  ...   \n",
       "25       NaN        NaN  ...   \n",
       "26       NaN        NaN  ...   \n",
       "27       NaN        NaN  ...   \n",
       "28       NaN        NaN  ...   \n",
       "29       NaN        NaN  ...   \n",
       "30       NaN        NaN  ...   \n",
       "31       NaN        NaN  ...   \n",
       "32       NaN        NaN  ...   \n",
       "33       NaN        NaN  ...   \n",
       "34       NaN        NaN  ...   \n",
       "35       NaN        NaN  ...   \n",
       "36       NaN        NaN  ...   \n",
       "37       NaN        NaN  ...   \n",
       "38       NaN        NaN  ...   \n",
       "39       NaN        NaN  ...   \n",
       "\n",
       "                                                                                                                                                                                                                                                                                                               cc  \\\n",
       "0                                                                                                                                                                                                                                                                                                             NaN   \n",
       "1                                                                                                                                                                                                                                                                                                             NaN   \n",
       "2                                                                                                                                                                                                                                                                                                             NaN   \n",
       "3                                                                                                                                                                                                                                                                                                             NaN   \n",
       "4                                                                                                                                                                                                                                                                                                             NaN   \n",
       "5                                                                                                                                                                                                                                                                                                             NaN   \n",
       "6                                                                                                                                                                                                                                                                                                             NaN   \n",
       "7   \"lea\" <migod@plg2.math.uwaterloo.ca>,\\n   \"santa fuller\" <holt@plg2.math.uwaterloo.ca>,\\n   \"nickolas\" <dsvetinovic@plg2.math.uwaterloo.ca>,\\n   \"hang mcdonald\" <y5guo@plg2.math.uwaterloo.ca>,\\n   \"tawnya price\" <the00@plg2.math.uwaterloo.ca>,\\n   \"ardelle morrison\" <adtrevors@plg2.math.uwaterloo.ca>   \n",
       "8                                                                                                                                                                                                                                                                                                             NaN   \n",
       "9                                                                                                                                                                                                                                                                                                             NaN   \n",
       "10                                                                                                                                                                                                                                                                                                            NaN   \n",
       "11                                                                                                                                                                                                                                                                                                            NaN   \n",
       "12                                                                                                                                                                                                                                                                                                            NaN   \n",
       "13                                                                                                                                                                                                                                                                                                            NaN   \n",
       "14                                                                                                                                                                                                                                                                                                            NaN   \n",
       "15                                                                                                                                                                                                                                                                                                            NaN   \n",
       "16                                                                                                                                                                                                                                                                                               sugar@laptop.org   \n",
       "17                                                                                                                                                                                                                                                                                                            NaN   \n",
       "18                                                                                                                                                                                                                                                                                                            NaN   \n",
       "19                                                                                                                                                                                                                                                                                                            NaN   \n",
       "20                                                                                                                                                                                                                                                                                                            NaN   \n",
       "21                                                                                                                                                                                                                                                                                                            NaN   \n",
       "22                                                                                                                                                                                                                                                                                                            NaN   \n",
       "23                                                                                                                                                                                                                                                                                                            NaN   \n",
       "24                                                                                                                                                                                                                                                                                                            NaN   \n",
       "25                                                                                                                                                                                                                                                                                                            NaN   \n",
       "26                                                                                                                                                                                                                                                                                       r-help@stat.math.ethz.ch   \n",
       "27                                                                                                                                                                                                                                                                                                            NaN   \n",
       "28                                                                                                                                                                                                                                                                                                            NaN   \n",
       "29                                                                                                                                                                                                                                                                                                            NaN   \n",
       "30                                                                                                                                                                                                                                                                                                            NaN   \n",
       "31                                                                                                                                                                                                                                                                                                            NaN   \n",
       "32                                                                                                                                                                                                                                                                                                            NaN   \n",
       "33                                                                                                                                                                                                                                                                                                            NaN   \n",
       "34                                                                                                                                                                                                                                                                                                            NaN   \n",
       "35                                                                                                                                                                                                                                                                                                            NaN   \n",
       "36                                                                                                                                                                                                                                                                                                            NaN   \n",
       "37                                                                                                                                                                                                                                                                                                            NaN   \n",
       "38                                                                                                                                                                                                                                                                                                            NaN   \n",
       "39                                                                                                                                                                                                                                                                                                            NaN   \n",
       "\n",
       "                                                                                          received-spf  \\\n",
       "0                                                                                                  NaN   \n",
       "1                                                                                                  NaN   \n",
       "2                                                                                                  NaN   \n",
       "3                                                                                                  NaN   \n",
       "4                                                                                                  NaN   \n",
       "5                                                                                                  NaN   \n",
       "6                                                                                                  NaN   \n",
       "7                                                                                                  NaN   \n",
       "8                                                                                                  NaN   \n",
       "9                                                                                                  NaN   \n",
       "10                                                                                                 NaN   \n",
       "11                                                                                                 NaN   \n",
       "12                                                                                                 NaN   \n",
       "13                                                                                                 NaN   \n",
       "14                                                                                                 NaN   \n",
       "15                                                                                                 NaN   \n",
       "16                                                                                                 NaN   \n",
       "17                                                                                                 NaN   \n",
       "18                                                                                                 NaN   \n",
       "19                                                                                                 NaN   \n",
       "20  neutral\\n receiver=frontend1.cgpmail.ua.pt; client-ip=85.243.18.32; envelope-from=gamito@gmail.com   \n",
       "21                                                              pass (x1.develooper.com: local policy)   \n",
       "22                                                                                                 NaN   \n",
       "23                                                                                                 NaN   \n",
       "24                                                                                                 NaN   \n",
       "25                                                                                                 NaN   \n",
       "26                                                                                                 NaN   \n",
       "27                                                                                                 NaN   \n",
       "28                                                                                                 NaN   \n",
       "29                                                                                                 NaN   \n",
       "30                                                                                                 NaN   \n",
       "31                                                                                                 NaN   \n",
       "32                                                                                                 NaN   \n",
       "33                                                                                                 NaN   \n",
       "34                                                                                                 NaN   \n",
       "35                                                                                                 NaN   \n",
       "36                                                                                                 NaN   \n",
       "37                                                              pass (x1.develooper.com: local policy)   \n",
       "38                                                                                                 NaN   \n",
       "39                                                                                                 NaN   \n",
       "\n",
       "                    x-original-to content-disposition  \\\n",
       "0                             NaN                 NaN   \n",
       "1                             NaN                 NaN   \n",
       "2                             NaN                 NaN   \n",
       "3                             NaN                 NaN   \n",
       "4                             NaN                 NaN   \n",
       "5                             NaN                 NaN   \n",
       "6   debian-legal@lists.debian.org              inline   \n",
       "7                             NaN                 NaN   \n",
       "8                             NaN                 NaN   \n",
       "9                             NaN                 NaN   \n",
       "10                            NaN                 NaN   \n",
       "11                            NaN                 NaN   \n",
       "12                            NaN                 NaN   \n",
       "13                            NaN                 NaN   \n",
       "14                            NaN                 NaN   \n",
       "15                            NaN                 NaN   \n",
       "16               sugar@laptop.org                 NaN   \n",
       "17                            NaN                 NaN   \n",
       "18                            NaN                 NaN   \n",
       "19                            NaN                 NaN   \n",
       "20                            NaN                 NaN   \n",
       "21                            NaN                 NaN   \n",
       "22                            NaN                 NaN   \n",
       "23                            NaN                 NaN   \n",
       "24            samba-cvs@samba.org                 NaN   \n",
       "25                            NaN                 NaN   \n",
       "26                            NaN                 NaN   \n",
       "27                            NaN                 NaN   \n",
       "28                            NaN                 NaN   \n",
       "29                            NaN                 NaN   \n",
       "30                            NaN                 NaN   \n",
       "31                            NaN                 NaN   \n",
       "32                            NaN                 NaN   \n",
       "33                            NaN                 NaN   \n",
       "34                            NaN                 NaN   \n",
       "35                            NaN                 NaN   \n",
       "36                            NaN                 NaN   \n",
       "37                            NaN                 NaN   \n",
       "38                            NaN                 NaN   \n",
       "39                            NaN                 NaN   \n",
       "\n",
       "                                     mailing-list       x-spam-check-by  \\\n",
       "0                                             NaN                   NaN   \n",
       "1                                             NaN                   NaN   \n",
       "2                                             NaN                   NaN   \n",
       "3                                             NaN                   NaN   \n",
       "4                                             NaN                   NaN   \n",
       "5                                             NaN                   NaN   \n",
       "6                                             NaN                   NaN   \n",
       "7                                             NaN                   NaN   \n",
       "8                                             NaN                   NaN   \n",
       "9                                             NaN                   NaN   \n",
       "10                                            NaN                   NaN   \n",
       "11                                            NaN                   NaN   \n",
       "12                                            NaN                   NaN   \n",
       "13                                            NaN                   NaN   \n",
       "14                                            NaN                   NaN   \n",
       "15                                            NaN                   NaN   \n",
       "16                                            NaN                   NaN   \n",
       "17                                            NaN                   NaN   \n",
       "18                                            NaN                   NaN   \n",
       "19                                            NaN                   NaN   \n",
       "20  contact beginners-help@perl.org; run by ezmlm  la.mx.develooper.com   \n",
       "21  contact perl6-all-help@perl.org; run by ezmlm  la.mx.develooper.com   \n",
       "22                                            NaN                   NaN   \n",
       "23                                            NaN                   NaN   \n",
       "24                                            NaN                   NaN   \n",
       "25                                            NaN                   NaN   \n",
       "26                                            NaN                   NaN   \n",
       "27                                            NaN                   NaN   \n",
       "28                                            NaN                   NaN   \n",
       "29                                            NaN                   NaN   \n",
       "30                                            NaN                   NaN   \n",
       "31                                            NaN                   NaN   \n",
       "32                                            NaN                   NaN   \n",
       "33                                            NaN                   NaN   \n",
       "34                                            NaN                   NaN   \n",
       "35                                            NaN                   NaN   \n",
       "36                                            NaN                   NaN   \n",
       "37  contact beginners-help@perl.org; run by ezmlm  la.mx.develooper.com   \n",
       "38                                            NaN                   NaN   \n",
       "39                                            NaN                   NaN   \n",
       "\n",
       "                                                                                                                               domainkey-signature  \\\n",
       "0                                                                                                                                              NaN   \n",
       "1                                                                                                                                              NaN   \n",
       "2                                                                                                                                              NaN   \n",
       "3                                                                                                                                              NaN   \n",
       "4                                                                                                                                              NaN   \n",
       "5                                                                                                                                              NaN   \n",
       "6                                                                                                                                              NaN   \n",
       "7                                                                                                                                              NaN   \n",
       "8                                                                                                                                              NaN   \n",
       "9                                                                                                                                              NaN   \n",
       "10                                                                                                                                             NaN   \n",
       "11                                                                                                                                             NaN   \n",
       "12                                                                                                                                             NaN   \n",
       "13                                                                                                                                             NaN   \n",
       "14                                                                                                                                             NaN   \n",
       "15                                                                                                                                             NaN   \n",
       "16                                                                                                                                             NaN   \n",
       "17                                                                                                                                             NaN   \n",
       "18  a=rsa-sha1; q=dns; c=nofws; s=opened.ten; d=chello.com;\\n\\tb=UJDjPVcpSGoaZXQXPLjqkSSxpDkgaIWWUDyPSMssdKpSPaULEBJmeKDGbMhqUhVoNLxXmayNUOpMLaPf;   \n",
       "19                                                                                                                                             NaN   \n",
       "20                                                                                                                                             NaN   \n",
       "21                                                                                                                                             NaN   \n",
       "22                                                                                                                                             NaN   \n",
       "23                                                                                                                                             NaN   \n",
       "24                                                                                                                                             NaN   \n",
       "25                                                                                                                                             NaN   \n",
       "26                                                                                                                                             NaN   \n",
       "27                                                                                                                                             NaN   \n",
       "28                                                                                                                                             NaN   \n",
       "29                                                                                                                                             NaN   \n",
       "30                                                                                                                                             NaN   \n",
       "31                                                                                                                                             NaN   \n",
       "32                                                                                                                                             NaN   \n",
       "33                                                                                                                                             NaN   \n",
       "34                                                                                                                                             NaN   \n",
       "35                                                                                                                                             NaN   \n",
       "36                                                                                                                                             NaN   \n",
       "37                                                                                                                                             NaN   \n",
       "38                                                                                                                                             NaN   \n",
       "39                                                                                                                                             NaN   \n",
       "\n",
       "   importance                                        x-mailing-list label  \n",
       "0         NaN                                                   NaN     1  \n",
       "1         NaN                                                   NaN     0  \n",
       "2         NaN                                                   NaN     1  \n",
       "3         NaN                                                   NaN     0  \n",
       "4      Normal                                                   NaN     1  \n",
       "5         NaN                                                   NaN     1  \n",
       "6         NaN  <debian-legal@lists.debian.org> archive/latest/36152     0  \n",
       "7         NaN                                                   NaN     1  \n",
       "8        High                                                   NaN     1  \n",
       "9         NaN                                                   NaN     1  \n",
       "10        NaN                                                   NaN     1  \n",
       "11        NaN                                                   NaN     1  \n",
       "12        NaN                                                   NaN     1  \n",
       "13        NaN                                                   NaN     1  \n",
       "14        NaN                                                   NaN     1  \n",
       "15        NaN                                                   NaN     1  \n",
       "16        NaN                                                   NaN     0  \n",
       "17        NaN                                                   NaN     1  \n",
       "18        NaN                                                   NaN     1  \n",
       "19        NaN                                                   NaN     0  \n",
       "20        NaN                                                   NaN     0  \n",
       "21        NaN   contact perl6-internals-help@perl.org; run by ezmlm     0  \n",
       "22        NaN                                                   NaN     0  \n",
       "23       High                                                   NaN     1  \n",
       "24        NaN                                                   NaN     0  \n",
       "25        NaN                                                   NaN     0  \n",
       "26        NaN                                                   NaN     0  \n",
       "27        NaN                                                   NaN     1  \n",
       "28        NaN                                                   NaN     1  \n",
       "29        NaN                                                   NaN     1  \n",
       "30        NaN                                                   NaN     1  \n",
       "31        NaN                                                   NaN     1  \n",
       "32        NaN                                                   NaN     1  \n",
       "33       High                                                   NaN     1  \n",
       "34       High                                                   NaN     1  \n",
       "35        NaN                                                   NaN     1  \n",
       "36        NaN                                                   NaN     0  \n",
       "37        NaN                                                   NaN     0  \n",
       "38        NaN                                                   NaN     1  \n",
       "39        NaN                                                   NaN     1  \n",
       "\n",
       "[40 rows x 69 columns]"
      ]
     },
     "execution_count": 38,
     "metadata": {},
     "output_type": "execute_result"
    }
   ],
   "source": [
    "import numpy as np\n",
    "import pandas as pd\n",
    "\n",
    "pd.set_option('display.max_colwidth', None)\n",
    "\n",
    "FILE_NAME = 'extracted_dataset.csv'\n",
    "\n",
    "df = pd.read_csv(FILE_NAME)\n",
    "df.head(40)"
   ]
  },
  {
   "cell_type": "code",
   "execution_count": 39,
   "metadata": {},
   "outputs": [],
   "source": [
    "FILE_NAME2017 = 'phishing_out_2017.csv'\n",
    "FILE_NAME2018 = 'phishing_out_2018.csv'\n",
    "FILE_NAME2019 = 'phishing_out_2019.csv'\n",
    "FILE_NAME2020 = 'phishing_out_2020.csv'\n",
    "\n",
    "df2 = pd.read_csv(FILE_NAME2017)\n",
    "df3 = pd.read_csv(FILE_NAME2018)\n",
    "df4 = pd.read_csv(FILE_NAME2019)\n",
    "df5 = pd.read_csv(FILE_NAME2020)"
   ]
  },
  {
   "cell_type": "code",
   "execution_count": 40,
   "metadata": {},
   "outputs": [
    {
     "data": {
      "text/plain": [
       "Index(['received1', 'received2', 'received3', 'received4', 'received5',\n",
       "       'received6', 'received7', 'hops', 'subject', 'date', 'message-id',\n",
       "       'from', 'return-path', 'to', 'content-type', 'mime-version', 'x-mailer',\n",
       "       'content-transfer-encoding', 'x-mimeole', 'x-priority', 'list-id',\n",
       "       'x-virus-scanned', 'status', 'content-length', 'delivered-to',\n",
       "       'list-unsubscribe', 'x-msmail-priority', 'x-spam-status', 'sender',\n",
       "       'reply-to', 'x-virus-status', 'x-spam-level', 'x-spam-checker-version',\n",
       "       'references', 'in-reply-to', 'user-agent', 'thread-index',\n",
       "       'received-spf', 'content-disposition', 'domainkey-signature',\n",
       "       'importance', 'label'],\n",
       "      dtype='object')"
      ]
     },
     "execution_count": 40,
     "metadata": {},
     "output_type": "execute_result"
    }
   ],
   "source": [
    "df2.columns"
   ]
  },
  {
   "cell_type": "code",
   "execution_count": 41,
   "metadata": {},
   "outputs": [],
   "source": [
    "for col in df.columns:\n",
    "    if col not in df2.columns:\n",
    "        df2[col] = np.nan\n",
    "    if col not in df2.columns:\n",
    "        df3[col] = np.nan\n",
    "    if col not in df2.columns:\n",
    "        df4[col] = np.nan\n",
    "    if col not in df2.columns:\n",
    "        df5[col] = np.nan"
   ]
  },
  {
   "cell_type": "code",
   "execution_count": 42,
   "metadata": {},
   "outputs": [],
   "source": [
    "df2 = df2[df.columns]\n",
    "df3 = df2[df.columns]\n",
    "df4 = df2[df.columns]\n",
    "df5 = df2[df.columns]"
   ]
  },
  {
   "cell_type": "code",
   "execution_count": 43,
   "metadata": {},
   "outputs": [],
   "source": [
    "df = df.append(df2, ignore_index=True)\n",
    "df = df.append(df3, ignore_index=True)\n",
    "df = df.append(df4, ignore_index=True)\n",
    "df = df.append(df5, ignore_index=True)"
   ]
  },
  {
   "cell_type": "code",
   "execution_count": 44,
   "metadata": {},
   "outputs": [
    {
     "data": {
      "text/html": [
       "<div>\n",
       "<style scoped>\n",
       "    .dataframe tbody tr th:only-of-type {\n",
       "        vertical-align: middle;\n",
       "    }\n",
       "\n",
       "    .dataframe tbody tr th {\n",
       "        vertical-align: top;\n",
       "    }\n",
       "\n",
       "    .dataframe thead th {\n",
       "        text-align: right;\n",
       "    }\n",
       "</style>\n",
       "<table border=\"1\" class=\"dataframe\">\n",
       "  <thead>\n",
       "    <tr style=\"text-align: right;\">\n",
       "      <th></th>\n",
       "      <th>received1</th>\n",
       "      <th>received2</th>\n",
       "      <th>received3</th>\n",
       "      <th>received4</th>\n",
       "      <th>received5</th>\n",
       "      <th>received6</th>\n",
       "      <th>received7</th>\n",
       "      <th>received8</th>\n",
       "      <th>received9</th>\n",
       "      <th>received10</th>\n",
       "      <th>...</th>\n",
       "      <th>cc</th>\n",
       "      <th>received-spf</th>\n",
       "      <th>x-original-to</th>\n",
       "      <th>content-disposition</th>\n",
       "      <th>mailing-list</th>\n",
       "      <th>x-spam-check-by</th>\n",
       "      <th>domainkey-signature</th>\n",
       "      <th>importance</th>\n",
       "      <th>x-mailing-list</th>\n",
       "      <th>label</th>\n",
       "    </tr>\n",
       "  </thead>\n",
       "  <tbody>\n",
       "    <tr>\n",
       "      <th>76701</th>\n",
       "      <td>from sg1.damar.asia (sg1.damar.asia [45.77.33.207])\\n\\tby imf13.b.hostedemail.com (Postfix) with ESMTP\\n\\tfor &lt;jose@monkey.org&gt;; Thu, 21 Sep 2017 08:07:13 +0000 (UTC)</td>\n",
       "      <td>from [84.38.130.173] (helo=IP-130-173.dataclub.biz)\\n\\tby sg1.damar.asia with esmtpsa (TLSv1:DHE-RSA-AES256-SHA:256)\\n\\t(Exim 4.89)\\n\\t(envelope-from &lt;admin@damar.asia&gt;)\\n\\tid 1duwVr-0001ZM-D7\\n\\tfor jose@monkey.org; Thu, 21 Sep 2017 08:07:11 +0000</td>\n",
       "      <td>NaN</td>\n",
       "      <td>NaN</td>\n",
       "      <td>NaN</td>\n",
       "      <td>NaN</td>\n",
       "      <td>NaN</td>\n",
       "      <td>NaN</td>\n",
       "      <td>NaN</td>\n",
       "      <td>NaN</td>\n",
       "      <td>...</td>\n",
       "      <td>NaN</td>\n",
       "      <td>NaN</td>\n",
       "      <td>NaN</td>\n",
       "      <td>NaN</td>\n",
       "      <td>NaN</td>\n",
       "      <td>NaN</td>\n",
       "      <td>NaN</td>\n",
       "      <td>NaN</td>\n",
       "      <td>NaN</td>\n",
       "      <td>2.0</td>\n",
       "    </tr>\n",
       "    <tr>\n",
       "      <th>76702</th>\n",
       "      <td>from mail-qt0-f225.google.com (mail-qt0-f225.google.com [209.85.216.225])\\n\\tby imf02.b.hostedemail.com (Postfix) with ESMTP\\n\\tfor &lt;jose@monkey.org&gt;; Thu, 21 Sep 2017 19:14:01 +0000 (UTC)</td>\n",
       "      <td>by mail-qt0-f225.google.com with SMTP id i50so3308618qtf.0\\n        for &lt;jose@monkey.org&gt;; Thu, 21 Sep 2017 12:14:01 -0700 (PDT)</td>\n",
       "      <td>from instance-3 (188.180.222.162.bc.googleusercontent.com. [162.222.180.188])\\n        by smtp-relay.gmail.com with ESMTPS id e141sm689441ite.4.2017.09.21.12.14.01\\n        for &lt;jose@monkey.org&gt;\\n        (version=TLS1 cipher=ECDHE-RSA-AES128-SHA bits=128/128);\\n        Thu, 21 Sep 2017 12:14:01 -0700 (PDT)</td>\n",
       "      <td>NaN</td>\n",
       "      <td>NaN</td>\n",
       "      <td>NaN</td>\n",
       "      <td>NaN</td>\n",
       "      <td>NaN</td>\n",
       "      <td>NaN</td>\n",
       "      <td>NaN</td>\n",
       "      <td>...</td>\n",
       "      <td>NaN</td>\n",
       "      <td>NaN</td>\n",
       "      <td>NaN</td>\n",
       "      <td>NaN</td>\n",
       "      <td>NaN</td>\n",
       "      <td>NaN</td>\n",
       "      <td>NaN</td>\n",
       "      <td>NaN</td>\n",
       "      <td>NaN</td>\n",
       "      <td>2.0</td>\n",
       "    </tr>\n",
       "    <tr>\n",
       "      <th>76703</th>\n",
       "      <td>from mail5.ait.lt (mail5.ait.lt [193.200.124.97])\\n\\tby imf25.b.hostedemail.com (Postfix) with ESMTP\\n\\tfor &lt;jose@monkey.org&gt;; Fri, 22 Sep 2017 13:08:08 +0000 (UTC)</td>\n",
       "      <td>from [10.172.112.167] (unknown [198.11.174.20])\\n\\tby mail5.ait.lt (Postfix) with ESMTPSA id DBF2721E2AC\\n\\tfor &lt;jose@monkey.org&gt;; Fri, 22 Sep 2017 16:06:36 +0300 (EEST)</td>\n",
       "      <td>NaN</td>\n",
       "      <td>NaN</td>\n",
       "      <td>NaN</td>\n",
       "      <td>NaN</td>\n",
       "      <td>NaN</td>\n",
       "      <td>NaN</td>\n",
       "      <td>NaN</td>\n",
       "      <td>NaN</td>\n",
       "      <td>...</td>\n",
       "      <td>NaN</td>\n",
       "      <td>NaN</td>\n",
       "      <td>NaN</td>\n",
       "      <td>NaN</td>\n",
       "      <td>NaN</td>\n",
       "      <td>NaN</td>\n",
       "      <td>NaN</td>\n",
       "      <td>NaN</td>\n",
       "      <td>NaN</td>\n",
       "      <td>2.0</td>\n",
       "    </tr>\n",
       "    <tr>\n",
       "      <th>76704</th>\n",
       "      <td>from mail1.cargid.com.ua (unknown [212.26.132.77])\\n\\tby imf26.b.hostedemail.com (Postfix) with ESMTP\\n\\tfor &lt;jose@monkey.org&gt;; Fri, 22 Sep 2017 20:49:09 +0000 (UTC)</td>\n",
       "      <td>from 001mail.domain.com (unknown [84.38.132.10])\\n\\tby mail1.cargid.com.ua (Postfix) with ESMTPS id D0093123E6\\n\\tfor &lt;jose@monkey.org&gt;; Fri, 22 Sep 2017 23:50:52 +0300 (EEST)</td>\n",
       "      <td>NaN</td>\n",
       "      <td>NaN</td>\n",
       "      <td>NaN</td>\n",
       "      <td>NaN</td>\n",
       "      <td>NaN</td>\n",
       "      <td>NaN</td>\n",
       "      <td>NaN</td>\n",
       "      <td>NaN</td>\n",
       "      <td>...</td>\n",
       "      <td>NaN</td>\n",
       "      <td>NaN</td>\n",
       "      <td>NaN</td>\n",
       "      <td>NaN</td>\n",
       "      <td>NaN</td>\n",
       "      <td>NaN</td>\n",
       "      <td>NaN</td>\n",
       "      <td>NaN</td>\n",
       "      <td>NaN</td>\n",
       "      <td>2.0</td>\n",
       "    </tr>\n",
       "    <tr>\n",
       "      <th>76705</th>\n",
       "      <td>from server.lefgrin.com (server.lefgrin.com [128.199.66.1])\\n\\tby imf25.b.hostedemail.com (Postfix) with ESMTP\\n\\tfor &lt;jose@monkey.org&gt;; Sun, 24 Sep 2017 19:10:56 +0000 (UTC)</td>\n",
       "      <td>from [45.35.183.234] (port=56801 helo=VPS2DAY-A9S8H34)\\n\\tby server.lefgrin.com with esmtpsa (TLSv1:AES128-SHA:128)\\n\\t(Exim 4.89)\\n\\t(envelope-from &lt;apple-tikung@appleid-apple-supports.ipbvs.com&gt;)\\n\\tid 1dwCIl-0000zX-HT\\n\\tfor jose@monkey.org; Mon, 25 Sep 2017 02:10:51 +0700</td>\n",
       "      <td>NaN</td>\n",
       "      <td>NaN</td>\n",
       "      <td>NaN</td>\n",
       "      <td>NaN</td>\n",
       "      <td>NaN</td>\n",
       "      <td>NaN</td>\n",
       "      <td>NaN</td>\n",
       "      <td>NaN</td>\n",
       "      <td>...</td>\n",
       "      <td>NaN</td>\n",
       "      <td>NaN</td>\n",
       "      <td>NaN</td>\n",
       "      <td>NaN</td>\n",
       "      <td>NaN</td>\n",
       "      <td>NaN</td>\n",
       "      <td>NaN</td>\n",
       "      <td>NaN</td>\n",
       "      <td>NaN</td>\n",
       "      <td>2.0</td>\n",
       "    </tr>\n",
       "    <tr>\n",
       "      <th>76706</th>\n",
       "      <td>from argosrl.com (unknown [62.94.36.133])\\n\\tby imf07.b.hostedemail.com (Postfix) with ESMTP\\n\\tfor &lt;jose@monkey.org&gt;; Tue, 26 Sep 2017 00:27:48 +0000 (UTC)</td>\n",
       "      <td>by argosrl.com (Postfix, from userid 48)\\n\\tid 9E4E01A3EEA; Tue, 26 Sep 2017 02:52:48 +0200 (CEST)</td>\n",
       "      <td>NaN</td>\n",
       "      <td>NaN</td>\n",
       "      <td>NaN</td>\n",
       "      <td>NaN</td>\n",
       "      <td>NaN</td>\n",
       "      <td>NaN</td>\n",
       "      <td>NaN</td>\n",
       "      <td>NaN</td>\n",
       "      <td>...</td>\n",
       "      <td>NaN</td>\n",
       "      <td>NaN</td>\n",
       "      <td>NaN</td>\n",
       "      <td>NaN</td>\n",
       "      <td>NaN</td>\n",
       "      <td>NaN</td>\n",
       "      <td>NaN</td>\n",
       "      <td>NaN</td>\n",
       "      <td>NaN</td>\n",
       "      <td>2.0</td>\n",
       "    </tr>\n",
       "    <tr>\n",
       "      <th>76707</th>\n",
       "      <td>from VPCODSWSPT57.dms.abacus.prod (abacus-12-158-89-34.abacus-us.com [12.158.89.34])\\n\\tby imf17.b.hostedemail.com (Postfix) with ESMTP\\n\\tfor &lt;jose@monkey.org&gt;; Tue, 26 Sep 2017 18:11:36 +0000 (UTC)</td>\n",
       "      <td>from pmacprelay2.epsilon.com ([159.127.24.61]) by VPCODSWSPT57.dms.abacus.prod with Microsoft SMTPSVC(7.5.7601.17514);\\n\\t Tue, 26 Sep 2017 13:11:38 -0500</td>\n",
       "      <td>from aslan.epsilon.com (HELO wakefield-netscaler.epsilon.com) ([159.127.161.10])\\n  by pmacprelay2.epsilon.com with ESMTP/TLS/DHE-RSA-AES256-GCM-SHA384; 26 Sep 2017 14:10:47 -0400</td>\n",
       "      <td>NaN</td>\n",
       "      <td>NaN</td>\n",
       "      <td>NaN</td>\n",
       "      <td>NaN</td>\n",
       "      <td>NaN</td>\n",
       "      <td>NaN</td>\n",
       "      <td>NaN</td>\n",
       "      <td>...</td>\n",
       "      <td>NaN</td>\n",
       "      <td>NaN</td>\n",
       "      <td>NaN</td>\n",
       "      <td>NaN</td>\n",
       "      <td>NaN</td>\n",
       "      <td>NaN</td>\n",
       "      <td>NaN</td>\n",
       "      <td>NaN</td>\n",
       "      <td>NaN</td>\n",
       "      <td>2.0</td>\n",
       "    </tr>\n",
       "    <tr>\n",
       "      <th>76708</th>\n",
       "      <td>from mail.jef.com.hk (mail.jef.com.hk [218.255.15.34])\\n\\tby imf04.b.hostedemail.com (Postfix) with ESMTP\\n\\tfor &lt;jose@monkey.org&gt;; Tue, 26 Sep 2017 20:56:20 +0000 (UTC)</td>\n",
       "      <td>from CBServer.ac.local (crbknf0223w-207-179-135-101.dhcp-dynamic.fibreop.nl.bellaliant.net [207.179.135.101]) \\n\\tby jef.com.hk (MDaemon PRO v17.0.0) with ESMTPSA id md50001622458.msg; \\n\\tWed, 27 Sep 2017 03:42:40 +0800</td>\n",
       "      <td>NaN</td>\n",
       "      <td>NaN</td>\n",
       "      <td>NaN</td>\n",
       "      <td>NaN</td>\n",
       "      <td>NaN</td>\n",
       "      <td>NaN</td>\n",
       "      <td>NaN</td>\n",
       "      <td>NaN</td>\n",
       "      <td>...</td>\n",
       "      <td>NaN</td>\n",
       "      <td>NaN</td>\n",
       "      <td>NaN</td>\n",
       "      <td>NaN</td>\n",
       "      <td>NaN</td>\n",
       "      <td>NaN</td>\n",
       "      <td>NaN</td>\n",
       "      <td>NaN</td>\n",
       "      <td>NaN</td>\n",
       "      <td>2.0</td>\n",
       "    </tr>\n",
       "    <tr>\n",
       "      <th>76709</th>\n",
       "      <td>from proofa3v-gcc.co.palm-beach.fl.us (proofa3v-gcc.co.palm-beach.fl.us [151.132.50.246])\\n\\tby imf29.b.hostedemail.com (Postfix) with ESMTP\\n\\tfor &lt;jose@monkey.org&gt;; Wed, 27 Sep 2017 13:19:33 +0000 (UTC)</td>\n",
       "      <td>from pbceochubcas02.pbcgov.org ([151.132.207.19])\\n\\tby proofa3v-gcc.co.palm-beach.fl.us (8.16.0.21/8.16.0.21) with ESMTPS id v8RD6uSn038740\\n\\t(version=TLSv1 cipher=AES128-SHA bits=128 verify=NOT);\\n\\tWed, 27 Sep 2017 09:06:56 -0400</td>\n",
       "      <td>from PBCEOCMBX02.pbcgov.org ([169.254.1.213]) by\\n pbceochubcas02.pbcgov.org ([151.132.231.222]) with mapi id 14.03.0210.002;\\n Wed, 27 Sep 2017 09:06:56 -0400</td>\n",
       "      <td>NaN</td>\n",
       "      <td>NaN</td>\n",
       "      <td>NaN</td>\n",
       "      <td>NaN</td>\n",
       "      <td>NaN</td>\n",
       "      <td>NaN</td>\n",
       "      <td>NaN</td>\n",
       "      <td>...</td>\n",
       "      <td>NaN</td>\n",
       "      <td>NaN</td>\n",
       "      <td>NaN</td>\n",
       "      <td>NaN</td>\n",
       "      <td>NaN</td>\n",
       "      <td>NaN</td>\n",
       "      <td>NaN</td>\n",
       "      <td>NaN</td>\n",
       "      <td>NaN</td>\n",
       "      <td>2.0</td>\n",
       "    </tr>\n",
       "    <tr>\n",
       "      <th>76710</th>\n",
       "      <td>from 26t9a5.com (unknown [80.211.239.222])\\n\\tby imf04.b.hostedemail.com (Postfix) with ESMTP\\n\\tfor &lt;jose@monkey.org&gt;; Wed, 27 Sep 2017 14:50:21 +0000 (UTC)</td>\n",
       "      <td>from gmail.com (unknown [96.72.125.180])\\n\\tby 26t9a5.com (Postfix) with ESMTPA id 318B0583E1\\n\\tfor &lt;jose@monkey.org&gt;; Wed, 27 Sep 2017 16:25:28 +0200 (CEST)</td>\n",
       "      <td>NaN</td>\n",
       "      <td>NaN</td>\n",
       "      <td>NaN</td>\n",
       "      <td>NaN</td>\n",
       "      <td>NaN</td>\n",
       "      <td>NaN</td>\n",
       "      <td>NaN</td>\n",
       "      <td>NaN</td>\n",
       "      <td>...</td>\n",
       "      <td>NaN</td>\n",
       "      <td>NaN</td>\n",
       "      <td>NaN</td>\n",
       "      <td>NaN</td>\n",
       "      <td>NaN</td>\n",
       "      <td>NaN</td>\n",
       "      <td>NaN</td>\n",
       "      <td>NaN</td>\n",
       "      <td>NaN</td>\n",
       "      <td>2.0</td>\n",
       "    </tr>\n",
       "  </tbody>\n",
       "</table>\n",
       "<p>10 rows × 69 columns</p>\n",
       "</div>"
      ],
      "text/plain": [
       "                                                                                                                                                                                                          received1  \\\n",
       "76701                                        from sg1.damar.asia (sg1.damar.asia [45.77.33.207])\\n\\tby imf13.b.hostedemail.com (Postfix) with ESMTP\\n\\tfor <jose@monkey.org>; Thu, 21 Sep 2017 08:07:13 +0000 (UTC)   \n",
       "76702                  from mail-qt0-f225.google.com (mail-qt0-f225.google.com [209.85.216.225])\\n\\tby imf02.b.hostedemail.com (Postfix) with ESMTP\\n\\tfor <jose@monkey.org>; Thu, 21 Sep 2017 19:14:01 +0000 (UTC)   \n",
       "76703                                          from mail5.ait.lt (mail5.ait.lt [193.200.124.97])\\n\\tby imf25.b.hostedemail.com (Postfix) with ESMTP\\n\\tfor <jose@monkey.org>; Fri, 22 Sep 2017 13:08:08 +0000 (UTC)   \n",
       "76704                                         from mail1.cargid.com.ua (unknown [212.26.132.77])\\n\\tby imf26.b.hostedemail.com (Postfix) with ESMTP\\n\\tfor <jose@monkey.org>; Fri, 22 Sep 2017 20:49:09 +0000 (UTC)   \n",
       "76705                                from server.lefgrin.com (server.lefgrin.com [128.199.66.1])\\n\\tby imf25.b.hostedemail.com (Postfix) with ESMTP\\n\\tfor <jose@monkey.org>; Sun, 24 Sep 2017 19:10:56 +0000 (UTC)   \n",
       "76706                                                  from argosrl.com (unknown [62.94.36.133])\\n\\tby imf07.b.hostedemail.com (Postfix) with ESMTP\\n\\tfor <jose@monkey.org>; Tue, 26 Sep 2017 00:27:48 +0000 (UTC)   \n",
       "76707       from VPCODSWSPT57.dms.abacus.prod (abacus-12-158-89-34.abacus-us.com [12.158.89.34])\\n\\tby imf17.b.hostedemail.com (Postfix) with ESMTP\\n\\tfor <jose@monkey.org>; Tue, 26 Sep 2017 18:11:36 +0000 (UTC)   \n",
       "76708                                     from mail.jef.com.hk (mail.jef.com.hk [218.255.15.34])\\n\\tby imf04.b.hostedemail.com (Postfix) with ESMTP\\n\\tfor <jose@monkey.org>; Tue, 26 Sep 2017 20:56:20 +0000 (UTC)   \n",
       "76709  from proofa3v-gcc.co.palm-beach.fl.us (proofa3v-gcc.co.palm-beach.fl.us [151.132.50.246])\\n\\tby imf29.b.hostedemail.com (Postfix) with ESMTP\\n\\tfor <jose@monkey.org>; Wed, 27 Sep 2017 13:19:33 +0000 (UTC)   \n",
       "76710                                                 from 26t9a5.com (unknown [80.211.239.222])\\n\\tby imf04.b.hostedemail.com (Postfix) with ESMTP\\n\\tfor <jose@monkey.org>; Wed, 27 Sep 2017 14:50:21 +0000 (UTC)   \n",
       "\n",
       "                                                                                                                                                                                                                                                                                  received2  \\\n",
       "76701                              from [84.38.130.173] (helo=IP-130-173.dataclub.biz)\\n\\tby sg1.damar.asia with esmtpsa (TLSv1:DHE-RSA-AES256-SHA:256)\\n\\t(Exim 4.89)\\n\\t(envelope-from <admin@damar.asia>)\\n\\tid 1duwVr-0001ZM-D7\\n\\tfor jose@monkey.org; Thu, 21 Sep 2017 08:07:11 +0000   \n",
       "76702                                                                                                                                                      by mail-qt0-f225.google.com with SMTP id i50so3308618qtf.0\\n        for <jose@monkey.org>; Thu, 21 Sep 2017 12:14:01 -0700 (PDT)   \n",
       "76703                                                                                                             from [10.172.112.167] (unknown [198.11.174.20])\\n\\tby mail5.ait.lt (Postfix) with ESMTPSA id DBF2721E2AC\\n\\tfor <jose@monkey.org>; Fri, 22 Sep 2017 16:06:36 +0300 (EEST)   \n",
       "76704                                                                                                       from 001mail.domain.com (unknown [84.38.132.10])\\n\\tby mail1.cargid.com.ua (Postfix) with ESMTPS id D0093123E6\\n\\tfor <jose@monkey.org>; Fri, 22 Sep 2017 23:50:52 +0300 (EEST)   \n",
       "76705  from [45.35.183.234] (port=56801 helo=VPS2DAY-A9S8H34)\\n\\tby server.lefgrin.com with esmtpsa (TLSv1:AES128-SHA:128)\\n\\t(Exim 4.89)\\n\\t(envelope-from <apple-tikung@appleid-apple-supports.ipbvs.com>)\\n\\tid 1dwCIl-0000zX-HT\\n\\tfor jose@monkey.org; Mon, 25 Sep 2017 02:10:51 +0700   \n",
       "76706                                                                                                                                                                                    by argosrl.com (Postfix, from userid 48)\\n\\tid 9E4E01A3EEA; Tue, 26 Sep 2017 02:52:48 +0200 (CEST)   \n",
       "76707                                                                                                                            from pmacprelay2.epsilon.com ([159.127.24.61]) by VPCODSWSPT57.dms.abacus.prod with Microsoft SMTPSVC(7.5.7601.17514);\\n\\t Tue, 26 Sep 2017 13:11:38 -0500   \n",
       "76708                                                          from CBServer.ac.local (crbknf0223w-207-179-135-101.dhcp-dynamic.fibreop.nl.bellaliant.net [207.179.135.101]) \\n\\tby jef.com.hk (MDaemon PRO v17.0.0) with ESMTPSA id md50001622458.msg; \\n\\tWed, 27 Sep 2017 03:42:40 +0800   \n",
       "76709                                             from pbceochubcas02.pbcgov.org ([151.132.207.19])\\n\\tby proofa3v-gcc.co.palm-beach.fl.us (8.16.0.21/8.16.0.21) with ESMTPS id v8RD6uSn038740\\n\\t(version=TLSv1 cipher=AES128-SHA bits=128 verify=NOT);\\n\\tWed, 27 Sep 2017 09:06:56 -0400   \n",
       "76710                                                                                                                        from gmail.com (unknown [96.72.125.180])\\n\\tby 26t9a5.com (Postfix) with ESMTPA id 318B0583E1\\n\\tfor <jose@monkey.org>; Wed, 27 Sep 2017 16:25:28 +0200 (CEST)   \n",
       "\n",
       "                                                                                                                                                                                                                                                                                                                 received3  \\\n",
       "76701                                                                                                                                                                                                                                                                                                                  NaN   \n",
       "76702  from instance-3 (188.180.222.162.bc.googleusercontent.com. [162.222.180.188])\\n        by smtp-relay.gmail.com with ESMTPS id e141sm689441ite.4.2017.09.21.12.14.01\\n        for <jose@monkey.org>\\n        (version=TLS1 cipher=ECDHE-RSA-AES128-SHA bits=128/128);\\n        Thu, 21 Sep 2017 12:14:01 -0700 (PDT)   \n",
       "76703                                                                                                                                                                                                                                                                                                                  NaN   \n",
       "76704                                                                                                                                                                                                                                                                                                                  NaN   \n",
       "76705                                                                                                                                                                                                                                                                                                                  NaN   \n",
       "76706                                                                                                                                                                                                                                                                                                                  NaN   \n",
       "76707                                                                                                                                  from aslan.epsilon.com (HELO wakefield-netscaler.epsilon.com) ([159.127.161.10])\\n  by pmacprelay2.epsilon.com with ESMTP/TLS/DHE-RSA-AES256-GCM-SHA384; 26 Sep 2017 14:10:47 -0400   \n",
       "76708                                                                                                                                                                                                                                                                                                                  NaN   \n",
       "76709                                                                                                                                                      from PBCEOCMBX02.pbcgov.org ([169.254.1.213]) by\\n pbceochubcas02.pbcgov.org ([151.132.231.222]) with mapi id 14.03.0210.002;\\n Wed, 27 Sep 2017 09:06:56 -0400   \n",
       "76710                                                                                                                                                                                                                                                                                                                  NaN   \n",
       "\n",
       "      received4 received5 received6 received7 received8 received9 received10  \\\n",
       "76701       NaN       NaN       NaN       NaN       NaN       NaN        NaN   \n",
       "76702       NaN       NaN       NaN       NaN       NaN       NaN        NaN   \n",
       "76703       NaN       NaN       NaN       NaN       NaN       NaN        NaN   \n",
       "76704       NaN       NaN       NaN       NaN       NaN       NaN        NaN   \n",
       "76705       NaN       NaN       NaN       NaN       NaN       NaN        NaN   \n",
       "76706       NaN       NaN       NaN       NaN       NaN       NaN        NaN   \n",
       "76707       NaN       NaN       NaN       NaN       NaN       NaN        NaN   \n",
       "76708       NaN       NaN       NaN       NaN       NaN       NaN        NaN   \n",
       "76709       NaN       NaN       NaN       NaN       NaN       NaN        NaN   \n",
       "76710       NaN       NaN       NaN       NaN       NaN       NaN        NaN   \n",
       "\n",
       "       ...   cc received-spf x-original-to content-disposition mailing-list  \\\n",
       "76701  ...  NaN          NaN           NaN                 NaN          NaN   \n",
       "76702  ...  NaN          NaN           NaN                 NaN          NaN   \n",
       "76703  ...  NaN          NaN           NaN                 NaN          NaN   \n",
       "76704  ...  NaN          NaN           NaN                 NaN          NaN   \n",
       "76705  ...  NaN          NaN           NaN                 NaN          NaN   \n",
       "76706  ...  NaN          NaN           NaN                 NaN          NaN   \n",
       "76707  ...  NaN          NaN           NaN                 NaN          NaN   \n",
       "76708  ...  NaN          NaN           NaN                 NaN          NaN   \n",
       "76709  ...  NaN          NaN           NaN                 NaN          NaN   \n",
       "76710  ...  NaN          NaN           NaN                 NaN          NaN   \n",
       "\n",
       "      x-spam-check-by domainkey-signature importance  x-mailing-list label  \n",
       "76701             NaN                 NaN        NaN             NaN   2.0  \n",
       "76702             NaN                 NaN        NaN             NaN   2.0  \n",
       "76703             NaN                 NaN        NaN             NaN   2.0  \n",
       "76704             NaN                 NaN        NaN             NaN   2.0  \n",
       "76705             NaN                 NaN        NaN             NaN   2.0  \n",
       "76706             NaN                 NaN        NaN             NaN   2.0  \n",
       "76707             NaN                 NaN        NaN             NaN   2.0  \n",
       "76708             NaN                 NaN        NaN             NaN   2.0  \n",
       "76709             NaN                 NaN        NaN             NaN   2.0  \n",
       "76710             NaN                 NaN        NaN             NaN   2.0  \n",
       "\n",
       "[10 rows x 69 columns]"
      ]
     },
     "execution_count": 44,
     "metadata": {},
     "output_type": "execute_result"
    }
   ],
   "source": [
    "df.tail(10)"
   ]
  },
  {
   "cell_type": "markdown",
   "metadata": {
    "id": "F5A997Ekjh0E"
   },
   "source": [
    "# **Basic Information on the Dataset**"
   ]
  },
  {
   "cell_type": "markdown",
   "metadata": {
    "id": "5FGcUBeReAOX"
   },
   "source": [
    "**The label 0 is ham, and 1 is spam.**"
   ]
  },
  {
   "cell_type": "code",
   "execution_count": 45,
   "metadata": {
    "colab": {
     "base_uri": "https://localhost:8080/"
    },
    "id": "O_xJ0A0H_zBm",
    "outputId": "70d87272-0c02-42b6-f400-92c762637e68"
   },
   "outputs": [
    {
     "data": {
      "text/plain": [
       "1.0    50199\n",
       "0.0    25220\n",
       "2.0     1288\n",
       "Name: label, dtype: int64"
      ]
     },
     "execution_count": 45,
     "metadata": {},
     "output_type": "execute_result"
    }
   ],
   "source": [
    "df['label'].value_counts()"
   ]
  },
  {
   "cell_type": "code",
   "execution_count": 46,
   "metadata": {
    "colab": {
     "base_uri": "https://localhost:8080/"
    },
    "id": "jaL0Jn_dCHhF",
    "outputId": "8a95f21b-00fc-4b26-b224-82e6609a357b"
   },
   "outputs": [
    {
     "data": {
      "text/plain": [
       "array(['received1', 'received2', 'received3', 'received4', 'received5',\n",
       "       'received6', 'received7', 'received8', 'received9', 'received10',\n",
       "       'received11', 'received12', 'received13', 'received14',\n",
       "       'received15', 'received16', 'first_received', 'last_received',\n",
       "       'hops', 'subject', 'date', 'message-id', 'from', 'return-path',\n",
       "       'to', 'content-type', 'mime-version', 'x-mailer',\n",
       "       'content-transfer-encoding', 'x-mimeole', 'x-priority', 'list-id',\n",
       "       'lines', 'x-virus-scanned', 'status', 'content-length',\n",
       "       'precedence', 'delivered-to', 'list-unsubscribe', 'list-subscribe',\n",
       "       'list-post', 'list-help', 'x-msmail-priority', 'x-spam-status',\n",
       "       'sender', 'errors-to', 'x-beenthere', 'list-archive', 'reply-to',\n",
       "       'x-mailman-version', 'x-miltered', 'x-uuid', 'x-virus-status',\n",
       "       'x-spam-level', 'x-spam-checker-version', 'references',\n",
       "       'in-reply-to', 'user-agent', 'thread-index', 'cc', 'received-spf',\n",
       "       'x-original-to', 'content-disposition', 'mailing-list',\n",
       "       'x-spam-check-by', 'domainkey-signature', 'importance',\n",
       "       'x-mailing-list', 'label'], dtype=object)"
      ]
     },
     "execution_count": 46,
     "metadata": {},
     "output_type": "execute_result"
    }
   ],
   "source": [
    "df.columns.values"
   ]
  },
  {
   "cell_type": "code",
   "execution_count": 47,
   "metadata": {
    "colab": {
     "base_uri": "https://localhost:8080/"
    },
    "id": "TTJ6yHs1jqOV",
    "outputId": "1c7d15d0-c5d2-46c8-e9e9-e905e2ce2a97"
   },
   "outputs": [
    {
     "name": "stdout",
     "output_type": "stream",
     "text": [
      "<class 'pandas.core.frame.DataFrame'>\n",
      "RangeIndex: 76711 entries, 0 to 76710\n",
      "Data columns (total 69 columns):\n",
      " #   Column                     Non-Null Count  Dtype  \n",
      "---  ------                     --------------  -----  \n",
      " 0   received1                  76711 non-null  object \n",
      " 1   received2                  67117 non-null  object \n",
      " 2   received3                  36353 non-null  object \n",
      " 3   received4                  17472 non-null  object \n",
      " 4   received5                  11031 non-null  object \n",
      " 5   received6                  7737 non-null   object \n",
      " 6   received7                  3723 non-null   object \n",
      " 7   received8                  2651 non-null   object \n",
      " 8   received9                  1758 non-null   object \n",
      " 9   received10                 1330 non-null   object \n",
      " 10  received11                 253 non-null    object \n",
      " 11  received12                 122 non-null    object \n",
      " 12  received13                 75 non-null     object \n",
      " 13  received14                 74 non-null     object \n",
      " 14  received15                 74 non-null     object \n",
      " 15  received16                 74 non-null     object \n",
      " 16  first_received             75416 non-null  object \n",
      " 17  last_received              75419 non-null  object \n",
      " 18  hops                       76711 non-null  int64  \n",
      " 19  subject                    75916 non-null  object \n",
      " 20  date                       76686 non-null  object \n",
      " 21  message-id                 76423 non-null  object \n",
      " 22  from                       76711 non-null  object \n",
      " 23  return-path                76711 non-null  object \n",
      " 24  to                         76059 non-null  object \n",
      " 25  content-type               74617 non-null  object \n",
      " 26  mime-version               69374 non-null  object \n",
      " 27  x-mailer                   41864 non-null  object \n",
      " 28  content-transfer-encoding  34209 non-null  object \n",
      " 29  x-mimeole                  28637 non-null  object \n",
      " 30  x-priority                 27333 non-null  object \n",
      " 31  list-id                    21261 non-null  object \n",
      " 32  lines                      26800 non-null  float64\n",
      " 33  x-virus-scanned            23811 non-null  object \n",
      " 34  status                     27478 non-null  object \n",
      " 35  content-length             26158 non-null  float64\n",
      " 36  precedence                 22158 non-null  object \n",
      " 37  delivered-to               11943 non-null  object \n",
      " 38  list-unsubscribe           21749 non-null  object \n",
      " 39  list-subscribe             21294 non-null  object \n",
      " 40  list-post                  21244 non-null  object \n",
      " 41  list-help                  21244 non-null  object \n",
      " 42  x-msmail-priority          18721 non-null  object \n",
      " 43  x-spam-status              17467 non-null  object \n",
      " 44  sender                     16659 non-null  object \n",
      " 45  errors-to                  16029 non-null  object \n",
      " 46  x-beenthere                15298 non-null  object \n",
      " 47  list-archive               15251 non-null  object \n",
      " 48  reply-to                   16446 non-null  object \n",
      " 49  x-mailman-version          14769 non-null  object \n",
      " 50  x-miltered                 15633 non-null  object \n",
      " 51  x-uuid                     15621 non-null  object \n",
      " 52  x-virus-status             15502 non-null  object \n",
      " 53  x-spam-level               2118 non-null   object \n",
      " 54  x-spam-checker-version     12572 non-null  object \n",
      " 55  references                 11657 non-null  object \n",
      " 56  in-reply-to                11476 non-null  object \n",
      " 57  user-agent                 9409 non-null   object \n",
      " 58  thread-index               10602 non-null  object \n",
      " 59  cc                         8102 non-null   object \n",
      " 60  received-spf               4618 non-null   object \n",
      " 61  x-original-to              6842 non-null   object \n",
      " 62  content-disposition        6147 non-null   object \n",
      " 63  mailing-list               4510 non-null   object \n",
      " 64  x-spam-check-by            4504 non-null   object \n",
      " 65  domainkey-signature        3874 non-null   object \n",
      " 66  importance                 3959 non-null   object \n",
      " 67  x-mailing-list             3626 non-null   object \n",
      " 68  label                      76707 non-null  float64\n",
      "dtypes: float64(3), int64(1), object(65)\n",
      "memory usage: 40.4+ MB\n"
     ]
    }
   ],
   "source": [
    "df.info()"
   ]
  },
  {
   "cell_type": "code",
   "execution_count": 48,
   "metadata": {
    "colab": {
     "base_uri": "https://localhost:8080/"
    },
    "id": "q_nCfCJyjvBm",
    "outputId": "a5a03c7d-f947-4d02-b834-909f634bf4ed"
   },
   "outputs": [
    {
     "data": {
      "text/plain": [
       "received1              75742\n",
       "received2              65868\n",
       "received3              35822\n",
       "received4              17185\n",
       "received5              10889\n",
       "                       ...  \n",
       "x-spam-check-by            1\n",
       "domainkey-signature     3777\n",
       "importance                 5\n",
       "x-mailing-list          1369\n",
       "label                      3\n",
       "Length: 69, dtype: int64"
      ]
     },
     "execution_count": 48,
     "metadata": {},
     "output_type": "execute_result"
    }
   ],
   "source": [
    "df.nunique()"
   ]
  },
  {
   "cell_type": "code",
   "execution_count": 49,
   "metadata": {
    "colab": {
     "base_uri": "https://localhost:8080/",
     "height": 0
    },
    "id": "vULIxJnMjxn5",
    "outputId": "ebea5855-b458-45ee-c76b-eeecde1f8045"
   },
   "outputs": [
    {
     "data": {
      "text/html": [
       "<div>\n",
       "<style scoped>\n",
       "    .dataframe tbody tr th:only-of-type {\n",
       "        vertical-align: middle;\n",
       "    }\n",
       "\n",
       "    .dataframe tbody tr th {\n",
       "        vertical-align: top;\n",
       "    }\n",
       "\n",
       "    .dataframe thead th {\n",
       "        text-align: right;\n",
       "    }\n",
       "</style>\n",
       "<table border=\"1\" class=\"dataframe\">\n",
       "  <thead>\n",
       "    <tr style=\"text-align: right;\">\n",
       "      <th></th>\n",
       "      <th>hops</th>\n",
       "      <th>lines</th>\n",
       "      <th>content-length</th>\n",
       "      <th>label</th>\n",
       "    </tr>\n",
       "  </thead>\n",
       "  <tbody>\n",
       "    <tr>\n",
       "      <th>count</th>\n",
       "      <td>76711.000000</td>\n",
       "      <td>26800.000000</td>\n",
       "      <td>26158.000000</td>\n",
       "      <td>76707.000000</td>\n",
       "    </tr>\n",
       "    <tr>\n",
       "      <th>mean</th>\n",
       "      <td>2.953397</td>\n",
       "      <td>116.558060</td>\n",
       "      <td>6577.272345</td>\n",
       "      <td>0.688008</td>\n",
       "    </tr>\n",
       "    <tr>\n",
       "      <th>std</th>\n",
       "      <td>1.830984</td>\n",
       "      <td>185.805946</td>\n",
       "      <td>12711.913318</td>\n",
       "      <td>0.498236</td>\n",
       "    </tr>\n",
       "    <tr>\n",
       "      <th>min</th>\n",
       "      <td>1.000000</td>\n",
       "      <td>0.000000</td>\n",
       "      <td>0.000000</td>\n",
       "      <td>0.000000</td>\n",
       "    </tr>\n",
       "    <tr>\n",
       "      <th>25%</th>\n",
       "      <td>2.000000</td>\n",
       "      <td>32.000000</td>\n",
       "      <td>1274.000000</td>\n",
       "      <td>0.000000</td>\n",
       "    </tr>\n",
       "    <tr>\n",
       "      <th>50%</th>\n",
       "      <td>2.000000</td>\n",
       "      <td>56.000000</td>\n",
       "      <td>2346.500000</td>\n",
       "      <td>1.000000</td>\n",
       "    </tr>\n",
       "    <tr>\n",
       "      <th>75%</th>\n",
       "      <td>3.000000</td>\n",
       "      <td>124.000000</td>\n",
       "      <td>5798.000000</td>\n",
       "      <td>1.000000</td>\n",
       "    </tr>\n",
       "    <tr>\n",
       "      <th>max</th>\n",
       "      <td>16.000000</td>\n",
       "      <td>7127.000000</td>\n",
       "      <td>546257.000000</td>\n",
       "      <td>2.000000</td>\n",
       "    </tr>\n",
       "  </tbody>\n",
       "</table>\n",
       "</div>"
      ],
      "text/plain": [
       "               hops         lines  content-length         label\n",
       "count  76711.000000  26800.000000    26158.000000  76707.000000\n",
       "mean       2.953397    116.558060     6577.272345      0.688008\n",
       "std        1.830984    185.805946    12711.913318      0.498236\n",
       "min        1.000000      0.000000        0.000000      0.000000\n",
       "25%        2.000000     32.000000     1274.000000      0.000000\n",
       "50%        2.000000     56.000000     2346.500000      1.000000\n",
       "75%        3.000000    124.000000     5798.000000      1.000000\n",
       "max       16.000000   7127.000000   546257.000000      2.000000"
      ]
     },
     "execution_count": 49,
     "metadata": {},
     "output_type": "execute_result"
    }
   ],
   "source": [
    "df.describe()"
   ]
  },
  {
   "cell_type": "code",
   "execution_count": 50,
   "metadata": {
    "colab": {
     "base_uri": "https://localhost:8080/"
    },
    "id": "2r_eUn1cAmjg",
    "outputId": "da5950a6-1ff0-45d4-b777-318c70374506"
   },
   "outputs": [
    {
     "data": {
      "text/plain": [
       "(76711, 69)"
      ]
     },
     "execution_count": 50,
     "metadata": {},
     "output_type": "execute_result"
    }
   ],
   "source": [
    "df.shape"
   ]
  },
  {
   "cell_type": "markdown",
   "metadata": {
    "id": "hokOGyXVNaM0"
   },
   "source": [
    "Most columns have missing values:"
   ]
  },
  {
   "cell_type": "code",
   "execution_count": 51,
   "metadata": {
    "colab": {
     "base_uri": "https://localhost:8080/"
    },
    "id": "KPZGGmPzNN_b",
    "outputId": "ae35e608-764c-43ab-b838-cf75350b6ac3"
   },
   "outputs": [
    {
     "data": {
      "text/plain": [
       "['received2',\n",
       " 'received3',\n",
       " 'received4',\n",
       " 'received5',\n",
       " 'received6',\n",
       " 'received7',\n",
       " 'received8',\n",
       " 'received9',\n",
       " 'received10',\n",
       " 'received11',\n",
       " 'received12',\n",
       " 'received13',\n",
       " 'received14',\n",
       " 'received15',\n",
       " 'received16',\n",
       " 'first_received',\n",
       " 'last_received',\n",
       " 'subject',\n",
       " 'date',\n",
       " 'message-id',\n",
       " 'to',\n",
       " 'content-type',\n",
       " 'mime-version',\n",
       " 'x-mailer',\n",
       " 'content-transfer-encoding',\n",
       " 'x-mimeole',\n",
       " 'x-priority',\n",
       " 'list-id',\n",
       " 'lines',\n",
       " 'x-virus-scanned',\n",
       " 'status',\n",
       " 'content-length',\n",
       " 'precedence',\n",
       " 'delivered-to',\n",
       " 'list-unsubscribe',\n",
       " 'list-subscribe',\n",
       " 'list-post',\n",
       " 'list-help',\n",
       " 'x-msmail-priority',\n",
       " 'x-spam-status',\n",
       " 'sender',\n",
       " 'errors-to',\n",
       " 'x-beenthere',\n",
       " 'list-archive',\n",
       " 'reply-to',\n",
       " 'x-mailman-version',\n",
       " 'x-miltered',\n",
       " 'x-uuid',\n",
       " 'x-virus-status',\n",
       " 'x-spam-level',\n",
       " 'x-spam-checker-version',\n",
       " 'references',\n",
       " 'in-reply-to',\n",
       " 'user-agent',\n",
       " 'thread-index',\n",
       " 'cc',\n",
       " 'received-spf',\n",
       " 'x-original-to',\n",
       " 'content-disposition',\n",
       " 'mailing-list',\n",
       " 'x-spam-check-by',\n",
       " 'domainkey-signature',\n",
       " 'importance',\n",
       " 'x-mailing-list',\n",
       " 'label']"
      ]
     },
     "execution_count": 51,
     "metadata": {},
     "output_type": "execute_result"
    }
   ],
   "source": [
    "df.columns[df.isna().any()].tolist()"
   ]
  },
  {
   "cell_type": "markdown",
   "metadata": {
    "id": "PVY3L1peNdRB"
   },
   "source": [
    "These do not have missing values:"
   ]
  },
  {
   "cell_type": "code",
   "execution_count": 52,
   "metadata": {
    "colab": {
     "base_uri": "https://localhost:8080/"
    },
    "id": "2Aeul7r7NRFR",
    "outputId": "1a8d7cea-cdc1-4849-94f5-3cc794c3d303"
   },
   "outputs": [
    {
     "data": {
      "text/plain": [
       "['received1', 'hops', 'from', 'return-path']"
      ]
     },
     "execution_count": 52,
     "metadata": {},
     "output_type": "execute_result"
    }
   ],
   "source": [
    "df.columns[~df.isna().any()].tolist()"
   ]
  },
  {
   "cell_type": "markdown",
   "metadata": {
    "id": "pfiWegtPj4q8"
   },
   "source": [
    "# **---------- Data Preprocessing -----------------------------**"
   ]
  },
  {
   "cell_type": "markdown",
   "metadata": {
    "id": "KvWjb8GwOM-y"
   },
   "source": [
    "# **Initial Setup**"
   ]
  },
  {
   "cell_type": "code",
   "execution_count": 53,
   "metadata": {
    "id": "r_f_APuIN-eT"
   },
   "outputs": [],
   "source": [
    "initial_features_list = ['received1', 'received2', 'received3', 'received4', 'received5',\n",
    "       'received6', 'received7', 'received8', 'received9', 'received10',\n",
    "       'received11', 'received12', 'received13', 'received14',\n",
    "       'received15', 'received16', 'subject', 'date',\n",
    "       'message-id', 'from', 'return-path', 'to', 'content-type',\n",
    "       'mime-version', 'x-mailer', 'content-transfer-encoding',\n",
    "       'x-mimeole', 'x-priority', 'list-id', 'lines', 'x-virus-scanned',\n",
    "       'status', 'content-length', 'precedence', 'delivered-to',\n",
    "       'list-unsubscribe', 'list-subscribe', 'list-post', 'list-help',\n",
    "       'x-msmail-priority', 'x-spam-status', 'sender', 'errors-to',\n",
    "       'x-beenthere', 'list-archive', 'reply-to', 'x-mailman-version',\n",
    "       'x-miltered', 'x-uuid', 'x-virus-status', 'x-spam-level',\n",
    "       'x-spam-checker-version', 'references', 'in-reply-to',\n",
    "       'user-agent', 'thread-index', 'cc', 'received-spf',\n",
    "       'x-original-to', 'content-disposition', 'mailing-list',\n",
    "       'x-spam-check-by', 'domainkey-signature', 'importance',\n",
    "       'x-mailing-list']\n",
    "\n",
    "label_name = 'label'\n",
    "\n",
    "final_features_list = ['hops']"
   ]
  },
  {
   "cell_type": "markdown",
   "metadata": {
    "id": "rJJ4WHSBFTWc"
   },
   "source": [
    "# **Feature: \"Missing Fields**\""
   ]
  },
  {
   "cell_type": "markdown",
   "metadata": {
    "id": "uALkwpDyGI18"
   },
   "source": [
    "Feature extraction: Creates one new feature per header field based on whether they're missing (NaN) from an email or not. If they're present, a value of 0 is assigned, otherwise 1 if they're missing. \n",
    "\n",
    "---\n",
    "\n"
   ]
  },
  {
   "cell_type": "code",
   "execution_count": 54,
   "metadata": {
    "colab": {
     "base_uri": "https://localhost:8080/"
    },
    "id": "f21IqeoQPgQA",
    "outputId": "abadb12c-522b-4a65-b57a-4bc81da67205"
   },
   "outputs": [
    {
     "data": {
      "text/plain": [
       "(76711, 69)"
      ]
     },
     "execution_count": 54,
     "metadata": {},
     "output_type": "execute_result"
    }
   ],
   "source": [
    "df.shape"
   ]
  },
  {
   "cell_type": "code",
   "execution_count": 55,
   "metadata": {
    "id": "vpWDCXg8GIWL"
   },
   "outputs": [],
   "source": [
    "missing_feature_names = []\n",
    "\n",
    "for name in initial_features_list:\n",
    "  missing_feature_names.append('missing_' + name)\n",
    "\n",
    "for feature, name in zip(initial_features_list, missing_feature_names):\n",
    "  df.loc[df[feature].isnull(), name] = 1\n",
    "  df.loc[~df[feature].isnull(), name] = 0\n",
    "\n",
    "final_features_list.extend(missing_feature_names)"
   ]
  },
  {
   "cell_type": "code",
   "execution_count": 56,
   "metadata": {
    "colab": {
     "base_uri": "https://localhost:8080/"
    },
    "id": "wRa5v3ykPeDI",
    "outputId": "9547934b-0f21-45bf-e017-7dc4bc19e9f9"
   },
   "outputs": [
    {
     "data": {
      "text/plain": [
       "(76711, 134)"
      ]
     },
     "execution_count": 56,
     "metadata": {},
     "output_type": "execute_result"
    }
   ],
   "source": [
    "df.shape"
   ]
  },
  {
   "cell_type": "code",
   "execution_count": 57,
   "metadata": {
    "colab": {
     "base_uri": "https://localhost:8080/"
    },
    "id": "Bmc1DtBfJ7w9",
    "outputId": "b344854a-6a11-4ca1-b0a5-9b940e4ed47e"
   },
   "outputs": [
    {
     "data": {
      "text/plain": [
       "0.0    76711\n",
       "Name: missing_return-path, dtype: int64"
      ]
     },
     "execution_count": 57,
     "metadata": {},
     "output_type": "execute_result"
    }
   ],
   "source": [
    "df['missing_return-path'].value_counts()"
   ]
  },
  {
   "cell_type": "code",
   "execution_count": 58,
   "metadata": {
    "colab": {
     "base_uri": "https://localhost:8080/"
    },
    "id": "ptzoeTrAK0FU",
    "outputId": "855f6024-4e77-4d19-cc44-1bea7d046fad"
   },
   "outputs": [
    {
     "data": {
      "text/plain": [
       "0.0    41864\n",
       "1.0    34847\n",
       "Name: missing_x-mailer, dtype: int64"
      ]
     },
     "execution_count": 58,
     "metadata": {},
     "output_type": "execute_result"
    }
   ],
   "source": [
    "df['missing_x-mailer'].value_counts()"
   ]
  },
  {
   "cell_type": "markdown",
   "metadata": {
    "id": "nqHSyA4SyJ7K"
   },
   "source": [
    "# **Dealing with NaN:**"
   ]
  },
  {
   "cell_type": "code",
   "execution_count": 59,
   "metadata": {
    "id": "MLoASFJOyNCX"
   },
   "outputs": [],
   "source": [
    "df = df.replace(np.nan, '', regex=True)"
   ]
  },
  {
   "cell_type": "markdown",
   "metadata": {
    "id": "2S8P6ibWQGus"
   },
   "source": [
    "# **Feature: \"String Content Matching\"**"
   ]
  },
  {
   "cell_type": "markdown",
   "metadata": {
    "id": "18FftIBRSjba"
   },
   "source": [
    "Checks are done for the following things items, where 1 represents it does contain that thing, 0 represents it does NOT contain it: "
   ]
  },
  {
   "cell_type": "markdown",
   "metadata": {
    "id": "WQkCDZ6qSx3T"
   },
   "source": [
    "'From': contains '?', '!', or '<>'\n",
    "\n",
    "\n",
    "---\n",
    "\n",
    "'To': contains '<>'\n",
    "\n",
    "---\n",
    "\n",
    "'Message-ID': contains '$'\n",
    "\n",
    "---\n",
    "\n",
    "'Return-Path': contains 'bounce'\n",
    "\n",
    "---\n",
    "\n",
    "'Reply-To': contains: '?'\n",
    "\n",
    "---\n",
    "\n",
    "'Received-SPF': contains 'bad', 'softfail', 'fail'\n",
    "\n",
    "---\n",
    "\n",
    "'Content-Type': contains 'text/html'\n",
    "\n",
    "---\n",
    "\n",
    "Precedence: contains 'list'\n",
    "\n",
    "---\n",
    "\n",
    "Received: Contains 'forged'\n"
   ]
  },
  {
   "cell_type": "markdown",
   "metadata": {
    "id": "6D4wxApdjW0k"
   },
   "source": [
    "**Content-Transfer-Encoding:**"
   ]
  },
  {
   "cell_type": "markdown",
   "metadata": {
    "id": "oz3cPiYKmi0P"
   },
   "source": [
    "Returns 0 if contains 7bit or 8bit, otherwise 1. (case insensitive)"
   ]
  },
  {
   "cell_type": "code",
   "execution_count": 60,
   "metadata": {
    "colab": {
     "base_uri": "https://localhost:8080/"
    },
    "id": "v0ziCh85kRM3",
    "outputId": "89059a84-c216-489a-d438-d2f330df8632"
   },
   "outputs": [
    {
     "data": {
      "text/plain": [
       "1.0    34293\n",
       "0.0     8444\n",
       "2.0     1224\n",
       "           4\n",
       "Name: label, dtype: int64"
      ]
     },
     "execution_count": 60,
     "metadata": {},
     "output_type": "execute_result"
    }
   ],
   "source": [
    "df[~(df['content-transfer-encoding'].str.contains('(?i)8bit')) & ~(df['content-transfer-encoding'].str.contains('(?i)7bit'))]['label'].value_counts()"
   ]
  },
  {
   "cell_type": "code",
   "execution_count": 61,
   "metadata": {
    "id": "1TEL9utYkApS"
   },
   "outputs": [],
   "source": [
    "import re\n",
    "\n",
    "def content_encoding_val(row):\n",
    "  val = row['content-transfer-encoding']\n",
    "  re1 = re.compile(r'(?i)8bit')\n",
    "  re2 = re.compile(r'(?i)7bit')\n",
    "  if (not re1.search(val)) and (not re2.search(val)):\n",
    "    return 1\n",
    "  else:\n",
    "    return 0"
   ]
  },
  {
   "cell_type": "code",
   "execution_count": 62,
   "metadata": {
    "id": "-_hJaYEKlzh-"
   },
   "outputs": [],
   "source": [
    "df['content-encoding-val'] = df.apply(content_encoding_val, axis=1)"
   ]
  },
  {
   "cell_type": "code",
   "execution_count": 63,
   "metadata": {
    "id": "ibBviQeTmqEx"
   },
   "outputs": [],
   "source": [
    "final_features_list.append('content-encoding-val')"
   ]
  },
  {
   "cell_type": "markdown",
   "metadata": {
    "id": "ditnftr5nZUV"
   },
   "source": [
    "**Received check:**"
   ]
  },
  {
   "cell_type": "code",
   "execution_count": 64,
   "metadata": {
    "id": "2VcMD1QBlogj"
   },
   "outputs": [],
   "source": [
    "def check_received_forged(row):\n",
    "  num_iters = row['hops']\n",
    "  col_name_base = 'received'\n",
    "\n",
    "  for i in range(1, num_iters+1):\n",
    "    curr_val = row[col_name_base + str(i)]\n",
    "    if 'forged' in curr_val:\n",
    "      return 1\n",
    "    else:\n",
    "      continue\n",
    "  return 0"
   ]
  },
  {
   "cell_type": "code",
   "execution_count": 65,
   "metadata": {
    "id": "Dvr6iPkOlz41"
   },
   "outputs": [],
   "source": [
    "df['received_str_forged'] = df.apply(check_received_forged, axis=1)\n",
    "final_features_list.append('received_str_forged')"
   ]
  },
  {
   "cell_type": "code",
   "execution_count": 66,
   "metadata": {
    "colab": {
     "base_uri": "https://localhost:8080/"
    },
    "id": "05-fkNm9m_0V",
    "outputId": "861ab60c-b8f5-4d8b-e42e-c5ef1769b0a5"
   },
   "outputs": [
    {
     "data": {
      "text/plain": [
       "1.0    7518\n",
       "0.0     167\n",
       "2.0      12\n",
       "Name: label, dtype: int64"
      ]
     },
     "execution_count": 66,
     "metadata": {},
     "output_type": "execute_result"
    }
   ],
   "source": [
    "df[df['received_str_forged'] == 1]['label'].value_counts()"
   ]
  },
  {
   "cell_type": "markdown",
   "metadata": {
    "id": "XOUZx24QnVNX"
   },
   "source": [
    "**Other string checks:**"
   ]
  },
  {
   "cell_type": "code",
   "execution_count": 67,
   "metadata": {
    "id": "AXoFOABhvGxm"
   },
   "outputs": [],
   "source": [
    "def str_based_features_add(old_col_name, new_col_names, items_to_check):\n",
    "\n",
    "  for col_name, item_to_check in zip(new_col_names, items_to_check):\n",
    "    if item_to_check == '':\n",
    "      df.loc[(df[old_col_name].str.fullmatch(item_to_check)), col_name] = 1\n",
    "      df.loc[~(df[old_col_name].str.fullmatch(item_to_check)), col_name] = 0\n",
    "    else:\n",
    "      df.loc[(df[old_col_name].str.contains('(?i)' + item_to_check)), col_name] = 1\n",
    "      df.loc[~(df[old_col_name].str.contains('(?i)' + item_to_check)), col_name] = 0\n",
    "\n",
    "  final_features_list.extend(new_col_names)"
   ]
  },
  {
   "cell_type": "code",
   "execution_count": 68,
   "metadata": {
    "id": "ZjXragSrQMu8"
   },
   "outputs": [],
   "source": [
    "# Content-Transfer-Encoding\n",
    "new_col_names = ['str_content-encoding_empty']\n",
    "items_to_check = ['']\n",
    "feature = 'content-transfer-encoding'\n",
    "str_based_features_add(feature, new_col_names, items_to_check)\n",
    "\n",
    "# From\n",
    "new_col_names = ['str_from_question', 'str_from_exclam', 'str_from_chevron']\n",
    "items_to_check = ['\\?', '!', '<.+>']\n",
    "feature = 'from'\n",
    "str_based_features_add(feature, new_col_names, items_to_check)\n",
    "\n",
    "# To\n",
    "new_col_names = ['str_to_chevron', 'str_to_undisclosed', 'str_to_empty']\n",
    "items_to_check = ['<.+>', 'Undisclosed Recipients', '']\n",
    "feature = 'to'\n",
    "str_based_features_add(feature, new_col_names, items_to_check)\n",
    "\n",
    "# Message-ID\n",
    "new_col_names = ['str_message-ID_dollar']\n",
    "items_to_check = ['\\$']\n",
    "feature = 'message-id'\n",
    "str_based_features_add(feature, new_col_names, items_to_check)\n",
    "\n",
    "# Return-Path\n",
    "new_col_names = ['str_return-path_bounce', 'str_return-path_empty']\n",
    "items_to_check = ['bounce', '']\n",
    "feature = 'return-path'\n",
    "str_based_features_add(feature, new_col_names, items_to_check)\n",
    "\n",
    "# Reply-To\n",
    "new_col_names = ['str_reply-to_question']\n",
    "items_to_check = ['\\?']\n",
    "feature = 'reply-to'\n",
    "str_based_features_add(feature, new_col_names, items_to_check)\n",
    "\n",
    "# Received-SPF\n",
    "new_col_names = ['str_received-SPF_bad', 'str_received-SPF_softfail', \n",
    "                 'str_received-SPF_fail']\n",
    "items_to_check = ['bad', 'softfail', 'fail']\n",
    "feature = 'received-spf'\n",
    "str_based_features_add(feature, new_col_names, items_to_check)\n",
    "\n",
    "# Content-Type\n",
    "new_col_names = ['str_content-type_texthtml']\n",
    "items_to_check = ['text/html']\n",
    "feature = 'content-type'\n",
    "str_based_features_add(feature, new_col_names, items_to_check)\n",
    "\n",
    "# Precedence\n",
    "new_col_names = ['str_precedence_list']\n",
    "items_to_check = ['list']\n",
    "feature = 'precedence'\n",
    "str_based_features_add(feature, new_col_names, items_to_check)"
   ]
  },
  {
   "cell_type": "markdown",
   "metadata": {
    "id": "xhkNe2ql-cFP"
   },
   "source": [
    "# **Feature: \"Count-Based features\"**"
   ]
  },
  {
   "cell_type": "markdown",
   "metadata": {
    "id": "qHpLQpY81B-m"
   },
   "source": [
    "**The following features are extracted (and also discretizied):**"
   ]
  },
  {
   "cell_type": "markdown",
   "metadata": {
    "id": "HqvNNJlc0eZq"
   },
   "source": [
    "Hops: The number of received fields in an email. (This was extracted during the creation of the data set.)\n",
    "\n",
    "---\n",
    "\n",
    "Length: The total number of characters in the 'From' field.\n",
    "\n",
    "---\n",
    "\n",
    "Number of recipients: The number of email addresses specified in the 'To' field.\n",
    "\n",
    "Number of recipients: The number of email addresses specified in the 'Cc' field.\n",
    "\n",
    "Number of Senders: The number of email addresses specified in the 'From' field.\n",
    "\n",
    "---\n",
    "\n",
    "Number of replies: The number of message-ID's contained within the 'References' field. (Each message-ID is enclosed in a pair of '<>'). [PROPOSED]\n",
    "\n",
    "\n",
    "\n"
   ]
  },
  {
   "cell_type": "markdown",
   "metadata": {
    "id": "34-mVd2ZiPrs"
   },
   "source": [
    "**Hops:**"
   ]
  },
  {
   "cell_type": "code",
   "execution_count": 69,
   "metadata": {
    "colab": {
     "base_uri": "https://localhost:8080/"
    },
    "id": "Lj8WQXCHiiJf",
    "outputId": "0e4c0bf5-8183-4192-d91b-29223520c62c"
   },
   "outputs": [
    {
     "data": {
      "text/plain": [
       "count    76711.000000\n",
       "mean         2.953397\n",
       "std          1.830984\n",
       "min          1.000000\n",
       "25%          2.000000\n",
       "50%          2.000000\n",
       "75%          3.000000\n",
       "max         16.000000\n",
       "Name: hops, dtype: float64"
      ]
     },
     "execution_count": 69,
     "metadata": {},
     "output_type": "execute_result"
    }
   ],
   "source": [
    "df['hops'].describe()"
   ]
  },
  {
   "cell_type": "code",
   "execution_count": 70,
   "metadata": {
    "colab": {
     "base_uri": "https://localhost:8080/"
    },
    "id": "qwYvDWXNgU_H",
    "outputId": "427ecac0-3e95-4b88-d0c1-0b16fb5733e2"
   },
   "outputs": [
    {
     "data": {
      "text/plain": [
       "0.0    7424\n",
       "1.0     221\n",
       "2.0      92\n",
       "Name: label, dtype: int64"
      ]
     },
     "execution_count": 70,
     "metadata": {},
     "output_type": "execute_result"
    }
   ],
   "source": [
    "df[df['hops'] > 5]['label'].value_counts()"
   ]
  },
  {
   "cell_type": "code",
   "execution_count": 71,
   "metadata": {
    "id": "jidAm3tpiRN2"
   },
   "outputs": [],
   "source": [
    "df['hops'] = df['hops'].apply(lambda x: 0 if x <= 2 else 1 if x <= 5 else 2)"
   ]
  },
  {
   "cell_type": "code",
   "execution_count": 72,
   "metadata": {
    "colab": {
     "base_uri": "https://localhost:8080/"
    },
    "id": "iVl9PDg4i1lf",
    "outputId": "4700d0b5-221e-4915-99ad-e87fccbbe66d"
   },
   "outputs": [
    {
     "data": {
      "text/plain": [
       "0    40356\n",
       "1    28618\n",
       "2     7737\n",
       "Name: hops, dtype: int64"
      ]
     },
     "execution_count": 72,
     "metadata": {},
     "output_type": "execute_result"
    }
   ],
   "source": [
    "df['hops'].value_counts()"
   ]
  },
  {
   "cell_type": "markdown",
   "metadata": {
    "id": "W0sZPjea3SIX"
   },
   "source": [
    "**Length:**"
   ]
  },
  {
   "cell_type": "code",
   "execution_count": 73,
   "metadata": {
    "id": "Z1Xb3BsZ-gcd"
   },
   "outputs": [],
   "source": [
    "def count_chars(field_names, new_col_names):\n",
    "  for field_name, new_col_name in zip(field_names, new_col_names):\n",
    "    df[new_col_name] = df[field_name].str.len()\n",
    "\n",
    "  final_features_list.extend(new_col_names)"
   ]
  },
  {
   "cell_type": "code",
   "execution_count": 74,
   "metadata": {
    "id": "yCdufaF84miB"
   },
   "outputs": [],
   "source": [
    "fields_to_find_lengths = ['from']\n",
    "new_col_names_lengths = []\n",
    "\n",
    "for val in fields_to_find_lengths:\n",
    "  new_col_names_lengths.append('length_' + val)\n",
    "\n",
    "count_chars(fields_to_find_lengths, new_col_names_lengths)"
   ]
  },
  {
   "cell_type": "code",
   "execution_count": 75,
   "metadata": {
    "colab": {
     "base_uri": "https://localhost:8080/"
    },
    "id": "J3G1RvY6jjf-",
    "outputId": "3b5e67f7-72a0-4fca-f9f2-81ae1b12c538"
   },
   "outputs": [
    {
     "data": {
      "text/plain": [
       "count    76711.000000\n",
       "mean        41.374835\n",
       "std         12.882218\n",
       "min          6.000000\n",
       "25%         34.000000\n",
       "50%         40.000000\n",
       "75%         47.000000\n",
       "max        171.000000\n",
       "Name: length_from, dtype: float64"
      ]
     },
     "execution_count": 75,
     "metadata": {},
     "output_type": "execute_result"
    }
   ],
   "source": [
    "df['length_from'].describe()"
   ]
  },
  {
   "cell_type": "code",
   "execution_count": 76,
   "metadata": {
    "colab": {
     "base_uri": "https://localhost:8080/"
    },
    "id": "WOOQnhd_hJX2",
    "outputId": "558c5c05-0c7d-4cb5-a74b-ca9001920587"
   },
   "outputs": [
    {
     "data": {
      "text/plain": [
       "1.0    27385\n",
       "0.0     9042\n",
       "2.0      576\n",
       "           4\n",
       "Name: label, dtype: int64"
      ]
     },
     "execution_count": 76,
     "metadata": {},
     "output_type": "execute_result"
    }
   ],
   "source": [
    "df[df['length_from'] > 40]['label'].value_counts()"
   ]
  },
  {
   "cell_type": "code",
   "execution_count": 77,
   "metadata": {
    "id": "bcrT0L01j8ZF"
   },
   "outputs": [],
   "source": [
    "df['length_from'] = df['length_from'].apply(lambda x: 0 if x > 40 else 1)"
   ]
  },
  {
   "cell_type": "markdown",
   "metadata": {
    "id": "O6lKQKvM66jF"
   },
   "source": [
    "**Number of recipients:**"
   ]
  },
  {
   "cell_type": "code",
   "execution_count": 78,
   "metadata": {
    "id": "ogFgrSoi8GNs"
   },
   "outputs": [],
   "source": [
    "import re\n",
    "\n",
    "#https://stackoverflow.com/questions/42407785/regex-extract-email-from-strings\n",
    "df['num_recipients_to'] = df.apply(lambda x: len(re.findall(\n",
    "    r'([a-zA-Z0-9+._-]+@[a-zA-Z0-9._-]+\\.[a-zA-Z0-9_-]+)', x['to'])), axis=1)\n",
    "\n",
    "df['num_recipients_cc'] = df.apply(lambda x: len(re.findall(\n",
    "    r'([a-zA-Z0-9+._-]+@[a-zA-Z0-9._-]+\\.[a-zA-Z0-9_-]+)', x['cc'])), axis=1)\n",
    "\n",
    "df['num_recipients_from'] = df.apply(lambda x: len(re.findall(\n",
    "    r'([a-zA-Z0-9+._-]+@[a-zA-Z0-9._-]+\\.[a-zA-Z0-9_-]+)', x['from'])), axis=1)\n",
    "\n",
    "final_features_list.append('num_recipients_to')\n",
    "final_features_list.append('num_recipients_cc')\n",
    "final_features_list.append('num_recipients_from')"
   ]
  },
  {
   "cell_type": "code",
   "execution_count": 79,
   "metadata": {
    "colab": {
     "base_uri": "https://localhost:8080/"
    },
    "id": "ohJYDpkJkVd6",
    "outputId": "24455c50-ec45-4ce5-bfc3-84e2d7878ff6"
   },
   "outputs": [
    {
     "data": {
      "text/plain": [
       "count    76711.000000\n",
       "mean         1.201314\n",
       "std         12.702999\n",
       "min          0.000000\n",
       "25%          1.000000\n",
       "50%          1.000000\n",
       "75%          1.000000\n",
       "max       1447.000000\n",
       "Name: num_recipients_to, dtype: float64"
      ]
     },
     "execution_count": 79,
     "metadata": {},
     "output_type": "execute_result"
    }
   ],
   "source": [
    "df['num_recipients_to'].describe()"
   ]
  },
  {
   "cell_type": "code",
   "execution_count": 80,
   "metadata": {
    "colab": {
     "base_uri": "https://localhost:8080/"
    },
    "id": "AKAK1WXphz6F",
    "outputId": "56545e86-be7c-4c10-fd8d-d82fa7bf9133"
   },
   "outputs": [
    {
     "data": {
      "text/plain": [
       "1.0    703\n",
       "0.0    163\n",
       "2.0    136\n",
       "Name: label, dtype: int64"
      ]
     },
     "execution_count": 80,
     "metadata": {},
     "output_type": "execute_result"
    }
   ],
   "source": [
    "df[df['num_recipients_to'] == 0]['label'].value_counts()"
   ]
  },
  {
   "cell_type": "code",
   "execution_count": 81,
   "metadata": {
    "id": "zV_tZgQNkhtr"
   },
   "outputs": [],
   "source": [
    "df['num_recipients_to'] = df['num_recipients_to'].apply(lambda x: 0 if x == 0 else 1 if x == 1 else 2)"
   ]
  },
  {
   "cell_type": "code",
   "execution_count": 82,
   "metadata": {
    "colab": {
     "base_uri": "https://localhost:8080/"
    },
    "id": "wO3FkqJ5krTb",
    "outputId": "fb0c9bb2-d997-4589-86c7-5824788855b1"
   },
   "outputs": [
    {
     "data": {
      "text/plain": [
       "1    72866\n",
       "2     2843\n",
       "0     1002\n",
       "Name: num_recipients_to, dtype: int64"
      ]
     },
     "execution_count": 82,
     "metadata": {},
     "output_type": "execute_result"
    }
   ],
   "source": [
    "df['num_recipients_to'].value_counts()"
   ]
  },
  {
   "cell_type": "code",
   "execution_count": 83,
   "metadata": {
    "id": "qPz8S_VfkyuW"
   },
   "outputs": [],
   "source": [
    "df['num_recipients_cc'] = df['num_recipients_cc'].apply(lambda x: 0 if x == 0 else 1 if x == 1 else 2)"
   ]
  },
  {
   "cell_type": "code",
   "execution_count": 84,
   "metadata": {
    "colab": {
     "base_uri": "https://localhost:8080/"
    },
    "id": "Vdq_LAsSieP3",
    "outputId": "dbd106b6-f0d1-4c9b-ca12-57e068573229"
   },
   "outputs": [
    {
     "data": {
      "text/plain": [
       "1.0    66\n",
       "2.0    16\n",
       "Name: label, dtype: int64"
      ]
     },
     "execution_count": 84,
     "metadata": {},
     "output_type": "execute_result"
    }
   ],
   "source": [
    "df[df['num_recipients_from'] == 0]['label'].value_counts()"
   ]
  },
  {
   "cell_type": "code",
   "execution_count": 85,
   "metadata": {
    "colab": {
     "base_uri": "https://localhost:8080/"
    },
    "id": "VX8f_B9OgJ1_",
    "outputId": "5a56d591-4457-4c1e-cd5b-7806029ac922"
   },
   "outputs": [
    {
     "data": {
      "text/plain": [
       "count    76711.000000\n",
       "mean         1.003129\n",
       "std          0.072504\n",
       "min          0.000000\n",
       "25%          1.000000\n",
       "50%          1.000000\n",
       "75%          1.000000\n",
       "max          2.000000\n",
       "Name: num_recipients_from, dtype: float64"
      ]
     },
     "execution_count": 85,
     "metadata": {},
     "output_type": "execute_result"
    }
   ],
   "source": [
    "df['num_recipients_from'].describe()"
   ]
  },
  {
   "cell_type": "code",
   "execution_count": 86,
   "metadata": {
    "colab": {
     "base_uri": "https://localhost:8080/"
    },
    "id": "msGcECimgNs6",
    "outputId": "2a8d3355-45f9-4a89-adfe-1e6f18c3bc64"
   },
   "outputs": [
    {
     "data": {
      "text/plain": [
       "1    76307\n",
       "2      322\n",
       "0       82\n",
       "Name: num_recipients_from, dtype: int64"
      ]
     },
     "execution_count": 86,
     "metadata": {},
     "output_type": "execute_result"
    }
   ],
   "source": [
    "df['num_recipients_from'].value_counts()"
   ]
  },
  {
   "cell_type": "code",
   "execution_count": 87,
   "metadata": {
    "id": "5c8OEPdjgWOl"
   },
   "outputs": [],
   "source": [
    "df['num_recipients_from'] = df['num_recipients_from'].apply(lambda x: 0 if x == 0 else 1 if x == 1 else 2)"
   ]
  },
  {
   "cell_type": "markdown",
   "metadata": {
    "id": "IyuakTcCPKOr"
   },
   "source": [
    "**Number of replies:**"
   ]
  },
  {
   "cell_type": "code",
   "execution_count": 88,
   "metadata": {
    "id": "EhoKWPYgS4rM"
   },
   "outputs": [],
   "source": [
    "import re\n",
    "\n",
    "def extract_num_replies(row):\n",
    "  references_val = row['references']\n",
    "  all = re.findall(r'<([a-zA-Z0-9+._-]+@[a-zA-Z0-9._-]+\\.[a-zA-Z0-9_-]+)>', \n",
    "                  references_val)\n",
    "  return len(all)"
   ]
  },
  {
   "cell_type": "code",
   "execution_count": 89,
   "metadata": {
    "id": "c4wnkcgpPLCR"
   },
   "outputs": [],
   "source": [
    "df['number_replies'] = df.apply(extract_num_replies, axis=1)"
   ]
  },
  {
   "cell_type": "code",
   "execution_count": 90,
   "metadata": {
    "colab": {
     "base_uri": "https://localhost:8080/"
    },
    "id": "1p28jg7YgsZJ",
    "outputId": "78485028-e2e1-4238-d1ca-b79a0e9bd1a7"
   },
   "outputs": [
    {
     "data": {
      "text/plain": [
       "count    76711.000000\n",
       "mean         0.342715\n",
       "std          1.109622\n",
       "min          0.000000\n",
       "25%          0.000000\n",
       "50%          0.000000\n",
       "75%          0.000000\n",
       "max         15.000000\n",
       "Name: number_replies, dtype: float64"
      ]
     },
     "execution_count": 90,
     "metadata": {},
     "output_type": "execute_result"
    }
   ],
   "source": [
    "df['number_replies'].describe()"
   ]
  },
  {
   "cell_type": "code",
   "execution_count": 91,
   "metadata": {
    "colab": {
     "base_uri": "https://localhost:8080/"
    },
    "id": "DGXljt3Ng_c5",
    "outputId": "d621f4f4-9156-40d8-e73a-a38c9c709e1b"
   },
   "outputs": [
    {
     "data": {
      "text/plain": [
       "0     65684\n",
       "1      4876\n",
       "2      2570\n",
       "3      1504\n",
       "4       790\n",
       "5       469\n",
       "6       290\n",
       "7       194\n",
       "10      105\n",
       "8       103\n",
       "9        66\n",
       "11       44\n",
       "12        8\n",
       "14        5\n",
       "13        2\n",
       "15        1\n",
       "Name: number_replies, dtype: int64"
      ]
     },
     "execution_count": 91,
     "metadata": {},
     "output_type": "execute_result"
    }
   ],
   "source": [
    "df['number_replies'].value_counts()"
   ]
  },
  {
   "cell_type": "code",
   "execution_count": 92,
   "metadata": {
    "colab": {
     "base_uri": "https://localhost:8080/"
    },
    "id": "TSb2D9zafnFO",
    "outputId": "f967fe08-2ff0-41ed-d770-82617d82da06"
   },
   "outputs": [
    {
     "data": {
      "text/plain": [
       "0.0    10871\n",
       "1.0       84\n",
       "2.0       72\n",
       "Name: label, dtype: int64"
      ]
     },
     "execution_count": 92,
     "metadata": {},
     "output_type": "execute_result"
    }
   ],
   "source": [
    "df[df['number_replies'] >= 1]['label'].value_counts()"
   ]
  },
  {
   "cell_type": "code",
   "execution_count": 93,
   "metadata": {
    "id": "_O-JoO0Gg18D"
   },
   "outputs": [],
   "source": [
    "df['number_replies'] = df['number_replies'].apply(lambda x: 0 if x >= 1 else 1)"
   ]
  },
  {
   "cell_type": "code",
   "execution_count": 94,
   "metadata": {
    "id": "GaXFAhw2UbwM"
   },
   "outputs": [],
   "source": [
    "final_features_list.append('number_replies')"
   ]
  },
  {
   "cell_type": "markdown",
   "metadata": {
    "id": "fMwsPWxpi2cG"
   },
   "source": [
    "# **Feature: \"Extraction-based features\"**"
   ]
  },
  {
   "cell_type": "markdown",
   "metadata": {
    "id": "vzXdMCGnjFzY"
   },
   "source": [
    "The following were extracted as features:"
   ]
  },
  {
   "cell_type": "markdown",
   "metadata": {
    "id": "Vyj6o7vtnW2E"
   },
   "source": [
    "Time zone: The time zone listed in the date field.\n",
    "\n",
    "---\n",
    "\n",
    "X-Priority: The numeric value is used as a feature.\n",
    "\n",
    "---\n",
    "\n",
    "Lines: The numeric value is discretized into bins, and then used as a feature.\n",
    "\n",
    "---\n",
    "\n",
    "Content-Length: The numeric value is discretized into bins, and then used as a feature.\n",
    "\n",
    "---\n",
    "\n",
    "Lines: The numeric value is discretized into bins, and then used as a feature."
   ]
  },
  {
   "cell_type": "markdown",
   "metadata": {
    "id": "ZbS9abJjzywT"
   },
   "source": [
    "**Time Zone:**"
   ]
  },
  {
   "cell_type": "code",
   "execution_count": 95,
   "metadata": {
    "id": "yzNbPgPx_Uhr"
   },
   "outputs": [],
   "source": [
    "from dateutil.parser import parse\n",
    "from datetime import datetime, timedelta\n",
    "import email.utils"
   ]
  },
  {
   "cell_type": "code",
   "execution_count": 96,
   "metadata": {
    "id": "IPcBBrd9JBnJ"
   },
   "outputs": [],
   "source": [
    "def extract_time_zone(row):\n",
    "  time_zone = email.utils.parsedate_tz(row['date'])\n",
    "  if time_zone is None:\n",
    "    return 'NA'\n",
    "  else:\n",
    "    return int(time_zone[9] / (60*60)) % 24"
   ]
  },
  {
   "cell_type": "code",
   "execution_count": 97,
   "metadata": {
    "id": "bc2fu6hXC4EL"
   },
   "outputs": [],
   "source": [
    "df['time_zone'] = df.apply(extract_time_zone, axis=1)"
   ]
  },
  {
   "cell_type": "code",
   "execution_count": 98,
   "metadata": {
    "id": "JBJo5qz7yF8G"
   },
   "outputs": [],
   "source": [
    "df.loc[df['time_zone'].astype(str).str.contains('NA'), 'time_zone'] = df['time_zone'].value_counts().index[0]"
   ]
  },
  {
   "cell_type": "code",
   "execution_count": 99,
   "metadata": {
    "colab": {
     "base_uri": "https://localhost:8080/"
    },
    "id": "gnbvuj95w_wK",
    "outputId": "d110367e-1104-43f6-9a5f-de6062e5475d"
   },
   "outputs": [
    {
     "name": "stdout",
     "output_type": "stream",
     "text": [
      "0\n"
     ]
    }
   ],
   "source": [
    "# Test\n",
    "d1 = email.utils.parsedate_tz('Mon, 9 Apr 2007 14:31:03 02300')\n",
    "d2 = email.utils.parsedate_tz('Mon, 8 Apr 2007 14:31:03 -0100')\n",
    "\n",
    "print((email.utils.mktime_tz(d2)) - (email.utils.mktime_tz(d1)))"
   ]
  },
  {
   "cell_type": "code",
   "execution_count": 100,
   "metadata": {
    "colab": {
     "base_uri": "https://localhost:8080/"
    },
    "id": "bkj7Yls7J4ml",
    "outputId": "30c02a13-3130-422e-9cfb-dc50eb008714"
   },
   "outputs": [
    {
     "data": {
      "text/plain": [
       "20    15254\n",
       "19     8496\n",
       "2      7461\n",
       "0      6982\n",
       "17     5999\n",
       "1      5313\n",
       "3      4183\n",
       "23     4177\n",
       "8      2693\n",
       "5      2313\n",
       "16     2157\n",
       "21     2124\n",
       "22     1837\n",
       "4      1469\n",
       "18     1412\n",
       "10     1074\n",
       "9      1043\n",
       "15      848\n",
       "6       775\n",
       "7       714\n",
       "12      178\n",
       "14      119\n",
       "11       48\n",
       "13       42\n",
       "Name: time_zone, dtype: int64"
      ]
     },
     "execution_count": 100,
     "metadata": {},
     "output_type": "execute_result"
    }
   ],
   "source": [
    "df['time_zone'].value_counts()"
   ]
  },
  {
   "cell_type": "code",
   "execution_count": 101,
   "metadata": {
    "id": "qLRyH3f2oY2A"
   },
   "outputs": [],
   "source": [
    "df.loc[df['time_zone'] != 20, 'time_zone'] = 0\n",
    "df.loc[df['time_zone'] == 20, 'time_zone'] = 1"
   ]
  },
  {
   "cell_type": "code",
   "execution_count": 102,
   "metadata": {
    "id": "VFDyNF9YzRwk"
   },
   "outputs": [],
   "source": [
    "final_features_list.append('time_zone')"
   ]
  },
  {
   "cell_type": "markdown",
   "metadata": {
    "id": "8kQW_jCd1Bah"
   },
   "source": [
    "**X-Priority:**"
   ]
  },
  {
   "cell_type": "code",
   "execution_count": 103,
   "metadata": {
    "id": "NQhDKObt1EtN"
   },
   "outputs": [],
   "source": [
    "df['x-priority'] = df['x-priority'].astype(str).str.extract('(\\\\d+)')\n",
    "df['x-priority'] = pd.to_numeric(df['x-priority'], errors='coerce')\n",
    "df['x-priority'] = df['x-priority'].fillna(0)"
   ]
  },
  {
   "cell_type": "code",
   "execution_count": 104,
   "metadata": {
    "colab": {
     "base_uri": "https://localhost:8080/"
    },
    "id": "BO2C7Vut1I2v",
    "outputId": "4686ec00-9d2d-4ab1-fa82-3e61ba3b3774"
   },
   "outputs": [
    {
     "data": {
      "text/plain": [
       "count    27325.000000\n",
       "mean         2.935005\n",
       "std          0.339457\n",
       "min          1.000000\n",
       "25%          3.000000\n",
       "50%          3.000000\n",
       "75%          3.000000\n",
       "max          5.000000\n",
       "Name: x-priority, dtype: float64"
      ]
     },
     "execution_count": 104,
     "metadata": {},
     "output_type": "execute_result"
    }
   ],
   "source": [
    "df[df['x-priority'] > 0]['x-priority'].describe()"
   ]
  },
  {
   "cell_type": "code",
   "execution_count": 105,
   "metadata": {
    "colab": {
     "base_uri": "https://localhost:8080/"
    },
    "id": "meYLNyKi1PaB",
    "outputId": "e465bd55-433d-46fc-ebda-938227af0737"
   },
   "outputs": [
    {
     "data": {
      "text/plain": [
       "0.0    49386\n",
       "3.0    26257\n",
       "1.0      730\n",
       "2.0      328\n",
       "4.0        8\n",
       "5.0        2\n",
       "Name: x-priority, dtype: int64"
      ]
     },
     "execution_count": 105,
     "metadata": {},
     "output_type": "execute_result"
    }
   ],
   "source": [
    "df['x-priority'].value_counts()"
   ]
  },
  {
   "cell_type": "code",
   "execution_count": 106,
   "metadata": {
    "id": "SkglBb1l1ZJO"
   },
   "outputs": [],
   "source": [
    "df['x-priority'] = df['x-priority'].apply(lambda x: 0 if x != 3 else 1)"
   ]
  },
  {
   "cell_type": "code",
   "execution_count": 107,
   "metadata": {
    "id": "VGbGzmWK1CJJ"
   },
   "outputs": [],
   "source": [
    "final_features_list.append('x-priority')"
   ]
  },
  {
   "cell_type": "markdown",
   "metadata": {
    "id": "imJ9KNIXrZnv"
   },
   "source": [
    "**Content-Length:**"
   ]
  },
  {
   "cell_type": "code",
   "execution_count": 108,
   "metadata": {
    "id": "diA7XZbGyps3"
   },
   "outputs": [],
   "source": [
    "df['content-length'] = df['content-length'].astype(str).str.extract('(\\\\d+)')\n",
    "df['content-length'] = pd.to_numeric(df['content-length'], errors='coerce')\n",
    "df['content-length'] = df['content-length'].fillna(0)"
   ]
  },
  {
   "cell_type": "code",
   "execution_count": 109,
   "metadata": {
    "colab": {
     "base_uri": "https://localhost:8080/"
    },
    "id": "5_Af7o65xv4n",
    "outputId": "c2e39911-e23e-4c95-c0cb-7e38b4b820b7"
   },
   "outputs": [
    {
     "data": {
      "text/plain": [
       "count     26134.000000\n",
       "mean       6583.312543\n",
       "std       12716.185653\n",
       "min           2.000000\n",
       "25%        1274.000000\n",
       "50%        2349.500000\n",
       "75%        5798.000000\n",
       "max      546257.000000\n",
       "Name: content-length, dtype: float64"
      ]
     },
     "execution_count": 109,
     "metadata": {},
     "output_type": "execute_result"
    }
   ],
   "source": [
    "df[df['content-length'] > 0]['content-length'].describe()"
   ]
  },
  {
   "cell_type": "code",
   "execution_count": 110,
   "metadata": {
    "id": "t7Fm-91neAEN"
   },
   "outputs": [],
   "source": [
    "df['content-length'] = df['content-length'].apply(lambda x: 0 if x < 1 else 1 if x < 1274 else 2 if x < 2348 else 3 if x < 5798 else 4)"
   ]
  },
  {
   "cell_type": "code",
   "execution_count": 111,
   "metadata": {
    "id": "WUMpH6lr33RJ"
   },
   "outputs": [],
   "source": [
    "final_features_list.append('content-length')"
   ]
  },
  {
   "cell_type": "markdown",
   "metadata": {
    "id": "67YCpjM18_EF"
   },
   "source": [
    "**Lines:**"
   ]
  },
  {
   "cell_type": "code",
   "execution_count": 112,
   "metadata": {
    "id": "R4xLtSY-9BLI"
   },
   "outputs": [],
   "source": [
    "df['lines'] = df['lines'].astype(str).str.extract('(\\\\d+)')\n",
    "df['lines'] = pd.to_numeric(df['lines'], errors='coerce')"
   ]
  },
  {
   "cell_type": "code",
   "execution_count": 113,
   "metadata": {
    "colab": {
     "base_uri": "https://localhost:8080/"
    },
    "id": "iZB8kfp39Iet",
    "outputId": "e58d8a05-f9ce-4b94-b64b-6fbd4c8efd6c"
   },
   "outputs": [
    {
     "data": {
      "text/plain": [
       "count    26800.000000\n",
       "mean       116.558060\n",
       "std        185.805946\n",
       "min          0.000000\n",
       "25%         32.000000\n",
       "50%         56.000000\n",
       "75%        124.000000\n",
       "max       7127.000000\n",
       "Name: lines, dtype: float64"
      ]
     },
     "execution_count": 113,
     "metadata": {},
     "output_type": "execute_result"
    }
   ],
   "source": [
    "df['lines'].describe()"
   ]
  },
  {
   "cell_type": "code",
   "execution_count": 114,
   "metadata": {
    "id": "OzTylIrt93Ey"
   },
   "outputs": [],
   "source": [
    "df['lines'] = df['lines'].fillna(0)"
   ]
  },
  {
   "cell_type": "code",
   "execution_count": 115,
   "metadata": {
    "id": "Ja_BihWz9Jb_"
   },
   "outputs": [],
   "source": [
    "df['lines'] = df['lines'].apply(lambda x: 0 if x == 0 else 1 if x <= 30 else 2 if x <= 54 else 3 if x <= 119 else 4)"
   ]
  },
  {
   "cell_type": "code",
   "execution_count": 116,
   "metadata": {
    "colab": {
     "base_uri": "https://localhost:8080/"
    },
    "id": "kgkLCSa_-GAt",
    "outputId": "ad95e4e9-694f-4761-cc8c-4d89383a4ad1"
   },
   "outputs": [
    {
     "data": {
      "text/plain": [
       "0    49935\n",
       "3     6871\n",
       "4     6860\n",
       "2     6703\n",
       "1     6342\n",
       "Name: lines, dtype: int64"
      ]
     },
     "execution_count": 116,
     "metadata": {},
     "output_type": "execute_result"
    }
   ],
   "source": [
    "df['lines'].value_counts()"
   ]
  },
  {
   "cell_type": "code",
   "execution_count": 117,
   "metadata": {
    "id": "_oF1KdSj9Ldg"
   },
   "outputs": [],
   "source": [
    "final_features_list.append('lines')"
   ]
  },
  {
   "cell_type": "markdown",
   "metadata": {
    "id": "NgJlQuIx2tUC"
   },
   "source": [
    "**Day of the Week:**"
   ]
  },
  {
   "cell_type": "code",
   "execution_count": 118,
   "metadata": {
    "id": "YJoJ29-l3c1s"
   },
   "outputs": [],
   "source": [
    "df['last_received_date'] = df['last_received'].str.replace('\\n\\t', ';').str.split(r';').str[-1]\n",
    "df['first_received_date'] = df['first_received'].str.replace('\\n\\t', ';').str.split(r';').str[-1]"
   ]
  },
  {
   "cell_type": "code",
   "execution_count": 119,
   "metadata": {
    "id": "SE2ICOco2zBY"
   },
   "outputs": [],
   "source": [
    "def get_day_week(row):\n",
    "  date_val = row['date']\n",
    "  \n",
    "  d1 = email.utils.parsedate_tz(date_val)\n",
    "\n",
    "  if d1 is None:\n",
    "    return 'NA'\n",
    "\n",
    "  try:\n",
    "    val1 = email.utils.mktime_tz(d1)\n",
    "    day = datetime.fromtimestamp(val1).strftime(\"%A\")\n",
    "  except:\n",
    "    return 'NA'\n",
    "\n",
    "  return day"
   ]
  },
  {
   "cell_type": "code",
   "execution_count": 120,
   "metadata": {
    "id": "9jY5N4yM2-co"
   },
   "outputs": [],
   "source": [
    "df['day_of_week'] = df.apply(get_day_week, axis=1)"
   ]
  },
  {
   "cell_type": "code",
   "execution_count": 121,
   "metadata": {
    "colab": {
     "base_uri": "https://localhost:8080/"
    },
    "id": "TTO4a0sw7_1R",
    "outputId": "be330296-b4cf-4934-cd5d-18fada9d7202"
   },
   "outputs": [
    {
     "data": {
      "text/plain": [
       "Friday       13306\n",
       "Wednesday    11910\n",
       "Thursday     11817\n",
       "Tuesday      11726\n",
       "Monday       11228\n",
       "Saturday      8004\n",
       "Sunday        7957\n",
       "NA             763\n",
       "Name: day_of_week, dtype: int64"
      ]
     },
     "execution_count": 121,
     "metadata": {},
     "output_type": "execute_result"
    }
   ],
   "source": [
    "df['day_of_week'].value_counts()"
   ]
  },
  {
   "cell_type": "code",
   "execution_count": 122,
   "metadata": {
    "id": "m0pl-il297C8"
   },
   "outputs": [],
   "source": [
    "df['day_of_week'] = df['day_of_week'].apply(lambda x: ['NA', 'Monday', 'Tuesday', 'Wednesday', 'Thursday', 'Friday', 'Saturday', 'Sunday'].index(x))"
   ]
  },
  {
   "cell_type": "code",
   "execution_count": 123,
   "metadata": {
    "id": "YZU2yySS-UN7"
   },
   "outputs": [],
   "source": [
    "final_features_list.append('day_of_week')"
   ]
  },
  {
   "cell_type": "markdown",
   "metadata": {
    "id": "-_nEjwFOjUDI"
   },
   "source": [
    "# **Feature: \"Comparison-based features\"**\n"
   ]
  },
  {
   "cell_type": "markdown",
   "metadata": {
    "id": "G3PYX_dqoPzL"
   },
   "source": [
    "Fields that contain only a single email: return-path, from (check inside <>), sender, reply-to (check inside <>, otherwise same as null), errors-to."
   ]
  },
  {
   "cell_type": "markdown",
   "metadata": {
    "id": "UdJ0wG1GgPf2"
   },
   "source": [
    "Refers to features that are derived by comparing other features. The following features are extracted:"
   ]
  },
  {
   "cell_type": "markdown",
   "metadata": {
    "id": "cymUdwUsgtJu"
   },
   "source": [
    "**Span time**: Time difference between the first and last received fields. (Discretizied)\n",
    "\n",
    "---\n",
    "\n",
    "**Date and time conflict** (Consequtive received fields): Checks if consecutive received fields have a time difference of zero or greater. Output values = 0,1\n",
    "\n",
    "---\n",
    "\n",
    "**Date Validity** (Received): Checks the difference in time between the first Received fields date, and the date field, checks if zero or positive. Output values = 0,1\n",
    "\n",
    "---\n",
    "\n",
    "\n",
    "\n",
    "Domain matching between (if more than one domain per field, just check if any of them match): \n",
    "\n",
    "\n",
    "*   Message-ID + From\n",
    "*   Message-ID + Return-Path\n",
    "*   Message-ID + Sender\n",
    "*   Message-ID + first Received\n",
    "*   Return-Path + From\n",
    "*   Return-Path + Reply-To\n",
    "*   Reply-To + To\n",
    "*   Error-To + Message-ID\n",
    "*   Error-To + From\n",
    "*   Error-To + Sender\n",
    "*   Sender + From\n",
    "*   Reference + Reply-To\n",
    "*   Reference + InReply-To\n",
    "*   To + last Received\n",
    "*   InReply-To + To\n",
    "*   Reference + To\n",
    "*   Sender + first Received ('from' part of the first Received)\n",
    "*   Return-Path + first Recieved ('from' part of the first Received)\n",
    "*   Reply-To + last Received ('for' part of the last Received)\n",
    "*   InReply-To + last Received ('for' part of the last Received)\n",
    "\n",
    "---\n",
    "\n",
    "Email address matching between (if more than one email per field, just check if any of them match):\n",
    "\n",
    "*   To + Cc\n",
    "*   Cc\n",
    "\n",
    "---\n",
    "\n",
    "Date and time checks: \n",
    "\n",
    "*   Date and last Received field (check if difference is greater than or equal to zero, or not. Also can check for a large gap in time, greater than some value.)\n",
    "*   Span time: The time difference between the first and last received fields. This gets converted to 0 if the last received time is later than the first, 1 otherwise (also 1 if there is trouble reading the value).\n",
    "\n",
    "---\n",
    "\n",
    "Receieved Consequentive Checks:\n",
    "\n",
    "*   Consequentive Received fields: checks if consequentive received fields have a matching domain for the 'by' of the eariler received field and the 'from' part of the later one. Value is 1 if there is an issue, otherwise 0 if all match.\n"
   ]
  },
  {
   "cell_type": "markdown",
   "metadata": {
    "id": "ytz6_ICMAX5K"
   },
   "source": [
    "---\n",
    "\n",
    "**Date Validity: Comparing the 'Date' field and last received's \"date\" value:**\n",
    "\n",
    "---\n"
   ]
  },
  {
   "cell_type": "code",
   "execution_count": 124,
   "metadata": {
    "id": "Yr2q8idNEAsh"
   },
   "outputs": [],
   "source": [
    "import time\n",
    "\n",
    "def date_received_date_comp(row):\n",
    "  date_date = row['date']\n",
    "  date_received = row['last_received_date']\n",
    "\n",
    "  d1 = email.utils.parsedate_tz(date_date)\n",
    "  d2 = email.utils.parsedate_tz(date_received)\n",
    "\n",
    "  if d1 is None or d2 is None:\n",
    "    return -1\n",
    "\n",
    "  try:\n",
    "    val1 = email.utils.mktime_tz(d1)\n",
    "    val2 = email.utils.mktime_tz(d2)\n",
    "  except:\n",
    "    return -1\n",
    "\n",
    "  return (email.utils.mktime_tz(d2)) - (email.utils.mktime_tz(d1))"
   ]
  },
  {
   "cell_type": "code",
   "execution_count": 125,
   "metadata": {
    "id": "MfqDatueDo8Y"
   },
   "outputs": [],
   "source": [
    "df['date_comp_date_received'] = df.apply(date_received_date_comp, axis=1)"
   ]
  },
  {
   "cell_type": "code",
   "execution_count": 126,
   "metadata": {
    "colab": {
     "base_uri": "https://localhost:8080/"
    },
    "id": "YUq0-UgVEX76",
    "outputId": "19c40f83-0470-4900-855f-bb52ad0f464c"
   },
   "outputs": [
    {
     "data": {
      "text/plain": [
       "count    5.152700e+04\n",
       "mean     3.180944e+06\n",
       "std      3.210750e+07\n",
       "min      1.000000e+00\n",
       "25%      2.600000e+01\n",
       "50%      1.240000e+02\n",
       "75%      3.506000e+03\n",
       "max      3.376570e+09\n",
       "Name: date_comp_date_received, dtype: float64"
      ]
     },
     "execution_count": 126,
     "metadata": {},
     "output_type": "execute_result"
    }
   ],
   "source": [
    "df[df['date_comp_date_received'] > 0]['date_comp_date_received'].describe()"
   ]
  },
  {
   "cell_type": "code",
   "execution_count": 127,
   "metadata": {
    "id": "UREUxDepEigi"
   },
   "outputs": [],
   "source": [
    "df['date_comp_date_received'] = df['date_comp_date_received'].apply(lambda x: 0 if x < 0 else 1)"
   ]
  },
  {
   "cell_type": "code",
   "execution_count": 128,
   "metadata": {
    "colab": {
     "base_uri": "https://localhost:8080/"
    },
    "id": "qKTweJ85Exj5",
    "outputId": "2705e2f2-af4b-4d86-a142-2c7588241b80"
   },
   "outputs": [
    {
     "data": {
      "text/plain": [
       "1    52700\n",
       "0    24011\n",
       "Name: date_comp_date_received, dtype: int64"
      ]
     },
     "execution_count": 128,
     "metadata": {},
     "output_type": "execute_result"
    }
   ],
   "source": [
    "df['date_comp_date_received'].value_counts()"
   ]
  },
  {
   "cell_type": "code",
   "execution_count": 129,
   "metadata": {
    "id": "MNox7xZHE10B"
   },
   "outputs": [],
   "source": [
    "final_features_list.append('date_comp_date_received')"
   ]
  },
  {
   "cell_type": "markdown",
   "metadata": {
    "id": "sZ_g6tSCd_dP"
   },
   "source": [
    "---\n",
    "\n",
    "**Span time:**\n",
    "\n",
    "---"
   ]
  },
  {
   "cell_type": "code",
   "execution_count": 130,
   "metadata": {
    "colab": {
     "base_uri": "https://localhost:8080/"
    },
    "id": "ppajQ3aLyl9Y",
    "outputId": "44a838d2-01b3-4134-a3c6-81d65cc028a8"
   },
   "outputs": [
    {
     "name": "stdout",
     "output_type": "stream",
     "text": [
      "0.18138888888888888\n",
      "653\n"
     ]
    }
   ],
   "source": [
    "test1 = email.utils.parsedate_tz('Mon, 12 Jul 2021 19:28:19 +0000')\n",
    "test2 = email.utils.parsedate_tz('Mon, 12 Jul 2021 19:39:12 +0000')\n",
    "\n",
    "print(((email.utils.mktime_tz(test2)) - (email.utils.mktime_tz(test1))) / (60*60))\n",
    "print(((email.utils.mktime_tz(test2)) - (email.utils.mktime_tz(test1))) )"
   ]
  },
  {
   "cell_type": "code",
   "execution_count": 131,
   "metadata": {
    "id": "ImJHKy7zUUQ-"
   },
   "outputs": [],
   "source": [
    "def span_time_finder(row):\n",
    "  first = row['first_received_date']\n",
    "  last = row['last_received_date']\n",
    "\n",
    "  d1 = email.utils.parsedate_tz(first)\n",
    "  d2 = email.utils.parsedate_tz(last)\n",
    "\n",
    "  if d1 is None or d2 is None:\n",
    "    return -1\n",
    "\n",
    "  try:\n",
    "    val1 = email.utils.mktime_tz(d1)\n",
    "    val2 = email.utils.mktime_tz(d2)\n",
    "  except:\n",
    "    return -1\n",
    "\n",
    "  return (email.utils.mktime_tz(d2)) - (email.utils.mktime_tz(d1))"
   ]
  },
  {
   "cell_type": "code",
   "execution_count": 132,
   "metadata": {
    "id": "13qZk6DPLmDo"
   },
   "outputs": [],
   "source": [
    "df['span_time'] = df.apply(span_time_finder, axis=1)"
   ]
  },
  {
   "cell_type": "code",
   "execution_count": 133,
   "metadata": {
    "colab": {
     "base_uri": "https://localhost:8080/"
    },
    "id": "f82ckBrvr0Qw",
    "outputId": "08565bbe-e1b3-48cf-c77b-5478ae5be986"
   },
   "outputs": [
    {
     "data": {
      "text/plain": [
       "count    4.946800e+04\n",
       "mean     1.842296e+06\n",
       "std      2.576223e+07\n",
       "min      1.000000e+00\n",
       "25%      1.000000e+01\n",
       "50%      4.700000e+01\n",
       "75%      1.100000e+03\n",
       "max      3.376570e+09\n",
       "Name: span_time, dtype: float64"
      ]
     },
     "execution_count": 133,
     "metadata": {},
     "output_type": "execute_result"
    }
   ],
   "source": [
    "df[df['span_time'] > 0]['span_time'].describe()"
   ]
  },
  {
   "cell_type": "code",
   "execution_count": 134,
   "metadata": {
    "id": "s9T2ZMrJaGI7"
   },
   "outputs": [],
   "source": [
    "df['span_time'] = df['span_time'].apply(lambda x: 0 if x < 0 else 1 if x < 10 else 2 if x < 47 else 3 if x < 1100 else 4)"
   ]
  },
  {
   "cell_type": "code",
   "execution_count": 135,
   "metadata": {
    "colab": {
     "base_uri": "https://localhost:8080/"
    },
    "id": "3uyRK5LhlERA",
    "outputId": "2c853308-c6c2-4d19-8572-352fe88b0011"
   },
   "outputs": [
    {
     "data": {
      "text/plain": [
       "1    21702\n",
       "0    17513\n",
       "2    12702\n",
       "3    12422\n",
       "4    12372\n",
       "Name: span_time, dtype: int64"
      ]
     },
     "execution_count": 135,
     "metadata": {},
     "output_type": "execute_result"
    }
   ],
   "source": [
    "df['span_time'].value_counts()"
   ]
  },
  {
   "cell_type": "code",
   "execution_count": 136,
   "metadata": {
    "id": "vpw_-IyOVlQS"
   },
   "outputs": [],
   "source": [
    "final_features_list.append('span_time')"
   ]
  },
  {
   "cell_type": "markdown",
   "metadata": {
    "id": "S2ycfYn7vFxY"
   },
   "source": [
    "---\n",
    "\n",
    "**Consecutive Received Field 'by' and 'from' matching:**\n",
    "\n",
    "---"
   ]
  },
  {
   "cell_type": "code",
   "execution_count": 137,
   "metadata": {
    "id": "KnsYrKhTbUXG"
   },
   "outputs": [],
   "source": [
    "# Source: https://github.com/Te-k/pyreceived/blob/master/pyreceived/parser.py\n",
    "\n",
    "import re\n",
    "class ReceivedParser(object):\n",
    "    regexes = [\n",
    "        (\"from\\s+(mail\\s+pickup\\s+service|(?P<from_name>[\\[\\]\\w\\.\\-]*))\\s*(\\(\\s*\\[?(?P<from_ip>[a-f\\d\\.\\:]+)(\\%\\d+|)\\]?\\s*\\)|)\\s*by\\s*(?P<by_hostname>[\\w\\.\\-]+)\\s*(\\(\\s*\\[?(?P<by_ip>[\\d\\.\\:a-f]+)(\\%\\d+|)\\]?\\)|)\\s*(over\\s+TLS\\s+secured\\s+channel|)\\s*with\\s*(mapi|Microsoft\\s+SMTP\\s+Server|Microsoft\\s+SMTPSVC(\\((?P<server_version>[\\d\\.]+)\\)|))\\s*(\\((TLS|version=(?P<tls>[\\w\\.]+)|)\\,?\\s*(cipher=(?P<cipher>[\\w\\_]+)|)\\)|)\\s*(id\\s+(?P<id>[\\d\\.]+)|)\", \"MS SMTP Server\"), #exchange\n",
    "        (\"(from\\s+(?P<from_name>[\\[\\S\\]]+)\\s+\\(((?P<from_hostname>[\\S]*)|)\\s*\\[(IPv6\\:(?P<from_ipv6>[a-f\\d\\:]+)\\:|)((?P<from_ip>[\\d\\.\\:]+)|)\\]\\s*(\\(may\\s+be\\s+forged\\)|)\\)\\s*(\\(using\\s+(?P<tls>[\\w\\.]+)\\s+with\\s+cipher\\s+(?P<cipher>[\\w\\-]+)\\s+\\([\\w\\/\\s]+\\)\\)\\s+(\\(No\\s+client\\s+certificate\\s+requested\\)|)|)|)\\s*(\\(Authenticated\\s+sender\\:\\s+(?P<authenticated_sender>[\\w\\.\\-\\@]+)\\)|)\\s*by\\s+(?P<by_hostname>[\\S]+)\\s*(\\((?P<by_hostname2>[\\S]*)\\s*\\[((?P<by_ipv6>[a-f\\:\\d]+)|)(?P<by_ip>[\\d\\.]+)\\]\\)|)\\s*(\\([^\\)]*\\)|)\\s*(\\(Postfix\\)|)\\s*(with\\s+(?P<protocol>\\w*)|)\\s*id\\s+(?P<id>[\\w\\-]+)\\s*(for\\s+\\<(?P<envelope_for>[\\w\\.\\@]+)\\>|)\", \"postfix\"), #postfix\n",
    "        (\"(from\\s+(?P<from_name>[\\[\\S\\]]+)\\s+\\(((?P<from_hostname>[\\S]*)|)\\s*\\[(IPv6\\:(?P<from_ipv6>[a-f\\d\\:]+)|)\\]\\)\\s*(\\(using\\s+(?P<tls>[\\w\\.]+)\\s+with\\s+cipher\\s+(?P<cipher>[\\w\\-]+)\\s+\\([\\w\\/\\s]+\\)\\)\\s+(\\(No\\s+client\\s+certificate\\s+requested\\)|)|)|)\\s*(\\(Authenticated\\s+sender\\:\\s+(?P<authenticated_sender>[\\w\\.\\-\\@]+)\\)|)\\s*by\\s+(?P<by_hostname>[\\S]+)\\s*(\\((?P<by_hostname2>[\\S]*)\\s*\\[((?P<by_ipv6>[a-f\\:\\d]+)|)(?P<by_ip>[\\d\\.]+)\\]\\)|)\\s*(\\([^\\)]*\\)|)\\s*(\\(Postfix\\)|)\\s*(with\\s+(?P<protocol>\\w+)|)\\s*id\\s+(?P<id>[\\w\\-]+)\\s*(for\\s+\\<(?P<envelope_for>[\\w\\.\\@]+)\\>|)\", \"postfix\"),#POSTFIX\n",
    "        (\"\\s*from\\s+\\[?(?P<from_ip>[\\d\\.\\:]+)\\]?\\s*(\\((port=\\d+|)\\s*helo=(?P<from_name>[\\[\\]\\w\\.\\:\\-]+)\\)|)\\s+by\\s+(?P<by_hostname>[\\w\\-\\.]+)\\s+with\\s+(?P<protocol>\\w+)\\s*(\\((?P<cipher>[\\w\\.\\:\\_\\-]+)\\)|)\\s*(\\(Exim\\s+(?P<exim_version>[\\d\\.\\_]+)\\)|)\\s*\\(envelope-from\\s+<?(?P<envelope_from>[\\w\\@\\-\\.]*)>?\\s*\\)\\s*id\\s+(?P<id>[\\w\\-]+)\\s*\\s*(for\\s+<?(?P<envelope_for>[\\w\\.\\@]+)>?|)\", \"exim\"), #exim\n",
    "        (\"\\s*from\\s+(?P<from_hostname>[\\w\\.]+)\\s+\\(\\[?(?P<from_ip>[\\d\\.\\:a-f]+)\\]?(\\:\\d+|)\\s*(helo\\=\\[?(?P<from_name>[\\w\\.\\:\\-]+)|)\\]?\\)\\s+by\\s+(?P<by_hostname>[\\w\\-\\.]+)\\s+with\\s+(?P<protocol>\\w+)\\s+(\\((?P<cipher>[\\w\\.\\:\\_]+)\\)|)\\s*\\(Exim\\s+(?P<exim_version>[\\d\\.\\_]+)\\)\\s*\\(envelope-from\\s+\\<(?P<envelope_from>[\\w\\@\\-\\.]+)\\>\\s*\\)\\s*id\\s+(?P<id>[\\w\\-]+)\\s*(for\\s+(?P<envelope_for>[\\w\\.\\@]+)|)\", \"exim\"),# exim\n",
    "        (\"from\\s+(?P<from_name>[\\w\\.\\-]+)\\s+by\\s+(?P<by_hostname>[\\w\\.\\-]+)\\s+with\\s+(?P<protocol>\\w+)\\s+\\(Exim\\s+(?P<version>[\\d\\.]+)\\)\\s+\\(envelope-from\\s+<*(?P<envelope_from>[\\w\\.\\-\\@]+)>*\\)\\s+id\\s+(?P<id>[\\w\\.\\-]+)\\s+for\\s+<?(?P<envelope_for>[\\w\\.\\-\\@]+)>?\", \"exim\"), #exim\n",
    "        (\"from\\s+(?P<from_name>[\\[\\]\\w\\-\\.]+)\\s+\\(((?P<from_hostname>[\\w\\.\\-]+)|)\\s*\\[(?P<from_ip>[\\da-f\\.\\:]+)\\]\\)\\s+by\\s+(?P<by_hostname>[\\w\\.\\-]+)\\s+\\(Oracle\\s+Communications\\s+Messaging\\s+Server\\s+(?P<oracle_version>[\\w\\.\\-]+)(\\([\\d\\.]+\\)|)\\s+(32bit|64bit|)\\s*(\\([^\\)]+\\)|)\\)\\s*with\\s+(?P<protocol>\\w+)\\s+id\\s+\\<?(?P<id>[\\w\\@\\.\\-]+)\\>?\", \"Oracle Communication Messaging Server\"), #Oracle\n",
    "        (\"from\\s+(?P<from_hostname>[\\w\\-\\.]+)\\s+\\(\\[(?P<from_ip>[\\d\\.\\:a-f]+)\\]\\s+helo=(?P<from_name>[\\w\\.\\-]+)\\)\\s+by\\s+(?P<by_hostname>[\\w\\.\\-]+)\\s+with\\s+(?P<protocol>\\w+)\\s+\\(ASSP\\s+(?P<assp_version>[\\d\\.]+)\\s*\\)\", \"ASSP\"), #ASSP\n",
    "        (\"from\\s+(?P<from_hostname>[\\[\\]\\d\\w\\.\\-]+)\\s+\\(\\[\\[?(?P<from_ip>[\\d\\.]+)(\\:\\d+|)\\]\\s*(helo=(?P<from_name>[\\w\\.\\-]+)|)\\s*\\)\\s+by\\s+(?P<by_hostname>[\\w\\.\\-]+)\\s+\\(envelope-from\\s+\\<?(?P<envelope_from>[^>]+)\\>?\\)\\s+\\(ecelerity\\s+(?P<version>[\\d\\.]+)\\s+r\\([\\w\\-\\:\\.]+\\)\\)\\s+with\\s+(?P<protocol>\\w+)\\s*(\\(cipher=(?P<cipher>[\\w\\-\\_]+)\\)|)\\s*id\\s+(?P<id>[\\.\\-\\w\\/]+)\", \"ecelerity\"), #ecelerity\n",
    "        (\"from\\s+(?P<from_name>[\\[\\]\\w\\.\\-]+)\\s+\\(((?P<from_hostname>[\\w\\.\\-]+)|)\\s*(\\[(?P<from_ip>[\\d\\.\\:a-f]+)\\]|)\\)\\s*by\\s+(?P<by_hostname>[\\w\\.\\-]+)\\s+(\\([\\w\\.\\-\\=]+\\)|)\\s+with\\s+(?P<protocol>\\w+)\\s+\\(Nemesis\\)\\s+id\\s+(?P<id>[\\w\\.\\-]+)\\s*(for\\s+\\<?(?P<envelope_for>[\\w\\.\\@\\-]+)\\>?|)\", \"nemesis\"), #nemesis\n",
    "        (\"\\(qmail\\s+\\d+\\s+invoked\\s+(from\\s+network|)(by\\s+uid\\s+\\d+|)\\)\", \"qmail\"), #WTF qmail\n",
    "        (\"from\\s+\\[?(?P<from_ip>[\\d\\.a-f\\:]+)\\]?\\s+\\(account\\s+<?(?P<envelope_from>[\\w\\.\\@\\-]+)>?\\s+HELO\\s+(?P<from_name>[\\w\\.\\-]+)\\)\\s+by\\s+(?P<by_hostname>[\\w\\.\\-]*)\\s+\\(CommuniGate\\s+Pro\\s+SMTP\\s+(?P<version>[\\d\\.]+)\\)\\s+with\\s+(?P<protocol>\\w+)\\s+id\\s+(?P<id>[\\w\\-\\.]+)\\s+for\\s+<?(?P<envelope_for>[\\w\\.\\-\\@]+)>?\", \"CommuniGate\"), #CommuniGate\n",
    "        (\"from\\s+(?P<from_ip>[\\d\\.\\:a-f]+)\\s+\\(SquirrelMail\\s+authenticated\\s+user\\s+(?P<envelope_from>[\\w\\@\\.\\-]+)\\)\\s+by\\s+(?P<by_hostname>[\\w\\.\\-]+)\\s+with\\s+(?P<protocol>\\w+)\", \"SquirrelMail\"),\n",
    "        (\"by\\s+(?P<by_hostname>[\\w\\.\\-]+)\\s+\\((?P<protocol>\\w+)\\s+sendmail\\s*(emulation|)\\)\", \"sendmail\"), #sendmail\n",
    "        (\"from\\s+(?P<from_name>[\\[\\]\\w\\.\\-]+)\\s+\\(\\[(?P<from_hostname>[\\w\\.\\-]+)\\]\\s+\\[(?P<from_ip>[\\d\\.a-f\\:]+)\\]\\)\\s+by\\s+(?P<by_hostname>[\\w\\.\\-]+)\\s+\\(Sun\\s+Java\\(tm\\)\\s+System\\s+Messaging\\s+Server\\s+(?P<version>[\\w\\.\\-]+)\\s+\\d+bit\\s+\\(built\\s+\\w+\\s+\\d+\\s+\\d+\\)\\)\\s+with\\s+(?P<protocol>\\w+)\\s+id\\s+<?(?P<id>[\\w\\.\\-\\@]+)>?\", \"Sun Java System Messaging Server\"), # Sun Java System Messaging Server\n",
    "        (\"from\\s+(?P<from_name>[\\w\\.\\-\\[\\]]+)\\s+\\((?P<from_ip>[\\d\\.a-f\\:]+)\\)\\s+by\\s+(?P<by_hostname>[\\w\\.\\-]+)\\s+\\(Axigen\\)\\s+with\\s+(?P<protocol>\\w+)\\s+id\\s+(?P<id>[\\w\\.\\-]+)\", \"Axigen\"), #axigen\n",
    "        (\"from\\s+(?P<from_name>[\\w\\.\\-]+)\\s+\\((?P<from_hostname>[\\w\\.\\-]+)\\s+\\[(?P<from_ip>[\\d\\.a-f\\:]+)\\]\\)\\s+by\\s+(?P<by_hostname>[\\w\\.\\-]+)\\s+\\(Horde\\s+MIME\\s+library\\)\\s+with\\s+(?P<protocol>\\w+)\", \"Horde MIME library\"), #Horde\n",
    "        (\"from\\s+(?P<from_name>[\\w\\.\\-\\[\\]]+)\\s+by\\s+(?P<by_hostname>[\\w\\.\\-]+)\\s+\\(PGP\\s+Universal\\s+Service\\)\", \"PGP Universal Service\", \"local\"), # PGP Universal Service\n",
    "        (\"from\\s+(?P<from_name>[\\w\\.\\-]+)\\s+by\\s+(?P<by_hostname>[\\w\\.\\-]+)\\s+with\\s+(?P<protocol>\\w+)\\s+\\(Sophos\\s+PureMessage\\s+Version\\s+(?P<version>[\\d\\.\\-]+)\\)\\s+id\\s+(?P<id>[\\w\\.\\-]+)\\s+for\\s+(?P<envelope_for>[\\w\\.\\-\\@]+)\", \"Sophos PureMessage\"), #Sophos PureMessage\n",
    "        (\"by\\s+(?P<by_ip>[\\d\\.\\:a-f]+)\\s+with\\s+(?P<protocol>\\w+)\", \"unknown\"), # other\n",
    "        (\"from\\s+(?P<from_name>[\\w\\.\\-]+)\\s+\\#?\\s*(\\(|\\[|\\(\\[)\\s*(?P<from_ip>[\\d\\.\\:a-f]+)\\s*(\\]|\\)|\\]\\))\\s+by\\s+(?P<by_hostname>[\\w\\.\\-]+)(\\s+\\([\\w\\.\\s\\/]+\\)|)\\s*(with\\s+(?P<protocol>\\w+)|)\\s*(id\\s+(?P<id>[\\w]+)|)(\\(\\-\\)|)\\s*(for\\s+\\<(?P<envelope_for>[\\w\\@\\.]+)\\>?|)\", \"unknown\"), #unknown\n",
    "        (\"from\\s+(?P<from_hostname>[\\w\\.\\-]+)\\s*\\(HELO\\s+(?P<from_name>[\\w\\.\\-]+)\\)\\s*\\(\\[?(?P<from_ip>[\\d\\.\\:a-f]+)\\]?\\)\\s+by\\s+(?P<by_hostname>[\\w\\.\\-]+)(\\s+\\([\\d\\.]+\\)|)\\s*(with\\s+(?P<protocol>\\w+)|)\\s*(id\\s+(?P<id>[\\w]+)|)(\\(\\-\\)|)\", \"unknown\"), #other other\n",
    "        (\"from\\s+([\\(\\[](?P<from_ip>[\\d\\.\\:a-f]+)[\\)\\]]|)\\s+by\\s+(?P<by_hostname>[\\w\\.\\-]+)\\s+id\\s+(?P<id>\\w+)\\s*(with\\s+(?P<protocol>\\w+)|)\\s*\\s*(for\\s+\\<(?P<envelope_for>[\\w\\@\\.\\-]+)\\>|)\", \"unknown\"),#other\n",
    "        (\"from\\s+(?P<from_hostname>[\\w\\.]+)\\s+(\\(HELO\\s+(?P<from_name>[\\w\\.\\-]+)\\)|)\\s*(\\((?P<from_ip>[\\da-f\\.\\:]+)\\)|)\\s*by\\s+(?P<by_hostname>[\\w\\.\\-]+)\\s+with\\s+(?P<cipher>[\\w\\-]+)\\s+encrypted\\s+SMTP\", \"unknown\"), #unknown\n",
    "        (\"from\\s+(?P<from_hostname>[\\w\\.\\-]+)\\s+(\\(HELO\\s+(?P<from_name>[\\w\\.\\-]+)\\)|)\\s+\\((?P<envelope_from>[\\w\\.]+\\@[\\w\\.]+)\\@(?P<from_ip>[\\da-d\\.\\:]+)\\)\\s+by\\s+(?P<by_hostname>[\\w\\.\\-]+)\\s+with\\s+(?P<protocol>\\w+)\", \"unknown\"), #unknown\n",
    "        (\"from\\s+(?P<from_hostname>[\\w\\.\\-]+)\\s+\\(HELO\\s+(?P<from_name>[\\w\\.\\-\\?]+)\\)\\s+\\(\\w+\\@[\\w\\.]+\\@(?P<from_ip>[\\d\\.a-f\\-]+)_\\w+\\)\\s+by\\s+(?P<by_hostname>[\\w\\.\\-\\:]+)\\s+with\\s+(?P<protocol>\\w+)\", \"unknown\"), #unknown\n",
    "        (\"from\\s+(?P<from_name>[\\w\\.\\-\\[\\]]+)\\s+\\(\\[(?P<from_ip>[\\da-f\\.\\:]+)\\]\\)\\s+by\\s+(?P<by_hostname>[\\w\\.\\-]+)\\s+\\(\\[(?P<by_ip>[\\d\\.a-f\\:]+)\\]\\)\\s+with\\s+(?P<protocol>\\w+)\", \"unknown\"), #unknown\n",
    "        ]\n",
    "    @staticmethod\n",
    "    def parse(header):\n",
    "        parts = header.split(\";\")\n",
    "        if len(parts) != 2:\n",
    "            return None\n",
    "\n",
    "        data = {}\n",
    "\n",
    "        # parse the hard part\n",
    "        found = False\n",
    "        for regex in ReceivedParser.regexes:\n",
    "            match = re.match(regex[0], parts[0], re.IGNORECASE)\n",
    "            if match:\n",
    "                data['server'] = regex[1]\n",
    "                found = True\n",
    "                break\n",
    "\n",
    "        if not found:\n",
    "            return None\n",
    "        return {**data, **match.groupdict()}"
   ]
  },
  {
   "cell_type": "code",
   "execution_count": 138,
   "metadata": {
    "id": "7743RS3QbisO"
   },
   "outputs": [],
   "source": [
    "received_parser = ReceivedParser()"
   ]
  },
  {
   "cell_type": "code",
   "execution_count": 139,
   "metadata": {
    "id": "PpHXX0ygMj6b"
   },
   "outputs": [],
   "source": [
    "def check_if_valid(dict_to_check, str_val):\n",
    "  if dict_to_check is None:\n",
    "    return False\n",
    "  elif str_val not in dict_to_check:\n",
    "    return False\n",
    "  elif dict_to_check[str_val] is None:\n",
    "    return False\n",
    "  else:\n",
    "    return True"
   ]
  },
  {
   "cell_type": "code",
   "execution_count": 140,
   "metadata": {
    "id": "R3MPTIP4Td0H"
   },
   "outputs": [],
   "source": [
    "# One-Hot encoding, new columns: conseq_num_received_is_one, conseq_received_good, conseq_received_bad, conseq_received_unknown (All values are 0 or 1)\n",
    "\n",
    "def check_conseq_received_domain(row):\n",
    "  num_received = row['hops']\n",
    "  if num_received == 1:\n",
    "    return pd.Series([1,0,0,0])\n",
    "\n",
    "  col_name_base = 'received'\n",
    "  for i in range(1, num_received):\n",
    "    curr_col = col_name_base + str(i)\n",
    "    next_col = col_name_base + str(i+1)\n",
    "\n",
    "    curr_val = row[curr_col]\n",
    "    next_val = row[next_col]\n",
    "\n",
    "    from_vals_dict = received_parser.parse(curr_val)\n",
    "    by_val_dict = received_parser.parse(next_val)\n",
    "\n",
    "    by_valid = check_if_valid(by_val_dict, 'by_hostname')\n",
    "    from_hostname_valid = check_if_valid(from_vals_dict, 'from_hostname')\n",
    "    from_name_valid = check_if_valid(from_vals_dict, 'from_name')\n",
    "\n",
    "    if by_valid:\n",
    "      # Both are valid case\n",
    "      if from_hostname_valid and from_name_valid:\n",
    "        if from_vals_dict['from_name'] == by_val_dict['by_hostname'] or \\\n",
    "        from_vals_dict['from_hostname'] == by_val_dict['by_hostname']:\n",
    "          continue\n",
    "        else:\n",
    "          #print(\"K Val: \" + str(i) +\"  FROMHOSTNAME: \" + from_vals_dict['from_hostname'] + \"  FROMNAME: \" + from_vals_dict['from_name'] + \"   BY: \" + by_val_dict['by_hostname'])\n",
    "          return pd.Series([0,0,1,0])\n",
    "\n",
    "      # Neither are valid case\n",
    "      elif not from_hostname_valid and not from_name_valid:\n",
    "        # Check my way before saying its invalid\n",
    "        val = my_checks(curr_val, next_val)\n",
    "        if isinstance(val, str):\n",
    "          continue\n",
    "        else:\n",
    "          return val\n",
    "\n",
    "      # From hostname is valid case\n",
    "      elif from_hostname_valid:\n",
    "        if from_vals_dict['from_hostname'] == by_val_dict['by_hostname']:\n",
    "          continue\n",
    "        else:\n",
    "          #print(\"K Val: \" + str(i) +\"  FROMHOSTNAME: \" + from_vals_dict['from_hostname'] + \"   BY: \" + by_val_dict['by_hostname'])\n",
    "          return pd.Series([0,0,1,0])\n",
    "\n",
    "      # From name is valid case\n",
    "      elif from_name_valid:\n",
    "        if from_vals_dict['from_name'] == by_val_dict['by_hostname']:\n",
    "          continue\n",
    "        else:\n",
    "          #print(\"K Val: \" + str(i) + \"  FROMNAME: \" + from_vals_dict['from_name'] + \"   BY: \" + by_val_dict['by_hostname'])\n",
    "          return pd.Series([0,0,1,0])\n",
    "    else:\n",
    "      # Check my way before saying its invalid\n",
    "      val = my_checks(curr_val, next_val)\n",
    "      if isinstance(val, str):\n",
    "        continue\n",
    "      else:\n",
    "        return val\n",
    "\n",
    "  # All checks worked out, return a good result\n",
    "  return pd.Series([0,1,0,0])\n",
    "\n",
    "\n",
    "def my_checks(curr_val, next_val):\n",
    "  first_domain_from = re.search(r'((?<=\\bfrom\\s)[^\\s]+)', curr_val)\n",
    "  second_domain_from = re.search(r'((?<=\\().*?(?=\\[))', curr_val)\n",
    "  domain_by = re.search(r'((?<=\\bby\\s)[^\\s]+)', next_val)\n",
    "\n",
    "  if domain_by is not None:\n",
    "    # Both are valid case\n",
    "    if first_domain_from is not None and second_domain_from is not None:\n",
    "        if first_domain_from.group(0) == domain_by.group(0) or \\\n",
    "        second_domain_from.group(0) == domain_by.group(0):\n",
    "          return 'continue'\n",
    "        else:\n",
    "          return pd.Series([0,0,1,0])\n",
    "\n",
    "    # Neither are valid case\n",
    "    if first_domain_from is None and second_domain_from is None:\n",
    "      return pd.Series([0,0,0,1]) \n",
    "\n",
    "    # One is valid case\n",
    "    if first_domain_from is not None:\n",
    "      if first_domain_from.group(0) == domain_by.group(0):\n",
    "        return 'continue'\n",
    "      else:\n",
    "        return pd.Series([0,0,1,0])\n",
    "\n",
    "    # One is valid case\n",
    "    if second_domain_from is not None:\n",
    "      if second_domain_from.group(0) == domain_by.group(0):\n",
    "        return 'continue'\n",
    "      else:\n",
    "        return pd.Series([0,0,1,0])\n",
    "        \n",
    "  else:\n",
    "    return pd.Series([0,0,0,1])"
   ]
  },
  {
   "cell_type": "code",
   "execution_count": 141,
   "metadata": {
    "id": "94-mPAYliEyu"
   },
   "outputs": [],
   "source": [
    "df[['conseq_num_received_is_one', 'conseq_received_good', \n",
    "   'conseq_received_bad', 'conseq_received_unknown']] = df.apply(check_conseq_received_domain, axis=1)"
   ]
  },
  {
   "cell_type": "code",
   "execution_count": 142,
   "metadata": {
    "id": "hQyDkZfUmCLn"
   },
   "outputs": [],
   "source": [
    "final_features_list.extend(['conseq_num_received_is_one', 'conseq_received_good', \n",
    "   'conseq_received_bad', 'conseq_received_unknown'])"
   ]
  },
  {
   "cell_type": "markdown",
   "metadata": {
    "id": "ZNf557Xx-zeV"
   },
   "source": [
    "**Date and time conflict (Consequtive received fields):**"
   ]
  },
  {
   "cell_type": "code",
   "execution_count": 143,
   "metadata": {
    "id": "DEBSZV0y-3l1"
   },
   "outputs": [],
   "source": [
    "def conseq_received_date(row):\n",
    "  num_received = row['hops']\n",
    "  if num_received == 1:\n",
    "    return 0\n",
    "\n",
    "  col_name_base = 'received'\n",
    "  for i in range(1, num_received):\n",
    "    curr_col = col_name_base + str(i)\n",
    "    next_col = col_name_base + str(i+1)\n",
    "\n",
    "    curr_val = row[curr_col]\n",
    "    next_val = row[next_col]\n",
    "\n",
    "    curr_date = curr_val.replace('\\n\\t', ';').split(r';')[-1]\n",
    "    next_date = next_val.replace('\\n\\t', ';').split(r';')[-1]\n",
    "\n",
    "    d1 = email.utils.parsedate_tz(curr_date)\n",
    "    d2 = email.utils.parsedate_tz(next_date)\n",
    "\n",
    "    if d1 is None or d2 is None:\n",
    "      return 1\n",
    "\n",
    "    try:\n",
    "      val1 = email.utils.mktime_tz(d1)\n",
    "      val2 = email.utils.mktime_tz(d2)\n",
    "    except:\n",
    "      return 1\n",
    "\n",
    "    if (val2 - val1) < 0:\n",
    "      return 1\n",
    "  return 0"
   ]
  },
  {
   "cell_type": "code",
   "execution_count": 144,
   "metadata": {
    "id": "0-UXLjf0Aco_"
   },
   "outputs": [],
   "source": [
    "df['conseq_received_date'] = df.apply(conseq_received_date, axis=1)"
   ]
  },
  {
   "cell_type": "code",
   "execution_count": 145,
   "metadata": {
    "colab": {
     "base_uri": "https://localhost:8080/"
    },
    "id": "y425oysXA3yb",
    "outputId": "2a5ca53a-5ccd-402b-b9fb-a0724cd274ea"
   },
   "outputs": [
    {
     "data": {
      "text/plain": [
       "0    69120\n",
       "1     7591\n",
       "Name: conseq_received_date, dtype: int64"
      ]
     },
     "execution_count": 145,
     "metadata": {},
     "output_type": "execute_result"
    }
   ],
   "source": [
    "df['conseq_received_date'].value_counts()"
   ]
  },
  {
   "cell_type": "code",
   "execution_count": 146,
   "metadata": {
    "colab": {
     "base_uri": "https://localhost:8080/"
    },
    "id": "hGginZppD2-R",
    "outputId": "35e51d6f-30fb-4d31-b856-90f3e2f3ceac"
   },
   "outputs": [
    {
     "data": {
      "text/plain": [
       "0.0    7287\n",
       "1.0     216\n",
       "2.0      88\n",
       "Name: label, dtype: int64"
      ]
     },
     "execution_count": 146,
     "metadata": {},
     "output_type": "execute_result"
    }
   ],
   "source": [
    "df[df['conseq_received_date'] == 1]['label'].value_counts()"
   ]
  },
  {
   "cell_type": "code",
   "execution_count": 147,
   "metadata": {
    "id": "TVZu0bsqAlLe"
   },
   "outputs": [],
   "source": [
    "final_features_list.append('conseq_received_date')"
   ]
  },
  {
   "cell_type": "markdown",
   "metadata": {
    "id": "-5zbfadj2RfL"
   },
   "source": [
    "---\n",
    "\n",
    "**Email Similarity:**\n",
    "\n",
    "---"
   ]
  },
  {
   "cell_type": "markdown",
   "metadata": {
    "id": "jvr716SAVILG"
   },
   "source": [
    "If more than one email, then all are tested, and the highest score is the output."
   ]
  },
  {
   "cell_type": "code",
   "execution_count": 148,
   "metadata": {
    "id": "h3_SxHQn1cyZ"
   },
   "outputs": [],
   "source": [
    "from difflib import SequenceMatcher\n",
    "\n",
    "def simScore(a, b):\n",
    "  if isinstance(a, float) or isinstance(b, float):\n",
    "    return 0\n",
    "  return SequenceMatcher(None, a, b).ratio()"
   ]
  },
  {
   "cell_type": "code",
   "execution_count": 149,
   "metadata": {
    "colab": {
     "base_uri": "https://localhost:8080/"
    },
    "id": "HdnnlPQe2itN",
    "outputId": "7316da30-9c68-4cf3-ce17-234e87257d88"
   },
   "outputs": [
    {
     "name": "stdout",
     "output_type": "stream",
     "text": [
      "0.5\n"
     ]
    }
   ],
   "source": [
    "print(simScore('ab', 'ba'))"
   ]
  },
  {
   "cell_type": "markdown",
   "metadata": {
    "id": "Eu5dQhknGgPb"
   },
   "source": [
    "---\n",
    "**Extracting Emails**:\n",
    "\n",
    "---"
   ]
  },
  {
   "cell_type": "code",
   "execution_count": 150,
   "metadata": {
    "id": "X-xlshJ-2T-s"
   },
   "outputs": [],
   "source": [
    "# emails in brackets '<>' are matched first, and if none, then other emails are matched\n",
    "def extract_emails(row, col_name):\n",
    "\n",
    "  in_brackets = re.findall(r'<([a-zA-Z0-9+._-]+@[a-zA-Z0-9._-]+\\.[a-zA-Z0-9_-]+)>', row[col_name])\n",
    "\n",
    "  if len(in_brackets) == 0:\n",
    "    not_in_brackets = re.findall(r'([a-zA-Z0-9+._-]+@[a-zA-Z0-9._-]+\\.[a-zA-Z0-9_-]+)', row[col_name])\n",
    "    if len(not_in_brackets) == 0:\n",
    "      return []\n",
    "    else:\n",
    "      return not_in_brackets\n",
    "  else:\n",
    "    return in_brackets"
   ]
  },
  {
   "cell_type": "code",
   "execution_count": 151,
   "metadata": {
    "id": "Zwt5vDKv5T4R"
   },
   "outputs": [],
   "source": [
    "emails_from = df.apply(extract_emails, col_name='from', axis=1)\n",
    "emails_message_id = df.apply(extract_emails, col_name='message-id', axis=1)\n",
    "emails_return_path = df.apply(extract_emails, col_name='return-path', axis=1)\n",
    "emails_reply_to = df.apply(extract_emails, col_name='reply-to', axis=1)\n",
    "emails_errors_to = df.apply(extract_emails, col_name='errors-to', axis=1)\n",
    "emails_in_reply_to = df.apply(extract_emails, col_name='in-reply-to', axis=1)\n",
    "emails_references = df.apply(extract_emails, col_name='references', axis=1)\n",
    "emails_to = df.apply(extract_emails, col_name='to', axis=1)\n",
    "emails_cc = df.apply(extract_emails, col_name='cc', axis=1)\n",
    "emails_sender = df.apply(extract_emails, col_name='sender', axis=1)\n",
    "\n",
    "#simScores = domains_df[['return', 'from']].apply(lambda x: simScore(*x), axis=1)\n",
    "#df['SimScore_return_from'] = simScores"
   ]
  },
  {
   "cell_type": "code",
   "execution_count": 152,
   "metadata": {
    "id": "Z7I-fvEv70YW"
   },
   "outputs": [],
   "source": [
    "emails_df = pd.concat([emails_from, emails_message_id, emails_return_path, \n",
    "                        emails_errors_to, emails_reply_to, emails_in_reply_to, \n",
    "                        emails_references, emails_to, emails_cc, emails_sender], axis=1)\n",
    "emails_df.set_axis(['from', 'message-id', 'return-path', 'errors-to', 'reply-to',\n",
    "                     'in-reply-to', 'references', 'to', 'cc', 'sender'], \n",
    "                    axis=1, inplace=True)"
   ]
  },
  {
   "cell_type": "code",
   "execution_count": 153,
   "metadata": {
    "id": "_6dE-4fdFDIf"
   },
   "outputs": [],
   "source": [
    "def email_same_check(row, first_col, second_col):\n",
    "  vals1 = row[first_col]\n",
    "  vals2 = row[second_col]\n",
    "\n",
    "  for val1 in vals1:\n",
    "    for val2 in vals2:\n",
    "      if val1 == val2:\n",
    "        return 1\n",
    "\n",
    "  return 0"
   ]
  },
  {
   "cell_type": "code",
   "execution_count": 154,
   "metadata": {
    "id": "ZgU7zDwEhAja"
   },
   "outputs": [],
   "source": [
    "emails_to_check = [('from', 'reply-to')]\n",
    "\n",
    "for val in emails_to_check:\n",
    "  first_field = val[0]\n",
    "  second_field = val[1]\n",
    "  new_col_name = 'email_match_' + first_field + '_' + second_field\n",
    "\n",
    "  df[new_col_name] = emails_df.apply(email_same_check, first_col=first_field, \n",
    "                  second_col=second_field, axis=1)\n",
    "  final_features_list.append(new_col_name)"
   ]
  },
  {
   "cell_type": "markdown",
   "metadata": {
    "id": "gScOp6RgW71w"
   },
   "source": [
    "**Extracting Domains:**"
   ]
  },
  {
   "cell_type": "code",
   "execution_count": 155,
   "metadata": {
    "id": "X_O1pim97B7L"
   },
   "outputs": [],
   "source": [
    "def extract_domains(row, col_name):\n",
    "  emails_list = row[col_name]\n",
    "\n",
    "  if len(emails_list) == 0:\n",
    "    return []\n",
    "  else:\n",
    "    domains_list = []\n",
    "    for email in emails_list:\n",
    "      if len(email.split('.')) < 2:\n",
    "        continue\n",
    "      else:\n",
    "        main_domain = email.split('@')[-1]\n",
    "        main_domain = main_domain.split('.')[-2:]\n",
    "        main_domain = main_domain[0] + '.' + re.sub('\\W+','', main_domain[1])\n",
    "        domains_list.append(main_domain.lower())\n",
    "    return domains_list"
   ]
  },
  {
   "cell_type": "code",
   "execution_count": 156,
   "metadata": {
    "id": "cxXiXh026t0B"
   },
   "outputs": [],
   "source": [
    "domains_from = emails_df.apply(extract_domains, col_name='from', axis=1)\n",
    "domains_message_id = emails_df.apply(extract_domains, col_name='message-id', axis=1)\n",
    "domains_return_path = emails_df.apply(extract_domains, col_name='return-path', axis=1)\n",
    "domains_reply_to = emails_df.apply(extract_domains, col_name='reply-to', axis=1)\n",
    "domains_errors_to = emails_df.apply(extract_domains, col_name='errors-to', axis=1)\n",
    "domains_in_reply_to = emails_df.apply(extract_domains, col_name='in-reply-to', axis=1)\n",
    "domains_references = emails_df.apply(extract_domains, col_name='references', axis=1)\n",
    "domains_to = emails_df.apply(extract_domains, col_name='to', axis=1)\n",
    "domains_cc = emails_df.apply(extract_domains, col_name='cc', axis=1)\n",
    "domains_sender = emails_df.apply(extract_domains, col_name='sender', axis=1)"
   ]
  },
  {
   "cell_type": "code",
   "execution_count": 157,
   "metadata": {
    "id": "DieLyv-w8zLx"
   },
   "outputs": [],
   "source": [
    "domains_df = pd.concat([domains_from, domains_message_id, domains_return_path, \n",
    "                        domains_errors_to, domains_reply_to, domains_in_reply_to, \n",
    "                        domains_references, domains_to, domains_cc, domains_sender], axis=1)\n",
    "domains_df.set_axis(['from_domains', 'message-id_domains', 'return-path_domains', 'errors-to_domains', 'reply-to_domains',\n",
    "                     'in-reply-to_domains', 'references_domains', 'to_domains', 'cc_domains', 'sender_domains'], \n",
    "                    axis=1, inplace=True)\n",
    "\n",
    "df = pd.concat([df,domains_df], axis=1)"
   ]
  },
  {
   "cell_type": "code",
   "execution_count": 158,
   "metadata": {
    "colab": {
     "base_uri": "https://localhost:8080/"
    },
    "id": "DQoihiTUPx0-",
    "outputId": "e6fc5844-0d5f-4e84-d7e9-42df63bfcd62"
   },
   "outputs": [
    {
     "data": {
      "text/plain": [
       "(76711, 179)"
      ]
     },
     "execution_count": 158,
     "metadata": {},
     "output_type": "execute_result"
    }
   ],
   "source": [
    "df.shape"
   ]
  },
  {
   "cell_type": "markdown",
   "metadata": {
    "id": "a85nIZNM1PYR"
   },
   "source": [
    "Adding in the value of message-id domain (1 if contains uwaterloo.ca, otherwise 0)"
   ]
  },
  {
   "cell_type": "code",
   "execution_count": 159,
   "metadata": {
    "id": "OKYeOgLazSh7"
   },
   "outputs": [],
   "source": [
    "def extract_domain_message_id(row):\n",
    "  val = row['message-id_domains']\n",
    "  if len(val) == 0:\n",
    "    return ''\n",
    "  else:\n",
    "    return val[0]"
   ]
  },
  {
   "cell_type": "code",
   "execution_count": 160,
   "metadata": {
    "colab": {
     "base_uri": "https://localhost:8080/"
    },
    "id": "WmrgOGTBzisR",
    "outputId": "9bfe2d58-3c66-44a8-81ce-8e41be0234a4"
   },
   "outputs": [
    {
     "data": {
      "text/plain": [
       "                     22169\n",
       "uwaterloo.ca          6041\n",
       "gmail.com             3309\n",
       "samba.org             2960\n",
       "fastbox.info          2524\n",
       "                     ...  \n",
       "gmage.net                1\n",
       "maetecpower.com          1\n",
       "heagmedianet.de          1\n",
       "invitevantage.com        1\n",
       "ieo.es                   1\n",
       "Name: domain_val_message-id, Length: 9766, dtype: int64"
      ]
     },
     "execution_count": 160,
     "metadata": {},
     "output_type": "execute_result"
    }
   ],
   "source": [
    "df['domain_val_message-id'] = domains_df.apply(extract_domain_message_id, axis=1)\n",
    "df['domain_val_message-id'].value_counts()"
   ]
  },
  {
   "cell_type": "code",
   "execution_count": 161,
   "metadata": {
    "id": "vJyAgFWj0H6e"
   },
   "outputs": [],
   "source": [
    "df.loc[~df['domain_val_message-id'].astype(str).str.contains('uwaterloo.ca'), 'domain_val_message-id'] = 0\n",
    "df.loc[df['domain_val_message-id'].astype(str).str.contains('uwaterloo.ca'), 'domain_val_message-id'] = 1"
   ]
  },
  {
   "cell_type": "code",
   "execution_count": 162,
   "metadata": {
    "colab": {
     "base_uri": "https://localhost:8080/"
    },
    "id": "z7FvaphJ0TcS",
    "outputId": "a157a470-cdba-4dab-c9dd-1b355cdf2243"
   },
   "outputs": [
    {
     "data": {
      "text/plain": [
       "0    70666\n",
       "1     6045\n",
       "Name: domain_val_message-id, dtype: int64"
      ]
     },
     "execution_count": 162,
     "metadata": {},
     "output_type": "execute_result"
    }
   ],
   "source": [
    "df['domain_val_message-id'].value_counts()"
   ]
  },
  {
   "cell_type": "code",
   "execution_count": 163,
   "metadata": {
    "id": "xpsZ0pBy1J1y"
   },
   "outputs": [],
   "source": [
    "final_features_list.append('domain_val_message-id')"
   ]
  },
  {
   "cell_type": "markdown",
   "metadata": {
    "id": "E5gk2NOLAcvi"
   },
   "source": [
    "---\n",
    "\n",
    "**Domain Matching:**\n",
    "\n",
    "---"
   ]
  },
  {
   "cell_type": "code",
   "execution_count": 164,
   "metadata": {
    "id": "eMLBMxcYXGMq"
   },
   "outputs": [],
   "source": [
    "# Returns 0 if no matches, 1 if at least one match\n",
    "def domain_match_check(row, first_col, second_col):\n",
    "\n",
    "  first_domain_list = row[first_col]\n",
    "  second_domain_list = row[second_col]\n",
    "\n",
    "  if len(first_domain_list) == 0 or len(second_domain_list) == 0:\n",
    "    return 0\n",
    "  else:\n",
    "    for d1 in first_domain_list:\n",
    "      for d2 in second_domain_list:\n",
    "        if d1 == d2:\n",
    "          return 1\n",
    "    return 0"
   ]
  },
  {
   "cell_type": "code",
   "execution_count": 165,
   "metadata": {
    "id": "0IdvlYDl68u2"
   },
   "outputs": [],
   "source": [
    "domain_fields_to_check = [('message-id_domains', 'from_domains'), ('from_domains', 'return-path_domains'), ('message-id_domains', 'return-path_domains'), ('message-id_domains', 'sender_domains'), ('message-id_domains', 'reply-to_domains'),\n",
    "                          ('return-path_domains', 'reply-to_domains'), ('reply-to_domains', 'to_domains'), ('to_domains', 'in-reply-to_domains'), ('errors-to_domains', 'message-id_domains'), ('errors-to_domains', 'from_domains'), ('errors-to_domains', 'sender_domains'),\n",
    "                          ('errors-to_domains', 'reply-to_domains'), ('sender_domains', 'from_domains'), ('references_domains', 'reply-to_domains'), ('references_domains', 'in-reply-to_domains'), ('references_domains', 'to_domains'), ('from_domains', 'reply-to_domains'),\n",
    "                          ('to_domains', 'from_domains'), ('to_domains', 'message-id_domains')]\n",
    "\n",
    "for val in domain_fields_to_check:\n",
    "  first_field = val[0].replace('_domains', '')\n",
    "  second_field = val[1].replace('_domains', '')\n",
    "  new_col_name = 'domain_match_' + first_field + '_' + second_field \n",
    "\n",
    "  df[new_col_name] = domains_df.apply(domain_match_check, first_col = val[0], \n",
    "                              second_col= val[1], axis=1)\n",
    "  final_features_list.append(new_col_name)\n"
   ]
  },
  {
   "cell_type": "markdown",
   "metadata": {
    "id": "vHnvqHlgFQvK"
   },
   "source": [
    "**Domain Matching (involving 'Received' fields):**"
   ]
  },
  {
   "cell_type": "code",
   "execution_count": 166,
   "metadata": {
    "id": "D9n9R1WvHC5k"
   },
   "outputs": [],
   "source": [
    "parser = ReceivedParser()"
   ]
  },
  {
   "cell_type": "code",
   "execution_count": 167,
   "metadata": {
    "colab": {
     "base_uri": "https://localhost:8080/",
     "height": 0
    },
    "id": "8l5XpRJ8Kez0",
    "outputId": "f09c22c1-8085-4b58-c7d8-a4115878470b"
   },
   "outputs": [
    {
     "data": {
      "text/html": [
       "<div>\n",
       "<style scoped>\n",
       "    .dataframe tbody tr th:only-of-type {\n",
       "        vertical-align: middle;\n",
       "    }\n",
       "\n",
       "    .dataframe tbody tr th {\n",
       "        vertical-align: top;\n",
       "    }\n",
       "\n",
       "    .dataframe thead th {\n",
       "        text-align: right;\n",
       "    }\n",
       "</style>\n",
       "<table border=\"1\" class=\"dataframe\">\n",
       "  <thead>\n",
       "    <tr style=\"text-align: right;\">\n",
       "      <th></th>\n",
       "      <th>received1</th>\n",
       "      <th>received2</th>\n",
       "      <th>received3</th>\n",
       "      <th>received4</th>\n",
       "      <th>received5</th>\n",
       "      <th>received6</th>\n",
       "      <th>received7</th>\n",
       "      <th>received8</th>\n",
       "      <th>received9</th>\n",
       "      <th>received10</th>\n",
       "      <th>...</th>\n",
       "      <th>domain_match_errors-to_from</th>\n",
       "      <th>domain_match_errors-to_sender</th>\n",
       "      <th>domain_match_errors-to_reply-to</th>\n",
       "      <th>domain_match_sender_from</th>\n",
       "      <th>domain_match_references_reply-to</th>\n",
       "      <th>domain_match_references_in-reply-to</th>\n",
       "      <th>domain_match_references_to</th>\n",
       "      <th>domain_match_from_reply-to</th>\n",
       "      <th>domain_match_to_from</th>\n",
       "      <th>domain_match_to_message-id</th>\n",
       "    </tr>\n",
       "  </thead>\n",
       "  <tbody>\n",
       "    <tr>\n",
       "      <th>0</th>\n",
       "      <td>from 129.97.78.23 ([211.202.101.74])\\n\\tby speedy.uwaterloo.ca (8.12.8/8.12.5) with SMTP id l38H7G0I003017;\\n\\tSun, 8 Apr 2007 13:07:21 -0400</td>\n",
       "      <td>from 0.144.152.6 by 211.202.101.74; Sun, 08 Apr 2007 19:04:48 +0100</td>\n",
       "      <td></td>\n",
       "      <td></td>\n",
       "      <td></td>\n",
       "      <td></td>\n",
       "      <td></td>\n",
       "      <td></td>\n",
       "      <td></td>\n",
       "      <td></td>\n",
       "      <td>...</td>\n",
       "      <td>0</td>\n",
       "      <td>0</td>\n",
       "      <td>0</td>\n",
       "      <td>0</td>\n",
       "      <td>0</td>\n",
       "      <td>0</td>\n",
       "      <td>0</td>\n",
       "      <td>1</td>\n",
       "      <td>0</td>\n",
       "      <td>0</td>\n",
       "    </tr>\n",
       "    <tr>\n",
       "      <th>1</th>\n",
       "      <td>from hypatia.math.ethz.ch (hypatia.math.ethz.ch [129.132.145.15])\\n\\tby speedy.uwaterloo.ca (8.12.8/8.12.5) with ESMTP id l38HLT0I003198\\n\\tfor &lt;ktwarwic@speedy.uwaterloo.ca&gt;; Sun, 8 Apr 2007 13:21:30 -0400</td>\n",
       "      <td>from hypatia.math.ethz.ch (hypatia [129.132.145.15])\\n\\tby hypatia.math.ethz.ch (8.13.6/8.13.6) with ESMTP id l38HJlI9027046;\\n\\tSun, 8 Apr 2007 19:20:13 +0200</td>\n",
       "      <td>from talk.nabble.com (www.nabble.com [72.21.53.35])\\n\\tby hypatia.math.ethz.ch (8.13.6/8.13.6) with ESMTP id l38HJeqo027003\\n\\t(version=TLSv1/SSLv3 cipher=AES256-SHA bits=256 verify=NO)\\n\\tfor &lt;r-help@stat.math.ethz.ch&gt;; Sun, 8 Apr 2007 19:19:42 +0200</td>\n",
       "      <td>from [72.21.53.38] (helo=jubjub.nabble.com)\\n\\tby talk.nabble.com with esmtp (Exim 4.50) id 1Hab3D-00049b-NM\\n\\tfor r-help@stat.math.ethz.ch; Sun, 08 Apr 2007 10:19:39 -0700</td>\n",
       "      <td></td>\n",
       "      <td></td>\n",
       "      <td></td>\n",
       "      <td></td>\n",
       "      <td></td>\n",
       "      <td></td>\n",
       "      <td>...</td>\n",
       "      <td>0</td>\n",
       "      <td>1</td>\n",
       "      <td>0</td>\n",
       "      <td>0</td>\n",
       "      <td>0</td>\n",
       "      <td>0</td>\n",
       "      <td>0</td>\n",
       "      <td>0</td>\n",
       "      <td>0</td>\n",
       "      <td>0</td>\n",
       "    </tr>\n",
       "    <tr>\n",
       "      <th>2</th>\n",
       "      <td>from friend (82-44-240-212.cable.ubr01.haye.blueyonder.co.uk [82.44.240.212])\\n\\tby speedy.uwaterloo.ca (8.12.8/8.12.5) with ESMTP id l38KAj0I004816\\n\\tfor &lt;manager@speedy.uwaterloo.ca&gt;; Sun, 8 Apr 2007 16:10:49 -0400</td>\n",
       "      <td></td>\n",
       "      <td></td>\n",
       "      <td></td>\n",
       "      <td></td>\n",
       "      <td></td>\n",
       "      <td></td>\n",
       "      <td></td>\n",
       "      <td></td>\n",
       "      <td></td>\n",
       "      <td>...</td>\n",
       "      <td>0</td>\n",
       "      <td>0</td>\n",
       "      <td>0</td>\n",
       "      <td>0</td>\n",
       "      <td>0</td>\n",
       "      <td>0</td>\n",
       "      <td>0</td>\n",
       "      <td>0</td>\n",
       "      <td>0</td>\n",
       "      <td>0</td>\n",
       "    </tr>\n",
       "    <tr>\n",
       "      <th>3</th>\n",
       "      <td>from cnnimail22.cnn.com (cnnimail22.cnn.com [64.236.25.79])\\n\\tby speedy.uwaterloo.ca (8.12.8/8.12.5) with ESMTP id l39IYQ0I018124\\n\\tfor &lt;ktwarwic@SPEEDY.UWATERLOO.CA&gt;; Mon, 9 Apr 2007 14:34:26 -0400</td>\n",
       "      <td>from cnnimail23 (cnnimail23.turner.com) by cnnimail22.cnn.com (LSMTP for Windows NT v1.1b) with SMTP id &lt;12.00054F1D@cnnimail22.cnn.com&gt;; Mon, 9 Apr 2007 14:26:36 -0400</td>\n",
       "      <td></td>\n",
       "      <td></td>\n",
       "      <td></td>\n",
       "      <td></td>\n",
       "      <td></td>\n",
       "      <td></td>\n",
       "      <td></td>\n",
       "      <td></td>\n",
       "      <td>...</td>\n",
       "      <td>0</td>\n",
       "      <td>0</td>\n",
       "      <td>0</td>\n",
       "      <td>0</td>\n",
       "      <td>0</td>\n",
       "      <td>0</td>\n",
       "      <td>0</td>\n",
       "      <td>0</td>\n",
       "      <td>0</td>\n",
       "      <td>1</td>\n",
       "    </tr>\n",
       "    <tr>\n",
       "      <th>4</th>\n",
       "      <td>from localhost ([220.234.26.96])\\n\\tby speedy.uwaterloo.ca (8.12.8/8.12.5) with SMTP id l3G7vQ0I002949\\n\\tfor &lt;gnitpick@speedy.uwaterloo.ca&gt;; Mon, 16 Apr 2007 03:57:28 -0400</td>\n",
       "      <td></td>\n",
       "      <td></td>\n",
       "      <td></td>\n",
       "      <td></td>\n",
       "      <td></td>\n",
       "      <td></td>\n",
       "      <td></td>\n",
       "      <td></td>\n",
       "      <td></td>\n",
       "      <td>...</td>\n",
       "      <td>0</td>\n",
       "      <td>0</td>\n",
       "      <td>0</td>\n",
       "      <td>0</td>\n",
       "      <td>0</td>\n",
       "      <td>0</td>\n",
       "      <td>0</td>\n",
       "      <td>0</td>\n",
       "      <td>0</td>\n",
       "      <td>0</td>\n",
       "    </tr>\n",
       "  </tbody>\n",
       "</table>\n",
       "<p>5 rows × 199 columns</p>\n",
       "</div>"
      ],
      "text/plain": [
       "                                                                                                                                                                                                                   received1  \\\n",
       "0                                                                              from 129.97.78.23 ([211.202.101.74])\\n\\tby speedy.uwaterloo.ca (8.12.8/8.12.5) with SMTP id l38H7G0I003017;\\n\\tSun, 8 Apr 2007 13:07:21 -0400   \n",
       "1             from hypatia.math.ethz.ch (hypatia.math.ethz.ch [129.132.145.15])\\n\\tby speedy.uwaterloo.ca (8.12.8/8.12.5) with ESMTP id l38HLT0I003198\\n\\tfor <ktwarwic@speedy.uwaterloo.ca>; Sun, 8 Apr 2007 13:21:30 -0400   \n",
       "2  from friend (82-44-240-212.cable.ubr01.haye.blueyonder.co.uk [82.44.240.212])\\n\\tby speedy.uwaterloo.ca (8.12.8/8.12.5) with ESMTP id l38KAj0I004816\\n\\tfor <manager@speedy.uwaterloo.ca>; Sun, 8 Apr 2007 16:10:49 -0400   \n",
       "3                   from cnnimail22.cnn.com (cnnimail22.cnn.com [64.236.25.79])\\n\\tby speedy.uwaterloo.ca (8.12.8/8.12.5) with ESMTP id l39IYQ0I018124\\n\\tfor <ktwarwic@SPEEDY.UWATERLOO.CA>; Mon, 9 Apr 2007 14:34:26 -0400   \n",
       "4                                              from localhost ([220.234.26.96])\\n\\tby speedy.uwaterloo.ca (8.12.8/8.12.5) with SMTP id l3G7vQ0I002949\\n\\tfor <gnitpick@speedy.uwaterloo.ca>; Mon, 16 Apr 2007 03:57:28 -0400   \n",
       "\n",
       "                                                                                                                                                                  received2  \\\n",
       "0                                                                                                       from 0.144.152.6 by 211.202.101.74; Sun, 08 Apr 2007 19:04:48 +0100   \n",
       "1           from hypatia.math.ethz.ch (hypatia [129.132.145.15])\\n\\tby hypatia.math.ethz.ch (8.13.6/8.13.6) with ESMTP id l38HJlI9027046;\\n\\tSun, 8 Apr 2007 19:20:13 +0200   \n",
       "2                                                                                                                                                                             \n",
       "3  from cnnimail23 (cnnimail23.turner.com) by cnnimail22.cnn.com (LSMTP for Windows NT v1.1b) with SMTP id <12.00054F1D@cnnimail22.cnn.com>; Mon, 9 Apr 2007 14:26:36 -0400   \n",
       "4                                                                                                                                                                             \n",
       "\n",
       "                                                                                                                                                                                                                                                     received3  \\\n",
       "0                                                                                                                                                                                                                                                                \n",
       "1  from talk.nabble.com (www.nabble.com [72.21.53.35])\\n\\tby hypatia.math.ethz.ch (8.13.6/8.13.6) with ESMTP id l38HJeqo027003\\n\\t(version=TLSv1/SSLv3 cipher=AES256-SHA bits=256 verify=NO)\\n\\tfor <r-help@stat.math.ethz.ch>; Sun, 8 Apr 2007 19:19:42 +0200   \n",
       "2                                                                                                                                                                                                                                                                \n",
       "3                                                                                                                                                                                                                                                                \n",
       "4                                                                                                                                                                                                                                                                \n",
       "\n",
       "                                                                                                                                                                       received4  \\\n",
       "0                                                                                                                                                                                  \n",
       "1  from [72.21.53.38] (helo=jubjub.nabble.com)\\n\\tby talk.nabble.com with esmtp (Exim 4.50) id 1Hab3D-00049b-NM\\n\\tfor r-help@stat.math.ethz.ch; Sun, 08 Apr 2007 10:19:39 -0700   \n",
       "2                                                                                                                                                                                  \n",
       "3                                                                                                                                                                                  \n",
       "4                                                                                                                                                                                  \n",
       "\n",
       "  received5 received6 received7 received8 received9 received10  ...  \\\n",
       "0                                                               ...   \n",
       "1                                                               ...   \n",
       "2                                                               ...   \n",
       "3                                                               ...   \n",
       "4                                                               ...   \n",
       "\n",
       "  domain_match_errors-to_from domain_match_errors-to_sender  \\\n",
       "0                           0                             0   \n",
       "1                           0                             1   \n",
       "2                           0                             0   \n",
       "3                           0                             0   \n",
       "4                           0                             0   \n",
       "\n",
       "  domain_match_errors-to_reply-to domain_match_sender_from  \\\n",
       "0                               0                        0   \n",
       "1                               0                        0   \n",
       "2                               0                        0   \n",
       "3                               0                        0   \n",
       "4                               0                        0   \n",
       "\n",
       "  domain_match_references_reply-to domain_match_references_in-reply-to  \\\n",
       "0                                0                                   0   \n",
       "1                                0                                   0   \n",
       "2                                0                                   0   \n",
       "3                                0                                   0   \n",
       "4                                0                                   0   \n",
       "\n",
       "  domain_match_references_to domain_match_from_reply-to  domain_match_to_from  \\\n",
       "0                          0                          1                     0   \n",
       "1                          0                          0                     0   \n",
       "2                          0                          0                     0   \n",
       "3                          0                          0                     0   \n",
       "4                          0                          0                     0   \n",
       "\n",
       "  domain_match_to_message-id  \n",
       "0                          0  \n",
       "1                          0  \n",
       "2                          0  \n",
       "3                          1  \n",
       "4                          0  \n",
       "\n",
       "[5 rows x 199 columns]"
      ]
     },
     "execution_count": 167,
     "metadata": {},
     "output_type": "execute_result"
    }
   ],
   "source": [
    "df.head(5)"
   ]
  },
  {
   "cell_type": "code",
   "execution_count": 168,
   "metadata": {
    "id": "EGbv61yzKamL"
   },
   "outputs": [],
   "source": [
    "test = parser.parse('from cnnimail22.cnn.com (cnnimail22.cnn.com [64.236.25.79])\\n\\tby speedy.uwaterloo.ca (8.12.8/8.12.5) with ESMTP id l39IYQ0I018124\\n\\tfor <ktwarwic@SPEEDY.UWATERLOO.CA>; Mon, 9 Apr 2007 14:34:26 -0400')"
   ]
  },
  {
   "cell_type": "code",
   "execution_count": 169,
   "metadata": {
    "id": "no3MCYrv2h_S"
   },
   "outputs": [],
   "source": [
    "def get_for_domain_last_received(row):\n",
    "  last_received_val = row['last_received']\n",
    "  parsed_val = parser.parse(last_received_val)\n",
    "\n",
    "  if check_if_valid(parsed_val, 'envelope_for'):\n",
    "    main_domain = parsed_val['envelope_for'].split('@')[-1]\n",
    "    main_domain = main_domain.split('.')[-2:]\n",
    "    main_domain = main_domain[0] + '.' + re.sub('\\W+','', main_domain[1])\n",
    "    return main_domain.lower()\n",
    "  else:\n",
    "    return 'NA'"
   ]
  },
  {
   "cell_type": "code",
   "execution_count": 170,
   "metadata": {
    "id": "jHj1N-NkNrkc"
   },
   "outputs": [],
   "source": [
    "def check_for_received_domain_equal(row, field_name):\n",
    "  field_vals = row[field_name]\n",
    "\n",
    "  for item in field_vals:\n",
    "    if item == get_for_domain_last_received(row):\n",
    "      return 1\n",
    "  return 0"
   ]
  },
  {
   "cell_type": "code",
   "execution_count": 171,
   "metadata": {
    "colab": {
     "base_uri": "https://localhost:8080/"
    },
    "id": "fUhS9HCvNTFf",
    "outputId": "6648d101-a89e-4b5c-baaf-70a45a6e381a"
   },
   "outputs": [
    {
     "data": {
      "text/plain": [
       "1    49282\n",
       "0    27429\n",
       "Name: domain_match_to_received, dtype: int64"
      ]
     },
     "execution_count": 171,
     "metadata": {},
     "output_type": "execute_result"
    }
   ],
   "source": [
    "df['domain_match_to_received'] = df.apply(check_for_received_domain_equal, field_name='to_domains', axis=1)\n",
    "df['domain_match_to_received'].value_counts()"
   ]
  },
  {
   "cell_type": "code",
   "execution_count": 172,
   "metadata": {
    "colab": {
     "base_uri": "https://localhost:8080/"
    },
    "id": "LvyByWjsOXbm",
    "outputId": "afbd3157-e1af-431c-b911-7ad77fa9a323"
   },
   "outputs": [
    {
     "data": {
      "text/plain": [
       "0    76547\n",
       "1      164\n",
       "Name: domain_match_reply-to_received, dtype: int64"
      ]
     },
     "execution_count": 172,
     "metadata": {},
     "output_type": "execute_result"
    }
   ],
   "source": [
    "df['domain_match_reply-to_received'] = df.apply(check_for_received_domain_equal, field_name='reply-to_domains', axis=1)\n",
    "df['domain_match_reply-to_received'].value_counts()"
   ]
  },
  {
   "cell_type": "code",
   "execution_count": 173,
   "metadata": {
    "id": "93a18cBa2sch"
   },
   "outputs": [],
   "source": [
    "def get_from_domain_first_received(row):\n",
    "  first_received_val = row['first_received']\n",
    "  parsed_val = parser.parse(first_received_val)\n",
    "\n",
    "  domains_list = []\n",
    "  if check_if_valid(parsed_val, 'from_hostname'):\n",
    "    if len(parsed_val['from_hostname'].split('@')) == 2:\n",
    "\n",
    "      main_domain = parsed_val['from_hostname'].split('@')[-1]\n",
    "      if len(main_domain.split('.')) >= 2:\n",
    "        main_domain = main_domain.split('.')[-2:]\n",
    "        main_domain = main_domain[0] + '.' + re.sub('\\W+','', main_domain[1])\n",
    "        domains_list.append(main_domain.lower())\n",
    "\n",
    "  if check_if_valid(parsed_val, 'from_name'):\n",
    "    if len(parsed_val['from_name'].split('@')) == 2:\n",
    "\n",
    "      main_domain = parsed_val['from_name'].split('@')[-1]\n",
    "      if len(main_domain.split('.')) >= 2:\n",
    "        main_domain = main_domain.split('.')[-2:]\n",
    "        main_domain = main_domain[0] + '.' + re.sub('\\W+','', main_domain[1])\n",
    "        domains_list.append(main_domain.lower())\n",
    "    \n",
    "  return domains_list"
   ]
  },
  {
   "cell_type": "code",
   "execution_count": 174,
   "metadata": {
    "id": "91riVhwPVxK6"
   },
   "outputs": [],
   "source": [
    "def check_received_from_domain_equal(row, field_name):\n",
    "  field_vals = row[field_name]\n",
    "\n",
    "  domains_list_check = get_from_domain_first_received(row)\n",
    "  \n",
    "  for item in field_vals:\n",
    "    for item2 in domains_list_check:\n",
    "      if item == item2:\n",
    "        return 1\n",
    "  return 0"
   ]
  },
  {
   "cell_type": "code",
   "execution_count": 175,
   "metadata": {
    "colab": {
     "base_uri": "https://localhost:8080/"
    },
    "id": "QMIBROR4VqVN",
    "outputId": "bd34ea52-afc3-4042-d525-f9768b1ab8e9"
   },
   "outputs": [
    {
     "data": {
      "text/plain": [
       "0    76649\n",
       "1       62\n",
       "Name: domain_match_from_received, dtype: int64"
      ]
     },
     "execution_count": 175,
     "metadata": {},
     "output_type": "execute_result"
    }
   ],
   "source": [
    "df['domain_match_from_received'] = df.apply(check_received_from_domain_equal, field_name='from_domains', axis=1)\n",
    "df['domain_match_from_received'].value_counts()"
   ]
  },
  {
   "cell_type": "code",
   "execution_count": 176,
   "metadata": {
    "colab": {
     "base_uri": "https://localhost:8080/"
    },
    "id": "V3zbgezOWD47",
    "outputId": "7b9cc1bf-67f4-41ce-e579-69f78822027c"
   },
   "outputs": [
    {
     "data": {
      "text/plain": [
       "0    76700\n",
       "1       11\n",
       "Name: domain_match_return-path_received, dtype: int64"
      ]
     },
     "execution_count": 176,
     "metadata": {},
     "output_type": "execute_result"
    }
   ],
   "source": [
    "df['domain_match_return-path_received'] = df.apply(check_received_from_domain_equal, field_name='return-path_domains', axis=1)\n",
    "df['domain_match_return-path_received'].value_counts()"
   ]
  },
  {
   "cell_type": "code",
   "execution_count": 177,
   "metadata": {
    "id": "o_OzfuZwban7"
   },
   "outputs": [],
   "source": [
    "final_features_list.extend(['domain_match_reply-to_received', 'domain_match_to_received', 'domain_match_return-path_received', 'domain_match_from_received'])"
   ]
  },
  {
   "cell_type": "markdown",
   "metadata": {},
   "source": [
    "# **Outputting the processed data:**"
   ]
  },
  {
   "cell_type": "code",
   "execution_count": 178,
   "metadata": {},
   "outputs": [
    {
     "name": "stdout",
     "output_type": "stream",
     "text": [
      "hops\n",
      "0    40356\n",
      "1    28618\n",
      "2     7737\n",
      "Name: hops, dtype: int64\n",
      "\n",
      "\n",
      "missing_received1\n",
      "0.0    76711\n",
      "Name: missing_received1, dtype: int64\n",
      "\n",
      "\n",
      "missing_received2\n",
      "0.0    67117\n",
      "1.0     9594\n",
      "Name: missing_received2, dtype: int64\n",
      "\n",
      "\n",
      "missing_received3\n",
      "1.0    40358\n",
      "0.0    36353\n",
      "Name: missing_received3, dtype: int64\n",
      "\n",
      "\n",
      "missing_received4\n",
      "1.0    59239\n",
      "0.0    17472\n",
      "Name: missing_received4, dtype: int64\n",
      "\n",
      "\n",
      "missing_received5\n",
      "1.0    65680\n",
      "0.0    11031\n",
      "Name: missing_received5, dtype: int64\n",
      "\n",
      "\n",
      "missing_received6\n",
      "1.0    68974\n",
      "0.0     7737\n",
      "Name: missing_received6, dtype: int64\n",
      "\n",
      "\n",
      "missing_received7\n",
      "1.0    72988\n",
      "0.0     3723\n",
      "Name: missing_received7, dtype: int64\n",
      "\n",
      "\n",
      "missing_received8\n",
      "1.0    74060\n",
      "0.0     2651\n",
      "Name: missing_received8, dtype: int64\n",
      "\n",
      "\n",
      "missing_received9\n",
      "1.0    74953\n",
      "0.0     1758\n",
      "Name: missing_received9, dtype: int64\n",
      "\n",
      "\n",
      "missing_received10\n",
      "1.0    75381\n",
      "0.0     1330\n",
      "Name: missing_received10, dtype: int64\n",
      "\n",
      "\n",
      "missing_received11\n",
      "1.0    76458\n",
      "0.0      253\n",
      "Name: missing_received11, dtype: int64\n",
      "\n",
      "\n",
      "missing_received12\n",
      "1.0    76589\n",
      "0.0      122\n",
      "Name: missing_received12, dtype: int64\n",
      "\n",
      "\n",
      "missing_received13\n",
      "1.0    76636\n",
      "0.0       75\n",
      "Name: missing_received13, dtype: int64\n",
      "\n",
      "\n",
      "missing_received14\n",
      "1.0    76637\n",
      "0.0       74\n",
      "Name: missing_received14, dtype: int64\n",
      "\n",
      "\n",
      "missing_received15\n",
      "1.0    76637\n",
      "0.0       74\n",
      "Name: missing_received15, dtype: int64\n",
      "\n",
      "\n",
      "missing_received16\n",
      "1.0    76637\n",
      "0.0       74\n",
      "Name: missing_received16, dtype: int64\n",
      "\n",
      "\n",
      "missing_subject\n",
      "0.0    75916\n",
      "1.0      795\n",
      "Name: missing_subject, dtype: int64\n",
      "\n",
      "\n",
      "missing_date\n",
      "0.0    76686\n",
      "1.0       25\n",
      "Name: missing_date, dtype: int64\n",
      "\n",
      "\n",
      "missing_message-id\n",
      "0.0    76423\n",
      "1.0      288\n",
      "Name: missing_message-id, dtype: int64\n",
      "\n",
      "\n",
      "missing_from\n",
      "0.0    76711\n",
      "Name: missing_from, dtype: int64\n",
      "\n",
      "\n",
      "missing_return-path\n",
      "0.0    76711\n",
      "Name: missing_return-path, dtype: int64\n",
      "\n",
      "\n",
      "missing_to\n",
      "0.0    76059\n",
      "1.0      652\n",
      "Name: missing_to, dtype: int64\n",
      "\n",
      "\n",
      "missing_content-type\n",
      "0.0    74617\n",
      "1.0     2094\n",
      "Name: missing_content-type, dtype: int64\n",
      "\n",
      "\n",
      "missing_mime-version\n",
      "0.0    69374\n",
      "1.0     7337\n",
      "Name: missing_mime-version, dtype: int64\n",
      "\n",
      "\n",
      "missing_x-mailer\n",
      "0.0    41864\n",
      "1.0    34847\n",
      "Name: missing_x-mailer, dtype: int64\n",
      "\n",
      "\n",
      "missing_content-transfer-encoding\n",
      "1.0    42502\n",
      "0.0    34209\n",
      "Name: missing_content-transfer-encoding, dtype: int64\n",
      "\n",
      "\n",
      "missing_x-mimeole\n",
      "1.0    48074\n",
      "0.0    28637\n",
      "Name: missing_x-mimeole, dtype: int64\n",
      "\n",
      "\n",
      "missing_x-priority\n",
      "1.0    49378\n",
      "0.0    27333\n",
      "Name: missing_x-priority, dtype: int64\n",
      "\n",
      "\n",
      "missing_list-id\n",
      "1.0    55450\n",
      "0.0    21261\n",
      "Name: missing_list-id, dtype: int64\n",
      "\n",
      "\n",
      "missing_lines\n",
      "1.0    49911\n",
      "0.0    26800\n",
      "Name: missing_lines, dtype: int64\n",
      "\n",
      "\n",
      "missing_x-virus-scanned\n",
      "1.0    52900\n",
      "0.0    23811\n",
      "Name: missing_x-virus-scanned, dtype: int64\n",
      "\n",
      "\n",
      "missing_status\n",
      "1.0    49233\n",
      "0.0    27478\n",
      "Name: missing_status, dtype: int64\n",
      "\n",
      "\n",
      "missing_content-length\n",
      "1.0    50553\n",
      "0.0    26158\n",
      "Name: missing_content-length, dtype: int64\n",
      "\n",
      "\n",
      "missing_precedence\n",
      "1.0    54553\n",
      "0.0    22158\n",
      "Name: missing_precedence, dtype: int64\n",
      "\n",
      "\n",
      "missing_delivered-to\n",
      "1.0    64768\n",
      "0.0    11943\n",
      "Name: missing_delivered-to, dtype: int64\n",
      "\n",
      "\n",
      "missing_list-unsubscribe\n",
      "1.0    54962\n",
      "0.0    21749\n",
      "Name: missing_list-unsubscribe, dtype: int64\n",
      "\n",
      "\n",
      "missing_list-subscribe\n",
      "1.0    55417\n",
      "0.0    21294\n",
      "Name: missing_list-subscribe, dtype: int64\n",
      "\n",
      "\n",
      "missing_list-post\n",
      "1.0    55467\n",
      "0.0    21244\n",
      "Name: missing_list-post, dtype: int64\n",
      "\n",
      "\n",
      "missing_list-help\n",
      "1.0    55467\n",
      "0.0    21244\n",
      "Name: missing_list-help, dtype: int64\n",
      "\n",
      "\n",
      "missing_x-msmail-priority\n",
      "1.0    57990\n",
      "0.0    18721\n",
      "Name: missing_x-msmail-priority, dtype: int64\n",
      "\n",
      "\n",
      "missing_x-spam-status\n",
      "1.0    59244\n",
      "0.0    17467\n",
      "Name: missing_x-spam-status, dtype: int64\n",
      "\n",
      "\n",
      "missing_sender\n",
      "1.0    60052\n",
      "0.0    16659\n",
      "Name: missing_sender, dtype: int64\n",
      "\n",
      "\n",
      "missing_errors-to\n",
      "1.0    60682\n",
      "0.0    16029\n",
      "Name: missing_errors-to, dtype: int64\n",
      "\n",
      "\n",
      "missing_x-beenthere\n",
      "1.0    61413\n",
      "0.0    15298\n",
      "Name: missing_x-beenthere, dtype: int64\n",
      "\n",
      "\n",
      "missing_list-archive\n",
      "1.0    61460\n",
      "0.0    15251\n",
      "Name: missing_list-archive, dtype: int64\n",
      "\n",
      "\n",
      "missing_reply-to\n",
      "1.0    60265\n",
      "0.0    16446\n",
      "Name: missing_reply-to, dtype: int64\n",
      "\n",
      "\n",
      "missing_x-mailman-version\n",
      "1.0    61942\n",
      "0.0    14769\n",
      "Name: missing_x-mailman-version, dtype: int64\n",
      "\n",
      "\n",
      "missing_x-miltered\n",
      "1.0    61078\n",
      "0.0    15633\n",
      "Name: missing_x-miltered, dtype: int64\n",
      "\n",
      "\n",
      "missing_x-uuid\n",
      "1.0    61090\n",
      "0.0    15621\n",
      "Name: missing_x-uuid, dtype: int64\n",
      "\n",
      "\n",
      "missing_x-virus-status\n",
      "1.0    61209\n",
      "0.0    15502\n",
      "Name: missing_x-virus-status, dtype: int64\n",
      "\n",
      "\n",
      "missing_x-spam-level\n",
      "1.0    74593\n",
      "0.0     2118\n",
      "Name: missing_x-spam-level, dtype: int64\n",
      "\n",
      "\n",
      "missing_x-spam-checker-version\n",
      "1.0    64139\n",
      "0.0    12572\n",
      "Name: missing_x-spam-checker-version, dtype: int64\n",
      "\n",
      "\n",
      "missing_references\n",
      "1.0    65054\n",
      "0.0    11657\n",
      "Name: missing_references, dtype: int64\n",
      "\n",
      "\n",
      "missing_in-reply-to\n",
      "1.0    65235\n",
      "0.0    11476\n",
      "Name: missing_in-reply-to, dtype: int64\n",
      "\n",
      "\n",
      "missing_user-agent\n",
      "1.0    67302\n",
      "0.0     9409\n",
      "Name: missing_user-agent, dtype: int64\n",
      "\n",
      "\n",
      "missing_thread-index\n",
      "1.0    66109\n",
      "0.0    10602\n",
      "Name: missing_thread-index, dtype: int64\n",
      "\n",
      "\n",
      "missing_cc\n",
      "1.0    68609\n",
      "0.0     8102\n",
      "Name: missing_cc, dtype: int64\n",
      "\n",
      "\n",
      "missing_received-spf\n",
      "1.0    72093\n",
      "0.0     4618\n",
      "Name: missing_received-spf, dtype: int64\n",
      "\n",
      "\n",
      "missing_x-original-to\n",
      "1.0    69869\n",
      "0.0     6842\n",
      "Name: missing_x-original-to, dtype: int64\n",
      "\n",
      "\n",
      "missing_content-disposition\n",
      "1.0    70564\n",
      "0.0     6147\n",
      "Name: missing_content-disposition, dtype: int64\n",
      "\n",
      "\n",
      "missing_mailing-list\n",
      "1.0    72201\n",
      "0.0     4510\n",
      "Name: missing_mailing-list, dtype: int64\n",
      "\n",
      "\n",
      "missing_x-spam-check-by\n",
      "1.0    72207\n",
      "0.0     4504\n",
      "Name: missing_x-spam-check-by, dtype: int64\n",
      "\n",
      "\n",
      "missing_domainkey-signature\n",
      "1.0    72837\n",
      "0.0     3874\n",
      "Name: missing_domainkey-signature, dtype: int64\n",
      "\n",
      "\n",
      "missing_importance\n",
      "1.0    72752\n",
      "0.0     3959\n",
      "Name: missing_importance, dtype: int64\n",
      "\n",
      "\n",
      "missing_x-mailing-list\n",
      "1.0    73085\n",
      "0.0     3626\n",
      "Name: missing_x-mailing-list, dtype: int64\n",
      "\n",
      "\n",
      "content-encoding-val\n",
      "1    43965\n",
      "0    32746\n",
      "Name: content-encoding-val, dtype: int64\n",
      "\n",
      "\n",
      "received_str_forged\n",
      "0    69014\n",
      "1     7697\n",
      "Name: received_str_forged, dtype: int64\n",
      "\n",
      "\n",
      "str_content-encoding_empty\n",
      "1.0    42502\n",
      "0.0    34209\n",
      "Name: str_content-encoding_empty, dtype: int64\n",
      "\n",
      "\n",
      "str_from_question\n",
      "0.0    75587\n",
      "1.0     1124\n",
      "Name: str_from_question, dtype: int64\n",
      "\n",
      "\n",
      "str_from_exclam\n",
      "0.0    76571\n",
      "1.0      140\n",
      "Name: str_from_exclam, dtype: int64\n",
      "\n",
      "\n",
      "str_from_chevron\n",
      "1.0    72682\n",
      "0.0     4029\n",
      "Name: str_from_chevron, dtype: int64\n",
      "\n",
      "\n",
      "str_to_chevron\n",
      "1.0    39175\n",
      "0.0    37536\n",
      "Name: str_to_chevron, dtype: int64\n",
      "\n",
      "\n",
      "str_to_undisclosed\n",
      "0.0    76695\n",
      "1.0       16\n",
      "Name: str_to_undisclosed, dtype: int64\n",
      "\n",
      "\n",
      "str_to_empty\n",
      "0.0    76059\n",
      "1.0      652\n",
      "Name: str_to_empty, dtype: int64\n",
      "\n",
      "\n",
      "str_message-ID_dollar\n",
      "0.0    51816\n",
      "1.0    24895\n",
      "Name: str_message-ID_dollar, dtype: int64\n",
      "\n",
      "\n",
      "str_return-path_bounce\n",
      "0.0    61225\n",
      "1.0    15486\n",
      "Name: str_return-path_bounce, dtype: int64\n",
      "\n",
      "\n",
      "str_return-path_empty\n",
      "0.0    76711\n",
      "Name: str_return-path_empty, dtype: int64\n",
      "\n",
      "\n",
      "str_reply-to_question\n",
      "0.0    76692\n",
      "1.0       19\n",
      "Name: str_reply-to_question, dtype: int64\n",
      "\n",
      "\n",
      "str_received-SPF_bad\n",
      "0.0    76711\n",
      "Name: str_received-SPF_bad, dtype: int64\n",
      "\n",
      "\n",
      "str_received-SPF_softfail\n",
      "0.0    76700\n",
      "1.0       11\n",
      "Name: str_received-SPF_softfail, dtype: int64\n",
      "\n",
      "\n",
      "str_received-SPF_fail\n",
      "0.0    76673\n",
      "1.0       38\n",
      "Name: str_received-SPF_fail, dtype: int64\n",
      "\n",
      "\n",
      "str_content-type_texthtml\n",
      "0.0    64457\n",
      "1.0    12254\n",
      "Name: str_content-type_texthtml, dtype: int64\n",
      "\n",
      "\n",
      "str_precedence_list\n",
      "0.0    61703\n",
      "1.0    15008\n",
      "Name: str_precedence_list, dtype: int64\n",
      "\n",
      "\n",
      "length_from\n",
      "1    39704\n",
      "0    37007\n",
      "Name: length_from, dtype: int64\n",
      "\n",
      "\n",
      "num_recipients_to\n",
      "1    72866\n",
      "2     2843\n",
      "0     1002\n",
      "Name: num_recipients_to, dtype: int64\n",
      "\n",
      "\n",
      "num_recipients_cc\n",
      "0    68663\n",
      "1     5535\n",
      "2     2513\n",
      "Name: num_recipients_cc, dtype: int64\n",
      "\n",
      "\n",
      "num_recipients_from\n",
      "1    76307\n",
      "2      322\n",
      "0       82\n",
      "Name: num_recipients_from, dtype: int64\n",
      "\n",
      "\n",
      "number_replies\n",
      "1    65684\n",
      "0    11027\n",
      "Name: number_replies, dtype: int64\n",
      "\n",
      "\n",
      "time_zone\n",
      "0    61457\n",
      "1    15254\n",
      "Name: time_zone, dtype: int64\n",
      "\n",
      "\n",
      "x-priority\n",
      "0    50454\n",
      "1    26257\n",
      "Name: x-priority, dtype: int64\n",
      "\n",
      "\n",
      "content-length\n",
      "0    50577\n",
      "4     8789\n",
      "2     6575\n",
      "1     6483\n",
      "3     4287\n",
      "Name: content-length, dtype: int64\n",
      "\n",
      "\n",
      "lines\n",
      "0    49935\n",
      "3     6871\n",
      "4     6860\n",
      "2     6703\n",
      "1     6342\n",
      "Name: lines, dtype: int64\n",
      "\n",
      "\n",
      "day_of_week\n",
      "5    13306\n",
      "3    11910\n",
      "4    11817\n",
      "2    11726\n",
      "1    11228\n",
      "6     8004\n",
      "7     7957\n",
      "0      763\n",
      "Name: day_of_week, dtype: int64\n",
      "\n",
      "\n",
      "date_comp_date_received\n",
      "1    52700\n",
      "0    24011\n",
      "Name: date_comp_date_received, dtype: int64\n",
      "\n",
      "\n",
      "span_time\n",
      "1    21702\n",
      "0    17513\n",
      "2    12702\n",
      "3    12422\n",
      "4    12372\n",
      "Name: span_time, dtype: int64\n",
      "\n",
      "\n",
      "conseq_num_received_is_one\n",
      "0    48093\n",
      "1    28618\n",
      "Name: conseq_num_received_is_one, dtype: int64\n",
      "\n",
      "\n",
      "conseq_received_good\n",
      "1    45932\n",
      "0    30779\n",
      "Name: conseq_received_good, dtype: int64\n",
      "\n",
      "\n",
      "conseq_received_bad\n",
      "0    74562\n",
      "1     2149\n",
      "Name: conseq_received_bad, dtype: int64\n",
      "\n",
      "\n",
      "conseq_received_unknown\n",
      "0    76699\n",
      "1       12\n",
      "Name: conseq_received_unknown, dtype: int64\n",
      "\n",
      "\n",
      "conseq_received_date\n",
      "0    69120\n",
      "1     7591\n",
      "Name: conseq_received_date, dtype: int64\n",
      "\n",
      "\n",
      "email_match_from_reply-to\n",
      "0    67734\n",
      "1     8977\n",
      "Name: email_match_from_reply-to, dtype: int64\n",
      "\n",
      "\n",
      "domain_val_message-id\n",
      "0    70666\n",
      "1     6045\n",
      "Name: domain_val_message-id, dtype: int64\n",
      "\n",
      "\n",
      "domain_match_message-id_from\n",
      "0    45203\n",
      "1    31508\n",
      "Name: domain_match_message-id_from, dtype: int64\n",
      "\n",
      "\n",
      "domain_match_from_return-path\n",
      "1    51277\n",
      "0    25434\n",
      "Name: domain_match_from_return-path, dtype: int64\n",
      "\n",
      "\n",
      "domain_match_message-id_return-path\n",
      "0    52519\n",
      "1    24192\n",
      "Name: domain_match_message-id_return-path, dtype: int64\n",
      "\n",
      "\n",
      "domain_match_message-id_sender\n",
      "0    72837\n",
      "1     3874\n",
      "Name: domain_match_message-id_sender, dtype: int64\n",
      "\n",
      "\n",
      "domain_match_message-id_reply-to\n",
      "0    67747\n",
      "1     8964\n",
      "Name: domain_match_message-id_reply-to, dtype: int64\n",
      "\n",
      "\n",
      "domain_match_return-path_reply-to\n",
      "0    63665\n",
      "1    13046\n",
      "Name: domain_match_return-path_reply-to, dtype: int64\n",
      "\n",
      "\n",
      "domain_match_reply-to_to\n",
      "0    71582\n",
      "1     5129\n",
      "Name: domain_match_reply-to_to, dtype: int64\n",
      "\n",
      "\n",
      "domain_match_to_in-reply-to\n",
      "0    71705\n",
      "1     5006\n",
      "Name: domain_match_to_in-reply-to, dtype: int64\n",
      "\n",
      "\n",
      "domain_match_errors-to_message-id\n",
      "0    72773\n",
      "1     3938\n",
      "Name: domain_match_errors-to_message-id, dtype: int64\n",
      "\n",
      "\n",
      "domain_match_errors-to_from\n",
      "0    72229\n",
      "1     4482\n",
      "Name: domain_match_errors-to_from, dtype: int64\n",
      "\n",
      "\n",
      "domain_match_errors-to_sender\n",
      "0    61412\n",
      "1    15299\n",
      "Name: domain_match_errors-to_sender, dtype: int64\n",
      "\n",
      "\n",
      "domain_match_errors-to_reply-to\n",
      "0    71719\n",
      "1     4992\n",
      "Name: domain_match_errors-to_reply-to, dtype: int64\n",
      "\n",
      "\n",
      "domain_match_sender_from\n",
      "0    72295\n",
      "1     4416\n",
      "Name: domain_match_sender_from, dtype: int64\n",
      "\n",
      "\n",
      "domain_match_references_reply-to\n",
      "0    75948\n",
      "1      763\n",
      "Name: domain_match_references_reply-to, dtype: int64\n",
      "\n",
      "\n",
      "domain_match_references_in-reply-to\n",
      "0    67120\n",
      "1     9591\n",
      "Name: domain_match_references_in-reply-to, dtype: int64\n",
      "\n",
      "\n",
      "domain_match_references_to\n",
      "0    71532\n",
      "1     5179\n",
      "Name: domain_match_references_to, dtype: int64\n",
      "\n",
      "\n",
      "domain_match_from_reply-to\n",
      "0    63517\n",
      "1    13194\n",
      "Name: domain_match_from_reply-to, dtype: int64\n",
      "\n",
      "\n",
      "domain_match_to_from\n",
      "0    70150\n",
      "1     6561\n",
      "Name: domain_match_to_from, dtype: int64\n",
      "\n",
      "\n",
      "domain_match_to_message-id\n",
      "0    67291\n",
      "1     9420\n",
      "Name: domain_match_to_message-id, dtype: int64\n",
      "\n",
      "\n",
      "domain_match_reply-to_received\n",
      "0    76547\n",
      "1      164\n",
      "Name: domain_match_reply-to_received, dtype: int64\n",
      "\n",
      "\n",
      "domain_match_to_received\n",
      "1    49282\n",
      "0    27429\n",
      "Name: domain_match_to_received, dtype: int64\n",
      "\n",
      "\n",
      "domain_match_return-path_received\n",
      "0    76700\n",
      "1       11\n",
      "Name: domain_match_return-path_received, dtype: int64\n",
      "\n",
      "\n",
      "domain_match_from_received\n",
      "0    76649\n",
      "1       62\n",
      "Name: domain_match_from_received, dtype: int64\n",
      "\n",
      "\n"
     ]
    }
   ],
   "source": [
    "for item in final_features_list:\n",
    "  print(item)\n",
    "  print(df[item].value_counts())\n",
    "  print('\\n')"
   ]
  },
  {
   "cell_type": "code",
   "execution_count": 179,
   "metadata": {},
   "outputs": [
    {
     "data": {
      "text/plain": [
       "1.0    23378\n",
       "0.0    13362\n",
       "2.0      792\n",
       "           4\n",
       "Name: label, dtype: int64"
      ]
     },
     "execution_count": 179,
     "metadata": {},
     "output_type": "execute_result"
    }
   ],
   "source": [
    "df[df['str_to_chevron'] == 0]['label'].value_counts()"
   ]
  },
  {
   "cell_type": "code",
   "execution_count": 180,
   "metadata": {},
   "outputs": [],
   "source": [
    "# Removes missing_received fields since received1 is always there, and the other ones\n",
    "# encode the same information as 'hops'. The other removed features have only one value,\n",
    "# or a strong majority towards one value.\n",
    "remove_list = ['missing_received1', 'missing_received2', 'missing_received3',\n",
    " 'missing_received4', 'missing_received5', 'missing_received6',\n",
    " 'missing_received7', 'missing_received8', 'missing_received9',\n",
    " 'missing_received10', 'missing_received11', 'missing_received12',\n",
    " 'missing_received13', 'missing_received14', 'missing_received15',\n",
    " 'missing_received16', 'missing_date', 'missing_message-id', 'missing_from',\n",
    " 'missing_return-path', 'str_to_undisclosed', 'str_return-path_empty',\n",
    " 'str_from_exclam', 'str_reply-to_question', 'str_received-SPF_bad', \n",
    " 'str_received-SPF_softfail', 'str_received-SPF_fail', 'str_reply-to_question', \n",
    " 'conseq_received_unknown', 'num_recipients_from', \n",
    " 'domain_match_reply-to_received', 'domain_match_return-path_received',\n",
    " 'domain_match_from_received']\n",
    "\n",
    "for v in remove_list:\n",
    "  if v in final_features_list:\n",
    "    final_features_list.remove(v)\n",
    "    \n",
    "final_features_list.append('label')"
   ]
  },
  {
   "cell_type": "code",
   "execution_count": 181,
   "metadata": {},
   "outputs": [],
   "source": [
    "df_final = df[final_features_list]"
   ]
  },
  {
   "cell_type": "code",
   "execution_count": 182,
   "metadata": {},
   "outputs": [
    {
     "data": {
      "text/plain": [
       "(76711, 95)"
      ]
     },
     "execution_count": 182,
     "metadata": {},
     "output_type": "execute_result"
    }
   ],
   "source": [
    "df_final.shape"
   ]
  },
  {
   "cell_type": "code",
   "execution_count": 183,
   "metadata": {},
   "outputs": [],
   "source": [
    "df_final.to_csv('preprocessed_spam_ham_phishing.csv', index=False)"
   ]
  }
 ],
 "metadata": {
  "colab": {
   "collapsed_sections": [
    "sCMEqns8jY-1",
    "F5A997Ekjh0E",
    "KvWjb8GwOM-y",
    "rJJ4WHSBFTWc",
    "nqHSyA4SyJ7K",
    "xhkNe2ql-cFP",
    "fMwsPWxpi2cG",
    "-_nEjwFOjUDI",
    "MyekmTK3q5TC",
    "RkQzXPCXUxme",
    "P1zXPP6trxSN",
    "iGZ561te2ONO",
    "rffvHbuzGO8c"
   ],
   "name": "Capstone Project - Email Headers.ipynb",
   "provenance": []
  },
  "kernelspec": {
   "display_name": "Python 3",
   "language": "python",
   "name": "python3"
  },
  "language_info": {
   "codemirror_mode": {
    "name": "ipython",
    "version": 3
   },
   "file_extension": ".py",
   "mimetype": "text/x-python",
   "name": "python",
   "nbconvert_exporter": "python",
   "pygments_lexer": "ipython3",
   "version": "3.8.5"
  }
 },
 "nbformat": 4,
 "nbformat_minor": 1
}
